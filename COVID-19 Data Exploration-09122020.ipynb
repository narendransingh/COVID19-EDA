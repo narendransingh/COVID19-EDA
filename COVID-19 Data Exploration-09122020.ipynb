{
 "cells": [
  {
   "cell_type": "markdown",
   "metadata": {},
   "source": [
    "# Fields Details:\n",
    "\n",
    "Date: The date of the record.\n",
    "\n",
    "CountryRegion: The name of the country/region. \n",
    "\n",
    "-alpha-3code: country code for that can be used for map visualization.\n",
    "\n",
    "Population: The population of the given country/region.\n",
    "\n",
    "TotalConfirmedCases: Cumulative confirmed cases.\n",
    "\n",
    "Total_Fatalities: Cumulative fatalities.\n",
    "\n",
    "TotalRecoveredCases: Cumulative recovered cases.\n",
    "\n",
    "NewConfirmedCases: Daily new confirmed cases.\n",
    "\n",
    "New_Fatalities: Daily new fatalities.\n",
    "\n",
    "NewRecoveredCases: Daily new recovered cases.\n",
    "\n",
    "RemainingConfirmedCases: Remaining infected cases which equal to (cumulative confirmed cases - cumulative recovered cases - cumulative fatalities)."
   ]
  },
  {
   "cell_type": "code",
   "execution_count": 2,
   "metadata": {},
   "outputs": [],
   "source": [
    "import pandas as pd\n",
    "import numpy as np\n",
    "import matplotlib.pyplot as plt\n",
    "import seaborn as sns\n",
    "import datetime as dt\n",
    "import plotly.express as px\n",
    "import plotly.graph_objs as go\n",
    "import plotly.io as pio\n",
    "import math \n",
    "%matplotlib inline"
   ]
  },
  {
   "cell_type": "code",
   "execution_count": 11,
   "metadata": {},
   "outputs": [],
   "source": [
    "df_code =pd.read_csv(\"wikipedia-iso-country-codes.csv\")"
   ]
  },
  {
   "cell_type": "code",
   "execution_count": 3,
   "metadata": {},
   "outputs": [
    {
     "data": {
      "text/html": [
       "<div>\n",
       "<style scoped>\n",
       "    .dataframe tbody tr th:only-of-type {\n",
       "        vertical-align: middle;\n",
       "    }\n",
       "\n",
       "    .dataframe tbody tr th {\n",
       "        vertical-align: top;\n",
       "    }\n",
       "\n",
       "    .dataframe thead th {\n",
       "        text-align: right;\n",
       "    }\n",
       "</style>\n",
       "<table border=\"1\" class=\"dataframe\">\n",
       "  <thead>\n",
       "    <tr style=\"text-align: right;\">\n",
       "      <th></th>\n",
       "      <th>Date</th>\n",
       "      <th>Country_Region</th>\n",
       "      <th>alpha-3_code</th>\n",
       "      <th>Population</th>\n",
       "      <th>Total_Confirmed_Cases</th>\n",
       "      <th>Total_Fatalities</th>\n",
       "      <th>Total_Recovered_Cases</th>\n",
       "      <th>New_Confirmed_Cases</th>\n",
       "      <th>New_Fatalities</th>\n",
       "      <th>New_Recovered_Cases</th>\n",
       "      <th>Remaining_Confirmed_Cases</th>\n",
       "    </tr>\n",
       "  </thead>\n",
       "  <tbody>\n",
       "    <tr>\n",
       "      <td>0</td>\n",
       "      <td>2020-01-22</td>\n",
       "      <td>Afghanistan</td>\n",
       "      <td>AFG</td>\n",
       "      <td>37172386</td>\n",
       "      <td>0</td>\n",
       "      <td>0</td>\n",
       "      <td>0</td>\n",
       "      <td>0</td>\n",
       "      <td>0</td>\n",
       "      <td>0</td>\n",
       "      <td>0</td>\n",
       "    </tr>\n",
       "    <tr>\n",
       "      <td>1</td>\n",
       "      <td>2020-01-22</td>\n",
       "      <td>Albania</td>\n",
       "      <td>ALB</td>\n",
       "      <td>2866376</td>\n",
       "      <td>0</td>\n",
       "      <td>0</td>\n",
       "      <td>0</td>\n",
       "      <td>0</td>\n",
       "      <td>0</td>\n",
       "      <td>0</td>\n",
       "      <td>0</td>\n",
       "    </tr>\n",
       "    <tr>\n",
       "      <td>2</td>\n",
       "      <td>2020-01-22</td>\n",
       "      <td>Algeria</td>\n",
       "      <td>DZA</td>\n",
       "      <td>42228429</td>\n",
       "      <td>0</td>\n",
       "      <td>0</td>\n",
       "      <td>0</td>\n",
       "      <td>0</td>\n",
       "      <td>0</td>\n",
       "      <td>0</td>\n",
       "      <td>0</td>\n",
       "    </tr>\n",
       "    <tr>\n",
       "      <td>3</td>\n",
       "      <td>2020-01-22</td>\n",
       "      <td>Andorra</td>\n",
       "      <td>AND</td>\n",
       "      <td>77006</td>\n",
       "      <td>0</td>\n",
       "      <td>0</td>\n",
       "      <td>0</td>\n",
       "      <td>0</td>\n",
       "      <td>0</td>\n",
       "      <td>0</td>\n",
       "      <td>0</td>\n",
       "    </tr>\n",
       "    <tr>\n",
       "      <td>4</td>\n",
       "      <td>2020-01-22</td>\n",
       "      <td>Angola</td>\n",
       "      <td>AGO</td>\n",
       "      <td>30809762</td>\n",
       "      <td>0</td>\n",
       "      <td>0</td>\n",
       "      <td>0</td>\n",
       "      <td>0</td>\n",
       "      <td>0</td>\n",
       "      <td>0</td>\n",
       "      <td>0</td>\n",
       "    </tr>\n",
       "  </tbody>\n",
       "</table>\n",
       "</div>"
      ],
      "text/plain": [
       "         Date Country_Region alpha-3_code  Population  Total_Confirmed_Cases  \\\n",
       "0  2020-01-22    Afghanistan          AFG    37172386                      0   \n",
       "1  2020-01-22        Albania          ALB     2866376                      0   \n",
       "2  2020-01-22        Algeria          DZA    42228429                      0   \n",
       "3  2020-01-22        Andorra          AND       77006                      0   \n",
       "4  2020-01-22         Angola          AGO    30809762                      0   \n",
       "\n",
       "   Total_Fatalities  Total_Recovered_Cases  New_Confirmed_Cases  \\\n",
       "0                 0                      0                    0   \n",
       "1                 0                      0                    0   \n",
       "2                 0                      0                    0   \n",
       "3                 0                      0                    0   \n",
       "4                 0                      0                    0   \n",
       "\n",
       "   New_Fatalities  New_Recovered_Cases  Remaining_Confirmed_Cases  \n",
       "0               0                    0                          0  \n",
       "1               0                    0                          0  \n",
       "2               0                    0                          0  \n",
       "3               0                    0                          0  \n",
       "4               0                    0                          0  "
      ]
     },
     "execution_count": 3,
     "metadata": {},
     "output_type": "execute_result"
    }
   ],
   "source": [
    "df = pd.read_csv(r'Country_Level_Info.csv')\n",
    "df.head()"
   ]
  },
  {
   "cell_type": "code",
   "execution_count": 4,
   "metadata": {},
   "outputs": [
    {
     "data": {
      "text/html": [
       "<div>\n",
       "<style scoped>\n",
       "    .dataframe tbody tr th:only-of-type {\n",
       "        vertical-align: middle;\n",
       "    }\n",
       "\n",
       "    .dataframe tbody tr th {\n",
       "        vertical-align: top;\n",
       "    }\n",
       "\n",
       "    .dataframe thead th {\n",
       "        text-align: right;\n",
       "    }\n",
       "</style>\n",
       "<table border=\"1\" class=\"dataframe\">\n",
       "  <thead>\n",
       "    <tr style=\"text-align: right;\">\n",
       "      <th></th>\n",
       "      <th>Date</th>\n",
       "      <th>Country_Region</th>\n",
       "      <th>alpha-3_code</th>\n",
       "      <th>Population</th>\n",
       "      <th>Total_Confirmed_Cases</th>\n",
       "      <th>Total_Fatalities</th>\n",
       "      <th>Total_Recovered_Cases</th>\n",
       "      <th>New_Confirmed_Cases</th>\n",
       "      <th>New_Fatalities</th>\n",
       "      <th>New_Recovered_Cases</th>\n",
       "      <th>Remaining_Confirmed_Cases</th>\n",
       "    </tr>\n",
       "  </thead>\n",
       "  <tbody>\n",
       "    <tr>\n",
       "      <td>43611</td>\n",
       "      <td>2020-09-09</td>\n",
       "      <td>West Bank and Gaza</td>\n",
       "      <td>NaN</td>\n",
       "      <td>4569087</td>\n",
       "      <td>27919</td>\n",
       "      <td>192</td>\n",
       "      <td>18466</td>\n",
       "      <td>556</td>\n",
       "      <td>2</td>\n",
       "      <td>687</td>\n",
       "      <td>9261</td>\n",
       "    </tr>\n",
       "    <tr>\n",
       "      <td>43612</td>\n",
       "      <td>2020-09-09</td>\n",
       "      <td>Western Sahara</td>\n",
       "      <td>ESH</td>\n",
       "      <td>597339</td>\n",
       "      <td>10</td>\n",
       "      <td>1</td>\n",
       "      <td>8</td>\n",
       "      <td>0</td>\n",
       "      <td>0</td>\n",
       "      <td>0</td>\n",
       "      <td>1</td>\n",
       "    </tr>\n",
       "    <tr>\n",
       "      <td>43613</td>\n",
       "      <td>2020-09-09</td>\n",
       "      <td>Yemen</td>\n",
       "      <td>YEM</td>\n",
       "      <td>29825964</td>\n",
       "      <td>1999</td>\n",
       "      <td>576</td>\n",
       "      <td>1209</td>\n",
       "      <td>5</td>\n",
       "      <td>0</td>\n",
       "      <td>6</td>\n",
       "      <td>214</td>\n",
       "    </tr>\n",
       "    <tr>\n",
       "      <td>43614</td>\n",
       "      <td>2020-09-09</td>\n",
       "      <td>Zambia</td>\n",
       "      <td>ZMB</td>\n",
       "      <td>17351822</td>\n",
       "      <td>13112</td>\n",
       "      <td>300</td>\n",
       "      <td>11839</td>\n",
       "      <td>160</td>\n",
       "      <td>3</td>\n",
       "      <td>52</td>\n",
       "      <td>973</td>\n",
       "    </tr>\n",
       "    <tr>\n",
       "      <td>43615</td>\n",
       "      <td>2020-09-09</td>\n",
       "      <td>Zimbabwe</td>\n",
       "      <td>ZWE</td>\n",
       "      <td>14439018</td>\n",
       "      <td>7429</td>\n",
       "      <td>222</td>\n",
       "      <td>5542</td>\n",
       "      <td>41</td>\n",
       "      <td>4</td>\n",
       "      <td>65</td>\n",
       "      <td>1665</td>\n",
       "    </tr>\n",
       "  </tbody>\n",
       "</table>\n",
       "</div>"
      ],
      "text/plain": [
       "             Date      Country_Region alpha-3_code  Population  \\\n",
       "43611  2020-09-09  West Bank and Gaza          NaN     4569087   \n",
       "43612  2020-09-09      Western Sahara          ESH      597339   \n",
       "43613  2020-09-09               Yemen          YEM    29825964   \n",
       "43614  2020-09-09              Zambia          ZMB    17351822   \n",
       "43615  2020-09-09            Zimbabwe          ZWE    14439018   \n",
       "\n",
       "       Total_Confirmed_Cases  Total_Fatalities  Total_Recovered_Cases  \\\n",
       "43611                  27919               192                  18466   \n",
       "43612                     10                 1                      8   \n",
       "43613                   1999               576                   1209   \n",
       "43614                  13112               300                  11839   \n",
       "43615                   7429               222                   5542   \n",
       "\n",
       "       New_Confirmed_Cases  New_Fatalities  New_Recovered_Cases  \\\n",
       "43611                  556               2                  687   \n",
       "43612                    0               0                    0   \n",
       "43613                    5               0                    6   \n",
       "43614                  160               3                   52   \n",
       "43615                   41               4                   65   \n",
       "\n",
       "       Remaining_Confirmed_Cases  \n",
       "43611                       9261  \n",
       "43612                          1  \n",
       "43613                        214  \n",
       "43614                        973  \n",
       "43615                       1665  "
      ]
     },
     "execution_count": 4,
     "metadata": {},
     "output_type": "execute_result"
    }
   ],
   "source": [
    "df.tail()"
   ]
  },
  {
   "cell_type": "code",
   "execution_count": 5,
   "metadata": {},
   "outputs": [
    {
     "data": {
      "text/plain": [
       "(43616, 11)"
      ]
     },
     "execution_count": 5,
     "metadata": {},
     "output_type": "execute_result"
    }
   ],
   "source": [
    "df.shape"
   ]
  },
  {
   "cell_type": "code",
   "execution_count": 5,
   "metadata": {},
   "outputs": [
    {
     "data": {
      "text/plain": [
       "Date                           0\n",
       "Country_Region                 0\n",
       "alpha-3_code                 928\n",
       "Population                     0\n",
       "Total_Confirmed_Cases          0\n",
       "Total_Fatalities               0\n",
       "Total_Recovered_Cases          0\n",
       "New_Confirmed_Cases            0\n",
       "New_Fatalities                 0\n",
       "New_Recovered_Cases            0\n",
       "Remaining_Confirmed_Cases      0\n",
       "dtype: int64"
      ]
     },
     "execution_count": 5,
     "metadata": {},
     "output_type": "execute_result"
    }
   ],
   "source": [
    "df.isna().sum()"
   ]
  },
  {
   "cell_type": "code",
   "execution_count": 6,
   "metadata": {},
   "outputs": [
    {
     "name": "stdout",
     "output_type": "stream",
     "text": [
      "<class 'pandas.core.frame.DataFrame'>\n",
      "RangeIndex: 43616 entries, 0 to 43615\n",
      "Data columns (total 11 columns):\n",
      "Date                         43616 non-null object\n",
      "Country_Region               43616 non-null object\n",
      "alpha-3_code                 42688 non-null object\n",
      "Population                   43616 non-null int64\n",
      "Total_Confirmed_Cases        43616 non-null int64\n",
      "Total_Fatalities             43616 non-null int64\n",
      "Total_Recovered_Cases        43616 non-null int64\n",
      "New_Confirmed_Cases          43616 non-null int64\n",
      "New_Fatalities               43616 non-null int64\n",
      "New_Recovered_Cases          43616 non-null int64\n",
      "Remaining_Confirmed_Cases    43616 non-null int64\n",
      "dtypes: int64(8), object(3)\n",
      "memory usage: 3.7+ MB\n"
     ]
    }
   ],
   "source": [
    "df.info()"
   ]
  },
  {
   "cell_type": "code",
   "execution_count": 7,
   "metadata": {},
   "outputs": [
    {
     "data": {
      "text/html": [
       "<div>\n",
       "<style scoped>\n",
       "    .dataframe tbody tr th:only-of-type {\n",
       "        vertical-align: middle;\n",
       "    }\n",
       "\n",
       "    .dataframe tbody tr th {\n",
       "        vertical-align: top;\n",
       "    }\n",
       "\n",
       "    .dataframe thead th {\n",
       "        text-align: right;\n",
       "    }\n",
       "</style>\n",
       "<table border=\"1\" class=\"dataframe\">\n",
       "  <thead>\n",
       "    <tr style=\"text-align: right;\">\n",
       "      <th></th>\n",
       "      <th>Population</th>\n",
       "      <th>Total_Confirmed_Cases</th>\n",
       "      <th>Total_Fatalities</th>\n",
       "      <th>Total_Recovered_Cases</th>\n",
       "      <th>New_Confirmed_Cases</th>\n",
       "      <th>New_Fatalities</th>\n",
       "      <th>New_Recovered_Cases</th>\n",
       "      <th>Remaining_Confirmed_Cases</th>\n",
       "    </tr>\n",
       "  </thead>\n",
       "  <tbody>\n",
       "    <tr>\n",
       "      <td>count</td>\n",
       "      <td>4.361600e+04</td>\n",
       "      <td>4.361600e+04</td>\n",
       "      <td>43616.000000</td>\n",
       "      <td>4.361600e+04</td>\n",
       "      <td>43616.000000</td>\n",
       "      <td>43616.000000</td>\n",
       "      <td>43616.000000</td>\n",
       "      <td>4.361600e+04</td>\n",
       "    </tr>\n",
       "    <tr>\n",
       "      <td>mean</td>\n",
       "      <td>4.018555e+07</td>\n",
       "      <td>4.149437e+04</td>\n",
       "      <td>1782.650105</td>\n",
       "      <td>2.336990e+04</td>\n",
       "      <td>638.842008</td>\n",
       "      <td>20.719140</td>\n",
       "      <td>430.500802</td>\n",
       "      <td>1.634182e+04</td>\n",
       "    </tr>\n",
       "    <tr>\n",
       "      <td>std</td>\n",
       "      <td>1.457857e+08</td>\n",
       "      <td>2.681014e+05</td>\n",
       "      <td>9952.784818</td>\n",
       "      <td>1.473482e+05</td>\n",
       "      <td>4068.070223</td>\n",
       "      <td>122.655982</td>\n",
       "      <td>3157.316711</td>\n",
       "      <td>1.384344e+05</td>\n",
       "    </tr>\n",
       "    <tr>\n",
       "      <td>min</td>\n",
       "      <td>8.010000e+02</td>\n",
       "      <td>0.000000e+00</td>\n",
       "      <td>0.000000</td>\n",
       "      <td>0.000000e+00</td>\n",
       "      <td>-10034.000000</td>\n",
       "      <td>-1918.000000</td>\n",
       "      <td>-16298.000000</td>\n",
       "      <td>-2.000000e+00</td>\n",
       "    </tr>\n",
       "    <tr>\n",
       "      <td>25%</td>\n",
       "      <td>2.245639e+06</td>\n",
       "      <td>1.000000e+01</td>\n",
       "      <td>0.000000</td>\n",
       "      <td>0.000000e+00</td>\n",
       "      <td>0.000000</td>\n",
       "      <td>0.000000</td>\n",
       "      <td>0.000000</td>\n",
       "      <td>2.000000e+00</td>\n",
       "    </tr>\n",
       "    <tr>\n",
       "      <td>50%</td>\n",
       "      <td>9.511516e+06</td>\n",
       "      <td>6.870000e+02</td>\n",
       "      <td>10.000000</td>\n",
       "      <td>1.750000e+02</td>\n",
       "      <td>6.000000</td>\n",
       "      <td>0.000000</td>\n",
       "      <td>0.000000</td>\n",
       "      <td>1.930000e+02</td>\n",
       "    </tr>\n",
       "    <tr>\n",
       "      <td>75%</td>\n",
       "      <td>2.956375e+07</td>\n",
       "      <td>7.846000e+03</td>\n",
       "      <td>159.000000</td>\n",
       "      <td>3.001000e+03</td>\n",
       "      <td>121.000000</td>\n",
       "      <td>2.000000</td>\n",
       "      <td>43.000000</td>\n",
       "      <td>2.458000e+03</td>\n",
       "    </tr>\n",
       "    <tr>\n",
       "      <td>max</td>\n",
       "      <td>1.392730e+09</td>\n",
       "      <td>6.361265e+06</td>\n",
       "      <td>190859.000000</td>\n",
       "      <td>3.611632e+06</td>\n",
       "      <td>95735.000000</td>\n",
       "      <td>4143.000000</td>\n",
       "      <td>140050.000000</td>\n",
       "      <td>3.782927e+06</td>\n",
       "    </tr>\n",
       "  </tbody>\n",
       "</table>\n",
       "</div>"
      ],
      "text/plain": [
       "         Population  Total_Confirmed_Cases  Total_Fatalities  \\\n",
       "count  4.361600e+04           4.361600e+04      43616.000000   \n",
       "mean   4.018555e+07           4.149437e+04       1782.650105   \n",
       "std    1.457857e+08           2.681014e+05       9952.784818   \n",
       "min    8.010000e+02           0.000000e+00          0.000000   \n",
       "25%    2.245639e+06           1.000000e+01          0.000000   \n",
       "50%    9.511516e+06           6.870000e+02         10.000000   \n",
       "75%    2.956375e+07           7.846000e+03        159.000000   \n",
       "max    1.392730e+09           6.361265e+06     190859.000000   \n",
       "\n",
       "       Total_Recovered_Cases  New_Confirmed_Cases  New_Fatalities  \\\n",
       "count           4.361600e+04         43616.000000    43616.000000   \n",
       "mean            2.336990e+04           638.842008       20.719140   \n",
       "std             1.473482e+05          4068.070223      122.655982   \n",
       "min             0.000000e+00        -10034.000000    -1918.000000   \n",
       "25%             0.000000e+00             0.000000        0.000000   \n",
       "50%             1.750000e+02             6.000000        0.000000   \n",
       "75%             3.001000e+03           121.000000        2.000000   \n",
       "max             3.611632e+06         95735.000000     4143.000000   \n",
       "\n",
       "       New_Recovered_Cases  Remaining_Confirmed_Cases  \n",
       "count         43616.000000               4.361600e+04  \n",
       "mean            430.500802               1.634182e+04  \n",
       "std            3157.316711               1.384344e+05  \n",
       "min          -16298.000000              -2.000000e+00  \n",
       "25%               0.000000               2.000000e+00  \n",
       "50%               0.000000               1.930000e+02  \n",
       "75%              43.000000               2.458000e+03  \n",
       "max          140050.000000               3.782927e+06  "
      ]
     },
     "execution_count": 7,
     "metadata": {},
     "output_type": "execute_result"
    }
   ],
   "source": [
    "df.describe(include='int')"
   ]
  },
  {
   "cell_type": "code",
   "execution_count": 8,
   "metadata": {},
   "outputs": [
    {
     "data": {
      "text/html": [
       "<div>\n",
       "<style scoped>\n",
       "    .dataframe tbody tr th:only-of-type {\n",
       "        vertical-align: middle;\n",
       "    }\n",
       "\n",
       "    .dataframe tbody tr th {\n",
       "        vertical-align: top;\n",
       "    }\n",
       "\n",
       "    .dataframe thead th {\n",
       "        text-align: right;\n",
       "    }\n",
       "</style>\n",
       "<table border=\"1\" class=\"dataframe\">\n",
       "  <thead>\n",
       "    <tr style=\"text-align: right;\">\n",
       "      <th></th>\n",
       "      <th>Date</th>\n",
       "      <th>Country_Region</th>\n",
       "      <th>alpha-3_code</th>\n",
       "    </tr>\n",
       "  </thead>\n",
       "  <tbody>\n",
       "    <tr>\n",
       "      <td>count</td>\n",
       "      <td>43616</td>\n",
       "      <td>43616</td>\n",
       "      <td>42688</td>\n",
       "    </tr>\n",
       "    <tr>\n",
       "      <td>unique</td>\n",
       "      <td>232</td>\n",
       "      <td>188</td>\n",
       "      <td>184</td>\n",
       "    </tr>\n",
       "    <tr>\n",
       "      <td>top</td>\n",
       "      <td>2020-01-23</td>\n",
       "      <td>Ecuador</td>\n",
       "      <td>HTI</td>\n",
       "    </tr>\n",
       "    <tr>\n",
       "      <td>freq</td>\n",
       "      <td>188</td>\n",
       "      <td>232</td>\n",
       "      <td>232</td>\n",
       "    </tr>\n",
       "  </tbody>\n",
       "</table>\n",
       "</div>"
      ],
      "text/plain": [
       "              Date Country_Region alpha-3_code\n",
       "count        43616          43616        42688\n",
       "unique         232            188          184\n",
       "top     2020-01-23        Ecuador          HTI\n",
       "freq           188            232          232"
      ]
     },
     "execution_count": 8,
     "metadata": {},
     "output_type": "execute_result"
    }
   ],
   "source": [
    "df.describe(include='object')"
   ]
  },
  {
   "cell_type": "code",
   "execution_count": 9,
   "metadata": {},
   "outputs": [
    {
     "data": {
      "text/html": [
       "<div>\n",
       "<style scoped>\n",
       "    .dataframe tbody tr th:only-of-type {\n",
       "        vertical-align: middle;\n",
       "    }\n",
       "\n",
       "    .dataframe tbody tr th {\n",
       "        vertical-align: top;\n",
       "    }\n",
       "\n",
       "    .dataframe thead th {\n",
       "        text-align: right;\n",
       "    }\n",
       "</style>\n",
       "<table border=\"1\" class=\"dataframe\">\n",
       "  <thead>\n",
       "    <tr style=\"text-align: right;\">\n",
       "      <th></th>\n",
       "      <th>Date</th>\n",
       "      <th>Country_Region</th>\n",
       "      <th>alpha-3_code</th>\n",
       "      <th>Population</th>\n",
       "      <th>Total_Confirmed_Cases</th>\n",
       "      <th>Total_Fatalities</th>\n",
       "      <th>Total_Recovered_Cases</th>\n",
       "      <th>New_Confirmed_Cases</th>\n",
       "      <th>New_Fatalities</th>\n",
       "      <th>New_Recovered_Cases</th>\n",
       "      <th>Remaining_Confirmed_Cases</th>\n",
       "    </tr>\n",
       "  </thead>\n",
       "  <tbody>\n",
       "    <tr>\n",
       "      <td>48</td>\n",
       "      <td>2020-01-22</td>\n",
       "      <td>Diamond Princess</td>\n",
       "      <td>NaN</td>\n",
       "      <td>3711</td>\n",
       "      <td>0</td>\n",
       "      <td>0</td>\n",
       "      <td>0</td>\n",
       "      <td>0</td>\n",
       "      <td>0</td>\n",
       "      <td>0</td>\n",
       "      <td>0</td>\n",
       "    </tr>\n",
       "    <tr>\n",
       "      <td>104</td>\n",
       "      <td>2020-01-22</td>\n",
       "      <td>MS Zaandam</td>\n",
       "      <td>NaN</td>\n",
       "      <td>1829</td>\n",
       "      <td>0</td>\n",
       "      <td>0</td>\n",
       "      <td>0</td>\n",
       "      <td>0</td>\n",
       "      <td>0</td>\n",
       "      <td>0</td>\n",
       "      <td>0</td>\n",
       "    </tr>\n",
       "    <tr>\n",
       "      <td>157</td>\n",
       "      <td>2020-01-22</td>\n",
       "      <td>South Sudan</td>\n",
       "      <td>NaN</td>\n",
       "      <td>11193725</td>\n",
       "      <td>0</td>\n",
       "      <td>0</td>\n",
       "      <td>0</td>\n",
       "      <td>0</td>\n",
       "      <td>0</td>\n",
       "      <td>0</td>\n",
       "      <td>0</td>\n",
       "    </tr>\n",
       "    <tr>\n",
       "      <td>183</td>\n",
       "      <td>2020-01-22</td>\n",
       "      <td>West Bank and Gaza</td>\n",
       "      <td>NaN</td>\n",
       "      <td>4569087</td>\n",
       "      <td>0</td>\n",
       "      <td>0</td>\n",
       "      <td>0</td>\n",
       "      <td>0</td>\n",
       "      <td>0</td>\n",
       "      <td>0</td>\n",
       "      <td>0</td>\n",
       "    </tr>\n",
       "    <tr>\n",
       "      <td>236</td>\n",
       "      <td>2020-01-23</td>\n",
       "      <td>Diamond Princess</td>\n",
       "      <td>NaN</td>\n",
       "      <td>3711</td>\n",
       "      <td>0</td>\n",
       "      <td>0</td>\n",
       "      <td>0</td>\n",
       "      <td>0</td>\n",
       "      <td>0</td>\n",
       "      <td>0</td>\n",
       "      <td>0</td>\n",
       "    </tr>\n",
       "    <tr>\n",
       "      <td>...</td>\n",
       "      <td>...</td>\n",
       "      <td>...</td>\n",
       "      <td>...</td>\n",
       "      <td>...</td>\n",
       "      <td>...</td>\n",
       "      <td>...</td>\n",
       "      <td>...</td>\n",
       "      <td>...</td>\n",
       "      <td>...</td>\n",
       "      <td>...</td>\n",
       "      <td>...</td>\n",
       "    </tr>\n",
       "    <tr>\n",
       "      <td>43423</td>\n",
       "      <td>2020-09-08</td>\n",
       "      <td>West Bank and Gaza</td>\n",
       "      <td>NaN</td>\n",
       "      <td>4569087</td>\n",
       "      <td>27363</td>\n",
       "      <td>190</td>\n",
       "      <td>17779</td>\n",
       "      <td>584</td>\n",
       "      <td>6</td>\n",
       "      <td>509</td>\n",
       "      <td>9394</td>\n",
       "    </tr>\n",
       "    <tr>\n",
       "      <td>43476</td>\n",
       "      <td>2020-09-09</td>\n",
       "      <td>Diamond Princess</td>\n",
       "      <td>NaN</td>\n",
       "      <td>3711</td>\n",
       "      <td>712</td>\n",
       "      <td>13</td>\n",
       "      <td>651</td>\n",
       "      <td>0</td>\n",
       "      <td>0</td>\n",
       "      <td>0</td>\n",
       "      <td>48</td>\n",
       "    </tr>\n",
       "    <tr>\n",
       "      <td>43532</td>\n",
       "      <td>2020-09-09</td>\n",
       "      <td>MS Zaandam</td>\n",
       "      <td>NaN</td>\n",
       "      <td>1829</td>\n",
       "      <td>9</td>\n",
       "      <td>2</td>\n",
       "      <td>0</td>\n",
       "      <td>0</td>\n",
       "      <td>0</td>\n",
       "      <td>0</td>\n",
       "      <td>7</td>\n",
       "    </tr>\n",
       "    <tr>\n",
       "      <td>43585</td>\n",
       "      <td>2020-09-09</td>\n",
       "      <td>South Sudan</td>\n",
       "      <td>NaN</td>\n",
       "      <td>11193725</td>\n",
       "      <td>2555</td>\n",
       "      <td>49</td>\n",
       "      <td>1290</td>\n",
       "      <td>3</td>\n",
       "      <td>0</td>\n",
       "      <td>0</td>\n",
       "      <td>1216</td>\n",
       "    </tr>\n",
       "    <tr>\n",
       "      <td>43611</td>\n",
       "      <td>2020-09-09</td>\n",
       "      <td>West Bank and Gaza</td>\n",
       "      <td>NaN</td>\n",
       "      <td>4569087</td>\n",
       "      <td>27919</td>\n",
       "      <td>192</td>\n",
       "      <td>18466</td>\n",
       "      <td>556</td>\n",
       "      <td>2</td>\n",
       "      <td>687</td>\n",
       "      <td>9261</td>\n",
       "    </tr>\n",
       "  </tbody>\n",
       "</table>\n",
       "<p>928 rows × 11 columns</p>\n",
       "</div>"
      ],
      "text/plain": [
       "             Date      Country_Region alpha-3_code  Population  \\\n",
       "48     2020-01-22    Diamond Princess          NaN        3711   \n",
       "104    2020-01-22          MS Zaandam          NaN        1829   \n",
       "157    2020-01-22         South Sudan          NaN    11193725   \n",
       "183    2020-01-22  West Bank and Gaza          NaN     4569087   \n",
       "236    2020-01-23    Diamond Princess          NaN        3711   \n",
       "...           ...                 ...          ...         ...   \n",
       "43423  2020-09-08  West Bank and Gaza          NaN     4569087   \n",
       "43476  2020-09-09    Diamond Princess          NaN        3711   \n",
       "43532  2020-09-09          MS Zaandam          NaN        1829   \n",
       "43585  2020-09-09         South Sudan          NaN    11193725   \n",
       "43611  2020-09-09  West Bank and Gaza          NaN     4569087   \n",
       "\n",
       "       Total_Confirmed_Cases  Total_Fatalities  Total_Recovered_Cases  \\\n",
       "48                         0                 0                      0   \n",
       "104                        0                 0                      0   \n",
       "157                        0                 0                      0   \n",
       "183                        0                 0                      0   \n",
       "236                        0                 0                      0   \n",
       "...                      ...               ...                    ...   \n",
       "43423                  27363               190                  17779   \n",
       "43476                    712                13                    651   \n",
       "43532                      9                 2                      0   \n",
       "43585                   2555                49                   1290   \n",
       "43611                  27919               192                  18466   \n",
       "\n",
       "       New_Confirmed_Cases  New_Fatalities  New_Recovered_Cases  \\\n",
       "48                       0               0                    0   \n",
       "104                      0               0                    0   \n",
       "157                      0               0                    0   \n",
       "183                      0               0                    0   \n",
       "236                      0               0                    0   \n",
       "...                    ...             ...                  ...   \n",
       "43423                  584               6                  509   \n",
       "43476                    0               0                    0   \n",
       "43532                    0               0                    0   \n",
       "43585                    3               0                    0   \n",
       "43611                  556               2                  687   \n",
       "\n",
       "       Remaining_Confirmed_Cases  \n",
       "48                             0  \n",
       "104                            0  \n",
       "157                            0  \n",
       "183                            0  \n",
       "236                            0  \n",
       "...                          ...  \n",
       "43423                       9394  \n",
       "43476                         48  \n",
       "43532                          7  \n",
       "43585                       1216  \n",
       "43611                       9261  \n",
       "\n",
       "[928 rows x 11 columns]"
      ]
     },
     "execution_count": 9,
     "metadata": {},
     "output_type": "execute_result"
    }
   ],
   "source": [
    "filtered_df = df[df['alpha-3_code'].isnull()]\n",
    "filtered_df"
   ]
  },
  {
   "cell_type": "code",
   "execution_count": 12,
   "metadata": {},
   "outputs": [
    {
     "data": {
      "text/plain": [
       "(246, 5)"
      ]
     },
     "execution_count": 12,
     "metadata": {},
     "output_type": "execute_result"
    }
   ],
   "source": [
    "df_code.shape"
   ]
  },
  {
   "cell_type": "code",
   "execution_count": 15,
   "metadata": {},
   "outputs": [
    {
     "data": {
      "text/plain": [
       "Diamond Princess      232\n",
       "West Bank and Gaza    232\n",
       "MS Zaandam            232\n",
       "South Sudan           232\n",
       "Name: Country_Region, dtype: int64"
      ]
     },
     "execution_count": 15,
     "metadata": {},
     "output_type": "execute_result"
    }
   ],
   "source": [
    "filtered_df['Country_Region'].value_counts()"
   ]
  },
  {
   "cell_type": "code",
   "execution_count": 6,
   "metadata": {},
   "outputs": [],
   "source": [
    "df=df.drop(['alpha-3_code'],axis=1)"
   ]
  },
  {
   "cell_type": "code",
   "execution_count": 7,
   "metadata": {},
   "outputs": [
    {
     "data": {
      "text/plain": [
       "Index(['Date', 'Country_Region', 'Population', 'Total_Confirmed_Cases',\n",
       "       'Total_Fatalities', 'Total_Recovered_Cases', 'New_Confirmed_Cases',\n",
       "       'New_Fatalities', 'New_Recovered_Cases', 'Remaining_Confirmed_Cases'],\n",
       "      dtype='object')"
      ]
     },
     "execution_count": 7,
     "metadata": {},
     "output_type": "execute_result"
    }
   ],
   "source": [
    "df.columns"
   ]
  },
  {
   "cell_type": "code",
   "execution_count": 8,
   "metadata": {},
   "outputs": [
    {
     "data": {
      "text/html": [
       "<div>\n",
       "<style scoped>\n",
       "    .dataframe tbody tr th:only-of-type {\n",
       "        vertical-align: middle;\n",
       "    }\n",
       "\n",
       "    .dataframe tbody tr th {\n",
       "        vertical-align: top;\n",
       "    }\n",
       "\n",
       "    .dataframe thead th {\n",
       "        text-align: right;\n",
       "    }\n",
       "</style>\n",
       "<table border=\"1\" class=\"dataframe\">\n",
       "  <thead>\n",
       "    <tr style=\"text-align: right;\">\n",
       "      <th></th>\n",
       "      <th>Population</th>\n",
       "      <th>Total_Confirmed_Cases</th>\n",
       "      <th>Total_Fatalities</th>\n",
       "      <th>Total_Recovered_Cases</th>\n",
       "      <th>New_Confirmed_Cases</th>\n",
       "      <th>New_Fatalities</th>\n",
       "      <th>New_Recovered_Cases</th>\n",
       "      <th>Remaining_Confirmed_Cases</th>\n",
       "    </tr>\n",
       "  </thead>\n",
       "  <tbody>\n",
       "    <tr>\n",
       "      <td>Population</td>\n",
       "      <td>1.000000</td>\n",
       "      <td>0.259290</td>\n",
       "      <td>0.217435</td>\n",
       "      <td>0.277514</td>\n",
       "      <td>0.342003</td>\n",
       "      <td>0.251084</td>\n",
       "      <td>0.310208</td>\n",
       "      <td>0.191143</td>\n",
       "    </tr>\n",
       "    <tr>\n",
       "      <td>Total_Confirmed_Cases</td>\n",
       "      <td>0.259290</td>\n",
       "      <td>1.000000</td>\n",
       "      <td>0.910088</td>\n",
       "      <td>0.910430</td>\n",
       "      <td>0.856601</td>\n",
       "      <td>0.611025</td>\n",
       "      <td>0.743492</td>\n",
       "      <td>0.902183</td>\n",
       "    </tr>\n",
       "    <tr>\n",
       "      <td>Total_Fatalities</td>\n",
       "      <td>0.217435</td>\n",
       "      <td>0.910088</td>\n",
       "      <td>1.000000</td>\n",
       "      <td>0.771829</td>\n",
       "      <td>0.762950</td>\n",
       "      <td>0.650529</td>\n",
       "      <td>0.612450</td>\n",
       "      <td>0.869114</td>\n",
       "    </tr>\n",
       "    <tr>\n",
       "      <td>Total_Recovered_Cases</td>\n",
       "      <td>0.277514</td>\n",
       "      <td>0.910430</td>\n",
       "      <td>0.771829</td>\n",
       "      <td>1.000000</td>\n",
       "      <td>0.811533</td>\n",
       "      <td>0.552228</td>\n",
       "      <td>0.823195</td>\n",
       "      <td>0.643320</td>\n",
       "    </tr>\n",
       "    <tr>\n",
       "      <td>New_Confirmed_Cases</td>\n",
       "      <td>0.342003</td>\n",
       "      <td>0.856601</td>\n",
       "      <td>0.762950</td>\n",
       "      <td>0.811533</td>\n",
       "      <td>1.000000</td>\n",
       "      <td>0.739548</td>\n",
       "      <td>0.835931</td>\n",
       "      <td>0.740312</td>\n",
       "    </tr>\n",
       "    <tr>\n",
       "      <td>New_Fatalities</td>\n",
       "      <td>0.251084</td>\n",
       "      <td>0.611025</td>\n",
       "      <td>0.650529</td>\n",
       "      <td>0.552228</td>\n",
       "      <td>0.739548</td>\n",
       "      <td>1.000000</td>\n",
       "      <td>0.581147</td>\n",
       "      <td>0.548797</td>\n",
       "    </tr>\n",
       "    <tr>\n",
       "      <td>New_Recovered_Cases</td>\n",
       "      <td>0.310208</td>\n",
       "      <td>0.743492</td>\n",
       "      <td>0.612450</td>\n",
       "      <td>0.823195</td>\n",
       "      <td>0.835931</td>\n",
       "      <td>0.581147</td>\n",
       "      <td>1.000000</td>\n",
       "      <td>0.519663</td>\n",
       "    </tr>\n",
       "    <tr>\n",
       "      <td>Remaining_Confirmed_Cases</td>\n",
       "      <td>0.191143</td>\n",
       "      <td>0.902183</td>\n",
       "      <td>0.869114</td>\n",
       "      <td>0.643320</td>\n",
       "      <td>0.740312</td>\n",
       "      <td>0.548797</td>\n",
       "      <td>0.519663</td>\n",
       "      <td>1.000000</td>\n",
       "    </tr>\n",
       "  </tbody>\n",
       "</table>\n",
       "</div>"
      ],
      "text/plain": [
       "                           Population  Total_Confirmed_Cases  \\\n",
       "Population                   1.000000               0.259290   \n",
       "Total_Confirmed_Cases        0.259290               1.000000   \n",
       "Total_Fatalities             0.217435               0.910088   \n",
       "Total_Recovered_Cases        0.277514               0.910430   \n",
       "New_Confirmed_Cases          0.342003               0.856601   \n",
       "New_Fatalities               0.251084               0.611025   \n",
       "New_Recovered_Cases          0.310208               0.743492   \n",
       "Remaining_Confirmed_Cases    0.191143               0.902183   \n",
       "\n",
       "                           Total_Fatalities  Total_Recovered_Cases  \\\n",
       "Population                         0.217435               0.277514   \n",
       "Total_Confirmed_Cases              0.910088               0.910430   \n",
       "Total_Fatalities                   1.000000               0.771829   \n",
       "Total_Recovered_Cases              0.771829               1.000000   \n",
       "New_Confirmed_Cases                0.762950               0.811533   \n",
       "New_Fatalities                     0.650529               0.552228   \n",
       "New_Recovered_Cases                0.612450               0.823195   \n",
       "Remaining_Confirmed_Cases          0.869114               0.643320   \n",
       "\n",
       "                           New_Confirmed_Cases  New_Fatalities  \\\n",
       "Population                            0.342003        0.251084   \n",
       "Total_Confirmed_Cases                 0.856601        0.611025   \n",
       "Total_Fatalities                      0.762950        0.650529   \n",
       "Total_Recovered_Cases                 0.811533        0.552228   \n",
       "New_Confirmed_Cases                   1.000000        0.739548   \n",
       "New_Fatalities                        0.739548        1.000000   \n",
       "New_Recovered_Cases                   0.835931        0.581147   \n",
       "Remaining_Confirmed_Cases             0.740312        0.548797   \n",
       "\n",
       "                           New_Recovered_Cases  Remaining_Confirmed_Cases  \n",
       "Population                            0.310208                   0.191143  \n",
       "Total_Confirmed_Cases                 0.743492                   0.902183  \n",
       "Total_Fatalities                      0.612450                   0.869114  \n",
       "Total_Recovered_Cases                 0.823195                   0.643320  \n",
       "New_Confirmed_Cases                   0.835931                   0.740312  \n",
       "New_Fatalities                        0.581147                   0.548797  \n",
       "New_Recovered_Cases                   1.000000                   0.519663  \n",
       "Remaining_Confirmed_Cases             0.519663                   1.000000  "
      ]
     },
     "execution_count": 8,
     "metadata": {},
     "output_type": "execute_result"
    }
   ],
   "source": [
    "df.corr()"
   ]
  },
  {
   "cell_type": "code",
   "execution_count": 9,
   "metadata": {},
   "outputs": [
    {
     "data": {
      "text/html": [
       "<div>\n",
       "<style scoped>\n",
       "    .dataframe tbody tr th:only-of-type {\n",
       "        vertical-align: middle;\n",
       "    }\n",
       "\n",
       "    .dataframe tbody tr th {\n",
       "        vertical-align: top;\n",
       "    }\n",
       "\n",
       "    .dataframe thead th {\n",
       "        text-align: right;\n",
       "    }\n",
       "</style>\n",
       "<table border=\"1\" class=\"dataframe\">\n",
       "  <thead>\n",
       "    <tr style=\"text-align: right;\">\n",
       "      <th></th>\n",
       "      <th>Population</th>\n",
       "      <th>Total_Confirmed_Cases</th>\n",
       "      <th>Total_Fatalities</th>\n",
       "      <th>Total_Recovered_Cases</th>\n",
       "      <th>New_Confirmed_Cases</th>\n",
       "      <th>New_Fatalities</th>\n",
       "      <th>New_Recovered_Cases</th>\n",
       "      <th>Remaining_Confirmed_Cases</th>\n",
       "    </tr>\n",
       "    <tr>\n",
       "      <th>Country_Region</th>\n",
       "      <th></th>\n",
       "      <th></th>\n",
       "      <th></th>\n",
       "      <th></th>\n",
       "      <th></th>\n",
       "      <th></th>\n",
       "      <th></th>\n",
       "      <th></th>\n",
       "    </tr>\n",
       "  </thead>\n",
       "  <tbody>\n",
       "    <tr>\n",
       "      <td>Afghanistan</td>\n",
       "      <td>37172386.0</td>\n",
       "      <td>15477.6164</td>\n",
       "      <td>469.4612</td>\n",
       "      <td>8681.0043</td>\n",
       "      <td>166.1379</td>\n",
       "      <td>6.1207</td>\n",
       "      <td>133.8276</td>\n",
       "      <td>6327.1509</td>\n",
       "    </tr>\n",
       "    <tr>\n",
       "      <td>Albania</td>\n",
       "      <td>2866376.0</td>\n",
       "      <td>2322.0690</td>\n",
       "      <td>69.1595</td>\n",
       "      <td>1310.5733</td>\n",
       "      <td>46.1379</td>\n",
       "      <td>1.3879</td>\n",
       "      <td>27.0862</td>\n",
       "      <td>942.3362</td>\n",
       "    </tr>\n",
       "    <tr>\n",
       "      <td>Algeria</td>\n",
       "      <td>42228429.0</td>\n",
       "      <td>12488.6853</td>\n",
       "      <td>599.5603</td>\n",
       "      <td>8425.0388</td>\n",
       "      <td>203.5172</td>\n",
       "      <td>6.8147</td>\n",
       "      <td>143.8750</td>\n",
       "      <td>3464.0862</td>\n",
       "    </tr>\n",
       "    <tr>\n",
       "      <td>Andorra</td>\n",
       "      <td>77006.0</td>\n",
       "      <td>605.6379</td>\n",
       "      <td>33.3621</td>\n",
       "      <td>462.4440</td>\n",
       "      <td>5.6078</td>\n",
       "      <td>0.2284</td>\n",
       "      <td>4.0431</td>\n",
       "      <td>109.8319</td>\n",
       "    </tr>\n",
       "    <tr>\n",
       "      <td>Angola</td>\n",
       "      <td>30809762.0</td>\n",
       "      <td>484.2672</td>\n",
       "      <td>21.3621</td>\n",
       "      <td>175.9914</td>\n",
       "      <td>13.3276</td>\n",
       "      <td>0.5431</td>\n",
       "      <td>5.3664</td>\n",
       "      <td>286.9138</td>\n",
       "    </tr>\n",
       "    <tr>\n",
       "      <td>...</td>\n",
       "      <td>...</td>\n",
       "      <td>...</td>\n",
       "      <td>...</td>\n",
       "      <td>...</td>\n",
       "      <td>...</td>\n",
       "      <td>...</td>\n",
       "      <td>...</td>\n",
       "      <td>...</td>\n",
       "    </tr>\n",
       "    <tr>\n",
       "      <td>West Bank and Gaza</td>\n",
       "      <td>4569087.0</td>\n",
       "      <td>4436.1250</td>\n",
       "      <td>29.3017</td>\n",
       "      <td>2320.1681</td>\n",
       "      <td>120.3405</td>\n",
       "      <td>0.8276</td>\n",
       "      <td>79.5948</td>\n",
       "      <td>2086.6552</td>\n",
       "    </tr>\n",
       "    <tr>\n",
       "      <td>Western Sahara</td>\n",
       "      <td>597339.0</td>\n",
       "      <td>5.7802</td>\n",
       "      <td>0.4612</td>\n",
       "      <td>4.3103</td>\n",
       "      <td>0.0431</td>\n",
       "      <td>0.0043</td>\n",
       "      <td>0.0345</td>\n",
       "      <td>1.0086</td>\n",
       "    </tr>\n",
       "    <tr>\n",
       "      <td>Yemen</td>\n",
       "      <td>29825964.0</td>\n",
       "      <td>644.4440</td>\n",
       "      <td>178.1293</td>\n",
       "      <td>296.9741</td>\n",
       "      <td>8.6164</td>\n",
       "      <td>2.4828</td>\n",
       "      <td>5.2112</td>\n",
       "      <td>169.3405</td>\n",
       "    </tr>\n",
       "    <tr>\n",
       "      <td>Zambia</td>\n",
       "      <td>17351822.0</td>\n",
       "      <td>2398.7198</td>\n",
       "      <td>58.1595</td>\n",
       "      <td>1963.3707</td>\n",
       "      <td>56.5172</td>\n",
       "      <td>1.2931</td>\n",
       "      <td>51.0302</td>\n",
       "      <td>377.1897</td>\n",
       "    </tr>\n",
       "    <tr>\n",
       "      <td>Zimbabwe</td>\n",
       "      <td>14439018.0</td>\n",
       "      <td>1243.7284</td>\n",
       "      <td>30.6078</td>\n",
       "      <td>685.1466</td>\n",
       "      <td>32.0216</td>\n",
       "      <td>0.9569</td>\n",
       "      <td>23.8879</td>\n",
       "      <td>527.9741</td>\n",
       "    </tr>\n",
       "  </tbody>\n",
       "</table>\n",
       "<p>188 rows × 8 columns</p>\n",
       "</div>"
      ],
      "text/plain": [
       "                    Population  Total_Confirmed_Cases  Total_Fatalities  \\\n",
       "Country_Region                                                            \n",
       "Afghanistan         37172386.0             15477.6164          469.4612   \n",
       "Albania              2866376.0              2322.0690           69.1595   \n",
       "Algeria             42228429.0             12488.6853          599.5603   \n",
       "Andorra                77006.0               605.6379           33.3621   \n",
       "Angola              30809762.0               484.2672           21.3621   \n",
       "...                        ...                    ...               ...   \n",
       "West Bank and Gaza   4569087.0              4436.1250           29.3017   \n",
       "Western Sahara        597339.0                 5.7802            0.4612   \n",
       "Yemen               29825964.0               644.4440          178.1293   \n",
       "Zambia              17351822.0              2398.7198           58.1595   \n",
       "Zimbabwe            14439018.0              1243.7284           30.6078   \n",
       "\n",
       "                    Total_Recovered_Cases  New_Confirmed_Cases  \\\n",
       "Country_Region                                                   \n",
       "Afghanistan                     8681.0043             166.1379   \n",
       "Albania                         1310.5733              46.1379   \n",
       "Algeria                         8425.0388             203.5172   \n",
       "Andorra                          462.4440               5.6078   \n",
       "Angola                           175.9914              13.3276   \n",
       "...                                   ...                  ...   \n",
       "West Bank and Gaza              2320.1681             120.3405   \n",
       "Western Sahara                     4.3103               0.0431   \n",
       "Yemen                            296.9741               8.6164   \n",
       "Zambia                          1963.3707              56.5172   \n",
       "Zimbabwe                         685.1466              32.0216   \n",
       "\n",
       "                    New_Fatalities  New_Recovered_Cases  \\\n",
       "Country_Region                                            \n",
       "Afghanistan                 6.1207             133.8276   \n",
       "Albania                     1.3879              27.0862   \n",
       "Algeria                     6.8147             143.8750   \n",
       "Andorra                     0.2284               4.0431   \n",
       "Angola                      0.5431               5.3664   \n",
       "...                            ...                  ...   \n",
       "West Bank and Gaza          0.8276              79.5948   \n",
       "Western Sahara              0.0043               0.0345   \n",
       "Yemen                       2.4828               5.2112   \n",
       "Zambia                      1.2931              51.0302   \n",
       "Zimbabwe                    0.9569              23.8879   \n",
       "\n",
       "                    Remaining_Confirmed_Cases  \n",
       "Country_Region                                 \n",
       "Afghanistan                         6327.1509  \n",
       "Albania                              942.3362  \n",
       "Algeria                             3464.0862  \n",
       "Andorra                              109.8319  \n",
       "Angola                               286.9138  \n",
       "...                                       ...  \n",
       "West Bank and Gaza                  2086.6552  \n",
       "Western Sahara                         1.0086  \n",
       "Yemen                                169.3405  \n",
       "Zambia                               377.1897  \n",
       "Zimbabwe                             527.9741  \n",
       "\n",
       "[188 rows x 8 columns]"
      ]
     },
     "execution_count": 9,
     "metadata": {},
     "output_type": "execute_result"
    }
   ],
   "source": [
    "df.groupby(['Country_Region']).mean().round(decimals=4)"
   ]
  },
  {
   "cell_type": "code",
   "execution_count": 10,
   "metadata": {},
   "outputs": [],
   "source": [
    "df['Date'] = pd.to_datetime(df['Date'],format='%Y/%m/%d')"
   ]
  },
  {
   "cell_type": "code",
   "execution_count": 11,
   "metadata": {},
   "outputs": [
    {
     "data": {
      "text/plain": [
       "dtype('<M8[ns]')"
      ]
     },
     "execution_count": 11,
     "metadata": {},
     "output_type": "execute_result"
    }
   ],
   "source": [
    "df['Date'].dtype"
   ]
  },
  {
   "cell_type": "code",
   "execution_count": 12,
   "metadata": {},
   "outputs": [],
   "source": [
    "df['Date_Month'] = df['Date'].map(lambda x: x.strftime('%m'))\n",
    "\n",
    "df['Date_Year'] = df['Date'].map(lambda x: x.strftime('%Y'))\n",
    "\n",
    "df['Date_Date'] = df['Date'].map(lambda x: x.strftime('%m%d'))\n",
    "\n",
    "#df"
   ]
  },
  {
   "cell_type": "code",
   "execution_count": 13,
   "metadata": {},
   "outputs": [
    {
     "data": {
      "text/plain": [
       "dtype('O')"
      ]
     },
     "execution_count": 13,
     "metadata": {},
     "output_type": "execute_result"
    }
   ],
   "source": [
    "df['Date_Month'].dtype"
   ]
  },
  {
   "cell_type": "code",
   "execution_count": 14,
   "metadata": {},
   "outputs": [],
   "source": [
    "df_filtered_country=df[df['Country_Region']=='India']\n",
    "\n",
    "#df_filtered_country#.sort_values('Total_Confirmed_Cases',ascending=False)\n",
    "\n",
    "#df_filtered_by_month=df[df['Date_Month']== '02']\n",
    "\n",
    "#df_filtered_month_country=df_filtered__by_month[df_filtered__by_month['Country_Region']== 'US']\n",
    "\n",
    "#df_filtered_month_country"
   ]
  },
  {
   "cell_type": "code",
   "execution_count": 15,
   "metadata": {},
   "outputs": [
    {
     "data": {
      "text/html": [
       "<div>\n",
       "<style scoped>\n",
       "    .dataframe tbody tr th:only-of-type {\n",
       "        vertical-align: middle;\n",
       "    }\n",
       "\n",
       "    .dataframe tbody tr th {\n",
       "        vertical-align: top;\n",
       "    }\n",
       "\n",
       "    .dataframe thead th {\n",
       "        text-align: right;\n",
       "    }\n",
       "</style>\n",
       "<table border=\"1\" class=\"dataframe\">\n",
       "  <thead>\n",
       "    <tr style=\"text-align: right;\">\n",
       "      <th></th>\n",
       "      <th></th>\n",
       "      <th>Date</th>\n",
       "      <th>Population</th>\n",
       "      <th>Total_Confirmed_Cases</th>\n",
       "      <th>Total_Fatalities</th>\n",
       "      <th>Total_Recovered_Cases</th>\n",
       "      <th>New_Confirmed_Cases</th>\n",
       "      <th>New_Fatalities</th>\n",
       "      <th>New_Recovered_Cases</th>\n",
       "      <th>Remaining_Confirmed_Cases</th>\n",
       "      <th>Date_Year</th>\n",
       "      <th>Date_Date</th>\n",
       "    </tr>\n",
       "    <tr>\n",
       "      <th>Date_Month</th>\n",
       "      <th>Country_Region</th>\n",
       "      <th></th>\n",
       "      <th></th>\n",
       "      <th></th>\n",
       "      <th></th>\n",
       "      <th></th>\n",
       "      <th></th>\n",
       "      <th></th>\n",
       "      <th></th>\n",
       "      <th></th>\n",
       "      <th></th>\n",
       "      <th></th>\n",
       "    </tr>\n",
       "  </thead>\n",
       "  <tbody>\n",
       "    <tr>\n",
       "      <td>01</td>\n",
       "      <td>India</td>\n",
       "      <td>2020-01-31</td>\n",
       "      <td>1352617328</td>\n",
       "      <td>1</td>\n",
       "      <td>0</td>\n",
       "      <td>0</td>\n",
       "      <td>1</td>\n",
       "      <td>0</td>\n",
       "      <td>0</td>\n",
       "      <td>1</td>\n",
       "      <td>2020</td>\n",
       "      <td>0131</td>\n",
       "    </tr>\n",
       "    <tr>\n",
       "      <td>02</td>\n",
       "      <td>India</td>\n",
       "      <td>2020-02-29</td>\n",
       "      <td>1352617328</td>\n",
       "      <td>3</td>\n",
       "      <td>0</td>\n",
       "      <td>3</td>\n",
       "      <td>1</td>\n",
       "      <td>0</td>\n",
       "      <td>3</td>\n",
       "      <td>3</td>\n",
       "      <td>2020</td>\n",
       "      <td>0229</td>\n",
       "    </tr>\n",
       "    <tr>\n",
       "      <td>03</td>\n",
       "      <td>India</td>\n",
       "      <td>2020-03-31</td>\n",
       "      <td>1352617328</td>\n",
       "      <td>1397</td>\n",
       "      <td>35</td>\n",
       "      <td>123</td>\n",
       "      <td>227</td>\n",
       "      <td>8</td>\n",
       "      <td>28</td>\n",
       "      <td>1239</td>\n",
       "      <td>2020</td>\n",
       "      <td>0331</td>\n",
       "    </tr>\n",
       "    <tr>\n",
       "      <td>04</td>\n",
       "      <td>India</td>\n",
       "      <td>2020-04-30</td>\n",
       "      <td>1352617328</td>\n",
       "      <td>34863</td>\n",
       "      <td>1154</td>\n",
       "      <td>9068</td>\n",
       "      <td>1893</td>\n",
       "      <td>75</td>\n",
       "      <td>702</td>\n",
       "      <td>24641</td>\n",
       "      <td>2020</td>\n",
       "      <td>0430</td>\n",
       "    </tr>\n",
       "    <tr>\n",
       "      <td>05</td>\n",
       "      <td>India</td>\n",
       "      <td>2020-05-31</td>\n",
       "      <td>1352617328</td>\n",
       "      <td>190609</td>\n",
       "      <td>5408</td>\n",
       "      <td>91852</td>\n",
       "      <td>8782</td>\n",
       "      <td>269</td>\n",
       "      <td>11707</td>\n",
       "      <td>93349</td>\n",
       "      <td>2020</td>\n",
       "      <td>0531</td>\n",
       "    </tr>\n",
       "    <tr>\n",
       "      <td>06</td>\n",
       "      <td>India</td>\n",
       "      <td>2020-06-30</td>\n",
       "      <td>1352617328</td>\n",
       "      <td>585481</td>\n",
       "      <td>17400</td>\n",
       "      <td>347912</td>\n",
       "      <td>19906</td>\n",
       "      <td>2003</td>\n",
       "      <td>13940</td>\n",
       "      <td>220169</td>\n",
       "      <td>2020</td>\n",
       "      <td>0630</td>\n",
       "    </tr>\n",
       "    <tr>\n",
       "      <td>07</td>\n",
       "      <td>India</td>\n",
       "      <td>2020-07-31</td>\n",
       "      <td>1352617328</td>\n",
       "      <td>1695988</td>\n",
       "      <td>36511</td>\n",
       "      <td>1094374</td>\n",
       "      <td>61242</td>\n",
       "      <td>1129</td>\n",
       "      <td>39026</td>\n",
       "      <td>565103</td>\n",
       "      <td>2020</td>\n",
       "      <td>0731</td>\n",
       "    </tr>\n",
       "    <tr>\n",
       "      <td>08</td>\n",
       "      <td>India</td>\n",
       "      <td>2020-08-31</td>\n",
       "      <td>1352617328</td>\n",
       "      <td>3691166</td>\n",
       "      <td>65288</td>\n",
       "      <td>2839882</td>\n",
       "      <td>85687</td>\n",
       "      <td>1115</td>\n",
       "      <td>66550</td>\n",
       "      <td>785996</td>\n",
       "      <td>2020</td>\n",
       "      <td>0831</td>\n",
       "    </tr>\n",
       "    <tr>\n",
       "      <td>09</td>\n",
       "      <td>India</td>\n",
       "      <td>2020-09-09</td>\n",
       "      <td>1352617328</td>\n",
       "      <td>4465863</td>\n",
       "      <td>75062</td>\n",
       "      <td>3471783</td>\n",
       "      <td>95735</td>\n",
       "      <td>1172</td>\n",
       "      <td>74894</td>\n",
       "      <td>919018</td>\n",
       "      <td>2020</td>\n",
       "      <td>0909</td>\n",
       "    </tr>\n",
       "  </tbody>\n",
       "</table>\n",
       "</div>"
      ],
      "text/plain": [
       "                                Date  Population  Total_Confirmed_Cases  \\\n",
       "Date_Month Country_Region                                                 \n",
       "01         India          2020-01-31  1352617328                      1   \n",
       "02         India          2020-02-29  1352617328                      3   \n",
       "03         India          2020-03-31  1352617328                   1397   \n",
       "04         India          2020-04-30  1352617328                  34863   \n",
       "05         India          2020-05-31  1352617328                 190609   \n",
       "06         India          2020-06-30  1352617328                 585481   \n",
       "07         India          2020-07-31  1352617328                1695988   \n",
       "08         India          2020-08-31  1352617328                3691166   \n",
       "09         India          2020-09-09  1352617328                4465863   \n",
       "\n",
       "                           Total_Fatalities  Total_Recovered_Cases  \\\n",
       "Date_Month Country_Region                                            \n",
       "01         India                          0                      0   \n",
       "02         India                          0                      3   \n",
       "03         India                         35                    123   \n",
       "04         India                       1154                   9068   \n",
       "05         India                       5408                  91852   \n",
       "06         India                      17400                 347912   \n",
       "07         India                      36511                1094374   \n",
       "08         India                      65288                2839882   \n",
       "09         India                      75062                3471783   \n",
       "\n",
       "                           New_Confirmed_Cases  New_Fatalities  \\\n",
       "Date_Month Country_Region                                        \n",
       "01         India                             1               0   \n",
       "02         India                             1               0   \n",
       "03         India                           227               8   \n",
       "04         India                          1893              75   \n",
       "05         India                          8782             269   \n",
       "06         India                         19906            2003   \n",
       "07         India                         61242            1129   \n",
       "08         India                         85687            1115   \n",
       "09         India                         95735            1172   \n",
       "\n",
       "                           New_Recovered_Cases  Remaining_Confirmed_Cases  \\\n",
       "Date_Month Country_Region                                                   \n",
       "01         India                             0                          1   \n",
       "02         India                             3                          3   \n",
       "03         India                            28                       1239   \n",
       "04         India                           702                      24641   \n",
       "05         India                         11707                      93349   \n",
       "06         India                         13940                     220169   \n",
       "07         India                         39026                     565103   \n",
       "08         India                         66550                     785996   \n",
       "09         India                         74894                     919018   \n",
       "\n",
       "                          Date_Year Date_Date  \n",
       "Date_Month Country_Region                      \n",
       "01         India               2020      0131  \n",
       "02         India               2020      0229  \n",
       "03         India               2020      0331  \n",
       "04         India               2020      0430  \n",
       "05         India               2020      0531  \n",
       "06         India               2020      0630  \n",
       "07         India               2020      0731  \n",
       "08         India               2020      0831  \n",
       "09         India               2020      0909  "
      ]
     },
     "execution_count": 15,
     "metadata": {},
     "output_type": "execute_result"
    }
   ],
   "source": [
    "group_date_month = df_filtered_country.groupby(['Date_Month','Country_Region']).max()#.reset_index()\n",
    "\n",
    "group_date_month\n",
    "\n",
    "#group_date_month.get_group('Afghanistan')\n",
    "\n",
    "#group_date_month.(lambda x: x['Country_Region'] == 'Afghanistan')"
   ]
  },
  {
   "cell_type": "code",
   "execution_count": 16,
   "metadata": {},
   "outputs": [
    {
     "data": {
      "text/html": [
       "<div>\n",
       "<style scoped>\n",
       "    .dataframe tbody tr th:only-of-type {\n",
       "        vertical-align: middle;\n",
       "    }\n",
       "\n",
       "    .dataframe tbody tr th {\n",
       "        vertical-align: top;\n",
       "    }\n",
       "\n",
       "    .dataframe thead th {\n",
       "        text-align: right;\n",
       "    }\n",
       "</style>\n",
       "<table border=\"1\" class=\"dataframe\">\n",
       "  <thead>\n",
       "    <tr style=\"text-align: right;\">\n",
       "      <th></th>\n",
       "      <th></th>\n",
       "      <th>Date</th>\n",
       "      <th>Population</th>\n",
       "      <th>Total_Confirmed_Cases</th>\n",
       "      <th>Total_Fatalities</th>\n",
       "      <th>Total_Recovered_Cases</th>\n",
       "      <th>New_Confirmed_Cases</th>\n",
       "      <th>New_Fatalities</th>\n",
       "      <th>New_Recovered_Cases</th>\n",
       "      <th>Remaining_Confirmed_Cases</th>\n",
       "      <th>Date_Year</th>\n",
       "      <th>Date_Date</th>\n",
       "    </tr>\n",
       "    <tr>\n",
       "      <th>Date_Month</th>\n",
       "      <th>Country_Region</th>\n",
       "      <th></th>\n",
       "      <th></th>\n",
       "      <th></th>\n",
       "      <th></th>\n",
       "      <th></th>\n",
       "      <th></th>\n",
       "      <th></th>\n",
       "      <th></th>\n",
       "      <th></th>\n",
       "      <th></th>\n",
       "      <th></th>\n",
       "    </tr>\n",
       "  </thead>\n",
       "  <tbody>\n",
       "    <tr>\n",
       "      <td rowspan=\"5\" valign=\"top\">01</td>\n",
       "      <td>Afghanistan</td>\n",
       "      <td>2020-01-31</td>\n",
       "      <td>37172386</td>\n",
       "      <td>0</td>\n",
       "      <td>0</td>\n",
       "      <td>0</td>\n",
       "      <td>0</td>\n",
       "      <td>0</td>\n",
       "      <td>0</td>\n",
       "      <td>0</td>\n",
       "      <td>2020</td>\n",
       "      <td>0131</td>\n",
       "    </tr>\n",
       "    <tr>\n",
       "      <td>Albania</td>\n",
       "      <td>2020-01-31</td>\n",
       "      <td>2866376</td>\n",
       "      <td>0</td>\n",
       "      <td>0</td>\n",
       "      <td>0</td>\n",
       "      <td>0</td>\n",
       "      <td>0</td>\n",
       "      <td>0</td>\n",
       "      <td>0</td>\n",
       "      <td>2020</td>\n",
       "      <td>0131</td>\n",
       "    </tr>\n",
       "    <tr>\n",
       "      <td>Algeria</td>\n",
       "      <td>2020-01-31</td>\n",
       "      <td>42228429</td>\n",
       "      <td>0</td>\n",
       "      <td>0</td>\n",
       "      <td>0</td>\n",
       "      <td>0</td>\n",
       "      <td>0</td>\n",
       "      <td>0</td>\n",
       "      <td>0</td>\n",
       "      <td>2020</td>\n",
       "      <td>0131</td>\n",
       "    </tr>\n",
       "    <tr>\n",
       "      <td>Andorra</td>\n",
       "      <td>2020-01-31</td>\n",
       "      <td>77006</td>\n",
       "      <td>0</td>\n",
       "      <td>0</td>\n",
       "      <td>0</td>\n",
       "      <td>0</td>\n",
       "      <td>0</td>\n",
       "      <td>0</td>\n",
       "      <td>0</td>\n",
       "      <td>2020</td>\n",
       "      <td>0131</td>\n",
       "    </tr>\n",
       "    <tr>\n",
       "      <td>Angola</td>\n",
       "      <td>2020-01-31</td>\n",
       "      <td>30809762</td>\n",
       "      <td>0</td>\n",
       "      <td>0</td>\n",
       "      <td>0</td>\n",
       "      <td>0</td>\n",
       "      <td>0</td>\n",
       "      <td>0</td>\n",
       "      <td>0</td>\n",
       "      <td>2020</td>\n",
       "      <td>0131</td>\n",
       "    </tr>\n",
       "    <tr>\n",
       "      <td>...</td>\n",
       "      <td>...</td>\n",
       "      <td>...</td>\n",
       "      <td>...</td>\n",
       "      <td>...</td>\n",
       "      <td>...</td>\n",
       "      <td>...</td>\n",
       "      <td>...</td>\n",
       "      <td>...</td>\n",
       "      <td>...</td>\n",
       "      <td>...</td>\n",
       "      <td>...</td>\n",
       "      <td>...</td>\n",
       "    </tr>\n",
       "    <tr>\n",
       "      <td rowspan=\"5\" valign=\"top\">09</td>\n",
       "      <td>West Bank and Gaza</td>\n",
       "      <td>2020-09-09</td>\n",
       "      <td>4569087</td>\n",
       "      <td>27919</td>\n",
       "      <td>192</td>\n",
       "      <td>18466</td>\n",
       "      <td>671</td>\n",
       "      <td>7</td>\n",
       "      <td>687</td>\n",
       "      <td>9394</td>\n",
       "      <td>2020</td>\n",
       "      <td>0909</td>\n",
       "    </tr>\n",
       "    <tr>\n",
       "      <td>Western Sahara</td>\n",
       "      <td>2020-09-09</td>\n",
       "      <td>597339</td>\n",
       "      <td>10</td>\n",
       "      <td>1</td>\n",
       "      <td>8</td>\n",
       "      <td>0</td>\n",
       "      <td>0</td>\n",
       "      <td>0</td>\n",
       "      <td>1</td>\n",
       "      <td>2020</td>\n",
       "      <td>0909</td>\n",
       "    </tr>\n",
       "    <tr>\n",
       "      <td>Yemen</td>\n",
       "      <td>2020-09-09</td>\n",
       "      <td>29825964</td>\n",
       "      <td>1999</td>\n",
       "      <td>576</td>\n",
       "      <td>1209</td>\n",
       "      <td>14</td>\n",
       "      <td>4</td>\n",
       "      <td>29</td>\n",
       "      <td>232</td>\n",
       "      <td>2020</td>\n",
       "      <td>0909</td>\n",
       "    </tr>\n",
       "    <tr>\n",
       "      <td>Zambia</td>\n",
       "      <td>2020-09-09</td>\n",
       "      <td>17351822</td>\n",
       "      <td>13112</td>\n",
       "      <td>300</td>\n",
       "      <td>11839</td>\n",
       "      <td>284</td>\n",
       "      <td>3</td>\n",
       "      <td>96</td>\n",
       "      <td>973</td>\n",
       "      <td>2020</td>\n",
       "      <td>0909</td>\n",
       "    </tr>\n",
       "    <tr>\n",
       "      <td>Zimbabwe</td>\n",
       "      <td>2020-09-09</td>\n",
       "      <td>14439018</td>\n",
       "      <td>7429</td>\n",
       "      <td>222</td>\n",
       "      <td>5542</td>\n",
       "      <td>461</td>\n",
       "      <td>8</td>\n",
       "      <td>110</td>\n",
       "      <td>1693</td>\n",
       "      <td>2020</td>\n",
       "      <td>0909</td>\n",
       "    </tr>\n",
       "  </tbody>\n",
       "</table>\n",
       "<p>1692 rows × 11 columns</p>\n",
       "</div>"
      ],
      "text/plain": [
       "                                    Date  Population  Total_Confirmed_Cases  \\\n",
       "Date_Month Country_Region                                                     \n",
       "01         Afghanistan        2020-01-31    37172386                      0   \n",
       "           Albania            2020-01-31     2866376                      0   \n",
       "           Algeria            2020-01-31    42228429                      0   \n",
       "           Andorra            2020-01-31       77006                      0   \n",
       "           Angola             2020-01-31    30809762                      0   \n",
       "...                                  ...         ...                    ...   \n",
       "09         West Bank and Gaza 2020-09-09     4569087                  27919   \n",
       "           Western Sahara     2020-09-09      597339                     10   \n",
       "           Yemen              2020-09-09    29825964                   1999   \n",
       "           Zambia             2020-09-09    17351822                  13112   \n",
       "           Zimbabwe           2020-09-09    14439018                   7429   \n",
       "\n",
       "                               Total_Fatalities  Total_Recovered_Cases  \\\n",
       "Date_Month Country_Region                                                \n",
       "01         Afghanistan                        0                      0   \n",
       "           Albania                            0                      0   \n",
       "           Algeria                            0                      0   \n",
       "           Andorra                            0                      0   \n",
       "           Angola                             0                      0   \n",
       "...                                         ...                    ...   \n",
       "09         West Bank and Gaza               192                  18466   \n",
       "           Western Sahara                     1                      8   \n",
       "           Yemen                            576                   1209   \n",
       "           Zambia                           300                  11839   \n",
       "           Zimbabwe                         222                   5542   \n",
       "\n",
       "                               New_Confirmed_Cases  New_Fatalities  \\\n",
       "Date_Month Country_Region                                            \n",
       "01         Afghanistan                           0               0   \n",
       "           Albania                               0               0   \n",
       "           Algeria                               0               0   \n",
       "           Andorra                               0               0   \n",
       "           Angola                                0               0   \n",
       "...                                            ...             ...   \n",
       "09         West Bank and Gaza                  671               7   \n",
       "           Western Sahara                        0               0   \n",
       "           Yemen                                14               4   \n",
       "           Zambia                              284               3   \n",
       "           Zimbabwe                            461               8   \n",
       "\n",
       "                               New_Recovered_Cases  Remaining_Confirmed_Cases  \\\n",
       "Date_Month Country_Region                                                       \n",
       "01         Afghanistan                           0                          0   \n",
       "           Albania                               0                          0   \n",
       "           Algeria                               0                          0   \n",
       "           Andorra                               0                          0   \n",
       "           Angola                                0                          0   \n",
       "...                                            ...                        ...   \n",
       "09         West Bank and Gaza                  687                       9394   \n",
       "           Western Sahara                        0                          1   \n",
       "           Yemen                                29                        232   \n",
       "           Zambia                               96                        973   \n",
       "           Zimbabwe                            110                       1693   \n",
       "\n",
       "                              Date_Year Date_Date  \n",
       "Date_Month Country_Region                          \n",
       "01         Afghanistan             2020      0131  \n",
       "           Albania                 2020      0131  \n",
       "           Algeria                 2020      0131  \n",
       "           Andorra                 2020      0131  \n",
       "           Angola                  2020      0131  \n",
       "...                                 ...       ...  \n",
       "09         West Bank and Gaza      2020      0909  \n",
       "           Western Sahara          2020      0909  \n",
       "           Yemen                   2020      0909  \n",
       "           Zambia                  2020      0909  \n",
       "           Zimbabwe                2020      0909  \n",
       "\n",
       "[1692 rows x 11 columns]"
      ]
     },
     "execution_count": 16,
     "metadata": {},
     "output_type": "execute_result"
    }
   ],
   "source": [
    "# for whole dataset\n",
    "\n",
    "group_date_month = df.groupby(['Date_Month','Country_Region']).max()#.reset_index()\n",
    "\n",
    "#group_date_month.get_group('Afghanistan')\n",
    "\n",
    "#group_date_month.apply(lambda x: x['Country_Region'] == 'Afghanistan', axis=1)\n",
    "\n",
    "group_date_month"
   ]
  },
  {
   "cell_type": "code",
   "execution_count": 250,
   "metadata": {
    "scrolled": true
   },
   "outputs": [
    {
     "data": {
      "image/png": "[encoded data removed]",
      "text/plain": [
       "<Figure size 1800x1800 with 110 Axes>"
      ]
     },
     "metadata": {
      "needs_background": "light"
     },
     "output_type": "display_data"
    }
   ],
   "source": [
    "#ax = sns.pairplot(df)  # for all the columns\n",
    "\n",
    "ax = sns.pairplot(df[df['Country_Region']=='India']) # Comparing for one Country\n"
   ]
  },
  {
   "cell_type": "code",
   "execution_count": 26,
   "metadata": {},
   "outputs": [
    {
     "data": {
      "text/plain": [
       "(32900, 12)"
      ]
     },
     "execution_count": 26,
     "metadata": {},
     "output_type": "execute_result"
    }
   ],
   "source": [
    "df.shape"
   ]
  },
  {
   "cell_type": "markdown",
   "metadata": {},
   "source": [
    "# Feature Engineering"
   ]
  },
  {
   "cell_type": "code",
   "execution_count": 23,
   "metadata": {},
   "outputs": [
    {
     "data": {
      "text/html": [
       "<div>\n",
       "<style scoped>\n",
       "    .dataframe tbody tr th:only-of-type {\n",
       "        vertical-align: middle;\n",
       "    }\n",
       "\n",
       "    .dataframe tbody tr th {\n",
       "        vertical-align: top;\n",
       "    }\n",
       "\n",
       "    .dataframe thead th {\n",
       "        text-align: right;\n",
       "    }\n",
       "</style>\n",
       "<table border=\"1\" class=\"dataframe\">\n",
       "  <thead>\n",
       "    <tr style=\"text-align: right;\">\n",
       "      <th></th>\n",
       "      <th>Country_Region</th>\n",
       "      <th>Date</th>\n",
       "      <th>Population</th>\n",
       "      <th>Total_Confirmed_Cases</th>\n",
       "      <th>Total_Fatalities</th>\n",
       "      <th>Total_Recovered_Cases</th>\n",
       "      <th>New_Confirmed_Cases</th>\n",
       "      <th>New_Fatalities</th>\n",
       "      <th>New_Recovered_Cases</th>\n",
       "      <th>Remaining_Confirmed_Cases</th>\n",
       "      <th>Date_Month</th>\n",
       "      <th>Date_Year</th>\n",
       "      <th>Date_Date</th>\n",
       "    </tr>\n",
       "  </thead>\n",
       "  <tbody>\n",
       "    <tr>\n",
       "      <td>174</td>\n",
       "      <td>US</td>\n",
       "      <td>2020-09-09</td>\n",
       "      <td>327200000</td>\n",
       "      <td>6361265</td>\n",
       "      <td>190859</td>\n",
       "      <td>2387479</td>\n",
       "      <td>77255</td>\n",
       "      <td>2609</td>\n",
       "      <td>103921</td>\n",
       "      <td>3782927</td>\n",
       "      <td>09</td>\n",
       "      <td>2020</td>\n",
       "      <td>0909</td>\n",
       "    </tr>\n",
       "    <tr>\n",
       "      <td>79</td>\n",
       "      <td>India</td>\n",
       "      <td>2020-09-09</td>\n",
       "      <td>1352617328</td>\n",
       "      <td>4465863</td>\n",
       "      <td>75062</td>\n",
       "      <td>3471783</td>\n",
       "      <td>95735</td>\n",
       "      <td>2003</td>\n",
       "      <td>74894</td>\n",
       "      <td>919018</td>\n",
       "      <td>09</td>\n",
       "      <td>2020</td>\n",
       "      <td>0909</td>\n",
       "    </tr>\n",
       "    <tr>\n",
       "      <td>23</td>\n",
       "      <td>Brazil</td>\n",
       "      <td>2020-09-09</td>\n",
       "      <td>209469333</td>\n",
       "      <td>4197889</td>\n",
       "      <td>128539</td>\n",
       "      <td>3611632</td>\n",
       "      <td>69074</td>\n",
       "      <td>1595</td>\n",
       "      <td>140050</td>\n",
       "      <td>598313</td>\n",
       "      <td>09</td>\n",
       "      <td>2020</td>\n",
       "      <td>0909</td>\n",
       "    </tr>\n",
       "    <tr>\n",
       "      <td>140</td>\n",
       "      <td>Russia</td>\n",
       "      <td>2020-09-09</td>\n",
       "      <td>144478050</td>\n",
       "      <td>1037526</td>\n",
       "      <td>18080</td>\n",
       "      <td>854069</td>\n",
       "      <td>11656</td>\n",
       "      <td>232</td>\n",
       "      <td>12375</td>\n",
       "      <td>245382</td>\n",
       "      <td>09</td>\n",
       "      <td>2020</td>\n",
       "      <td>0909</td>\n",
       "    </tr>\n",
       "    <tr>\n",
       "      <td>134</td>\n",
       "      <td>Peru</td>\n",
       "      <td>2020-09-09</td>\n",
       "      <td>31989256</td>\n",
       "      <td>696190</td>\n",
       "      <td>30123</td>\n",
       "      <td>536959</td>\n",
       "      <td>21358</td>\n",
       "      <td>4143</td>\n",
       "      <td>18627</td>\n",
       "      <td>168092</td>\n",
       "      <td>09</td>\n",
       "      <td>2020</td>\n",
       "      <td>0909</td>\n",
       "    </tr>\n",
       "    <tr>\n",
       "      <td>37</td>\n",
       "      <td>Colombia</td>\n",
       "      <td>2020-09-09</td>\n",
       "      <td>49648685</td>\n",
       "      <td>686851</td>\n",
       "      <td>22053</td>\n",
       "      <td>552885</td>\n",
       "      <td>15318</td>\n",
       "      <td>442</td>\n",
       "      <td>23868</td>\n",
       "      <td>169326</td>\n",
       "      <td>09</td>\n",
       "      <td>2020</td>\n",
       "      <td>0909</td>\n",
       "    </tr>\n",
       "    <tr>\n",
       "      <td>113</td>\n",
       "      <td>Mexico</td>\n",
       "      <td>2020-09-09</td>\n",
       "      <td>126190788</td>\n",
       "      <td>647321</td>\n",
       "      <td>69049</td>\n",
       "      <td>538514</td>\n",
       "      <td>9556</td>\n",
       "      <td>1092</td>\n",
       "      <td>10915</td>\n",
       "      <td>53350</td>\n",
       "      <td>09</td>\n",
       "      <td>2020</td>\n",
       "      <td>0909</td>\n",
       "    </tr>\n",
       "    <tr>\n",
       "      <td>156</td>\n",
       "      <td>South Africa</td>\n",
       "      <td>2020-09-09</td>\n",
       "      <td>57779622</td>\n",
       "      <td>642431</td>\n",
       "      <td>15168</td>\n",
       "      <td>569935</td>\n",
       "      <td>13944</td>\n",
       "      <td>572</td>\n",
       "      <td>24117</td>\n",
       "      <td>173590</td>\n",
       "      <td>09</td>\n",
       "      <td>2020</td>\n",
       "      <td>0909</td>\n",
       "    </tr>\n",
       "    <tr>\n",
       "      <td>158</td>\n",
       "      <td>Spain</td>\n",
       "      <td>2020-09-09</td>\n",
       "      <td>46723749</td>\n",
       "      <td>543379</td>\n",
       "      <td>29628</td>\n",
       "      <td>150376</td>\n",
       "      <td>26560</td>\n",
       "      <td>1179</td>\n",
       "      <td>6399</td>\n",
       "      <td>363375</td>\n",
       "      <td>09</td>\n",
       "      <td>2020</td>\n",
       "      <td>0909</td>\n",
       "    </tr>\n",
       "    <tr>\n",
       "      <td>6</td>\n",
       "      <td>Argentina</td>\n",
       "      <td>2020-09-09</td>\n",
       "      <td>44494502</td>\n",
       "      <td>512293</td>\n",
       "      <td>10658</td>\n",
       "      <td>382490</td>\n",
       "      <td>12259</td>\n",
       "      <td>381</td>\n",
       "      <td>73147</td>\n",
       "      <td>140862</td>\n",
       "      <td>09</td>\n",
       "      <td>2020</td>\n",
       "      <td>0909</td>\n",
       "    </tr>\n",
       "    <tr>\n",
       "      <td>35</td>\n",
       "      <td>Chile</td>\n",
       "      <td>2020-09-09</td>\n",
       "      <td>18729160</td>\n",
       "      <td>427027</td>\n",
       "      <td>11702</td>\n",
       "      <td>399555</td>\n",
       "      <td>13990</td>\n",
       "      <td>1057</td>\n",
       "      <td>41227</td>\n",
       "      <td>82961</td>\n",
       "      <td>09</td>\n",
       "      <td>2020</td>\n",
       "      <td>0909</td>\n",
       "    </tr>\n",
       "    <tr>\n",
       "      <td>81</td>\n",
       "      <td>Iran</td>\n",
       "      <td>2020-09-09</td>\n",
       "      <td>81800269</td>\n",
       "      <td>393425</td>\n",
       "      <td>22669</td>\n",
       "      <td>339111</td>\n",
       "      <td>3574</td>\n",
       "      <td>235</td>\n",
       "      <td>6482</td>\n",
       "      <td>34887</td>\n",
       "      <td>09</td>\n",
       "      <td>2020</td>\n",
       "      <td>0909</td>\n",
       "    </tr>\n",
       "    <tr>\n",
       "      <td>62</td>\n",
       "      <td>France</td>\n",
       "      <td>2020-09-09</td>\n",
       "      <td>66987244</td>\n",
       "      <td>383292</td>\n",
       "      <td>30805</td>\n",
       "      <td>89242</td>\n",
       "      <td>26849</td>\n",
       "      <td>1438</td>\n",
       "      <td>2194</td>\n",
       "      <td>263245</td>\n",
       "      <td>09</td>\n",
       "      <td>2020</td>\n",
       "      <td>0909</td>\n",
       "    </tr>\n",
       "    <tr>\n",
       "      <td>178</td>\n",
       "      <td>United Kingdom</td>\n",
       "      <td>2020-09-09</td>\n",
       "      <td>66488991</td>\n",
       "      <td>357613</td>\n",
       "      <td>41683</td>\n",
       "      <td>1831</td>\n",
       "      <td>5505</td>\n",
       "      <td>1224</td>\n",
       "      <td>229</td>\n",
       "      <td>314099</td>\n",
       "      <td>09</td>\n",
       "      <td>2020</td>\n",
       "      <td>0909</td>\n",
       "    </tr>\n",
       "    <tr>\n",
       "      <td>13</td>\n",
       "      <td>Bangladesh</td>\n",
       "      <td>2020-09-09</td>\n",
       "      <td>161356039</td>\n",
       "      <td>331078</td>\n",
       "      <td>4593</td>\n",
       "      <td>230804</td>\n",
       "      <td>4019</td>\n",
       "      <td>64</td>\n",
       "      <td>17533</td>\n",
       "      <td>115779</td>\n",
       "      <td>09</td>\n",
       "      <td>2020</td>\n",
       "      <td>0909</td>\n",
       "    </tr>\n",
       "    <tr>\n",
       "      <td>147</td>\n",
       "      <td>Saudi Arabia</td>\n",
       "      <td>2020-09-09</td>\n",
       "      <td>33699947</td>\n",
       "      <td>323012</td>\n",
       "      <td>4165</td>\n",
       "      <td>298966</td>\n",
       "      <td>4919</td>\n",
       "      <td>58</td>\n",
       "      <td>7718</td>\n",
       "      <td>63026</td>\n",
       "      <td>09</td>\n",
       "      <td>2020</td>\n",
       "      <td>0909</td>\n",
       "    </tr>\n",
       "    <tr>\n",
       "      <td>130</td>\n",
       "      <td>Pakistan</td>\n",
       "      <td>2020-09-09</td>\n",
       "      <td>212215030</td>\n",
       "      <td>300030</td>\n",
       "      <td>6365</td>\n",
       "      <td>287658</td>\n",
       "      <td>12073</td>\n",
       "      <td>178</td>\n",
       "      <td>19772</td>\n",
       "      <td>108642</td>\n",
       "      <td>09</td>\n",
       "      <td>2020</td>\n",
       "      <td>0909</td>\n",
       "    </tr>\n",
       "    <tr>\n",
       "      <td>173</td>\n",
       "      <td>Turkey</td>\n",
       "      <td>2020-09-09</td>\n",
       "      <td>82319724</td>\n",
       "      <td>284943</td>\n",
       "      <td>6837</td>\n",
       "      <td>254188</td>\n",
       "      <td>5138</td>\n",
       "      <td>127</td>\n",
       "      <td>5231</td>\n",
       "      <td>80808</td>\n",
       "      <td>09</td>\n",
       "      <td>2020</td>\n",
       "      <td>0909</td>\n",
       "    </tr>\n",
       "    <tr>\n",
       "      <td>85</td>\n",
       "      <td>Italy</td>\n",
       "      <td>2020-09-09</td>\n",
       "      <td>60431283</td>\n",
       "      <td>281583</td>\n",
       "      <td>35577</td>\n",
       "      <td>211272</td>\n",
       "      <td>6557</td>\n",
       "      <td>919</td>\n",
       "      <td>8014</td>\n",
       "      <td>108257</td>\n",
       "      <td>09</td>\n",
       "      <td>2020</td>\n",
       "      <td>0909</td>\n",
       "    </tr>\n",
       "    <tr>\n",
       "      <td>82</td>\n",
       "      <td>Iraq</td>\n",
       "      <td>2020-09-09</td>\n",
       "      <td>38433600</td>\n",
       "      <td>273821</td>\n",
       "      <td>7732</td>\n",
       "      <td>209993</td>\n",
       "      <td>5036</td>\n",
       "      <td>122</td>\n",
       "      <td>4299</td>\n",
       "      <td>56096</td>\n",
       "      <td>09</td>\n",
       "      <td>2020</td>\n",
       "      <td>0909</td>\n",
       "    </tr>\n",
       "  </tbody>\n",
       "</table>\n",
       "</div>"
      ],
      "text/plain": [
       "     Country_Region       Date  Population  Total_Confirmed_Cases  \\\n",
       "174              US 2020-09-09   327200000                6361265   \n",
       "79            India 2020-09-09  1352617328                4465863   \n",
       "23           Brazil 2020-09-09   209469333                4197889   \n",
       "140          Russia 2020-09-09   144478050                1037526   \n",
       "134            Peru 2020-09-09    31989256                 696190   \n",
       "37         Colombia 2020-09-09    49648685                 686851   \n",
       "113          Mexico 2020-09-09   126190788                 647321   \n",
       "156    South Africa 2020-09-09    57779622                 642431   \n",
       "158           Spain 2020-09-09    46723749                 543379   \n",
       "6         Argentina 2020-09-09    44494502                 512293   \n",
       "35            Chile 2020-09-09    18729160                 427027   \n",
       "81             Iran 2020-09-09    81800269                 393425   \n",
       "62           France 2020-09-09    66987244                 383292   \n",
       "178  United Kingdom 2020-09-09    66488991                 357613   \n",
       "13       Bangladesh 2020-09-09   161356039                 331078   \n",
       "147    Saudi Arabia 2020-09-09    33699947                 323012   \n",
       "130        Pakistan 2020-09-09   212215030                 300030   \n",
       "173          Turkey 2020-09-09    82319724                 284943   \n",
       "85            Italy 2020-09-09    60431283                 281583   \n",
       "82             Iraq 2020-09-09    38433600                 273821   \n",
       "\n",
       "     Total_Fatalities  Total_Recovered_Cases  New_Confirmed_Cases  \\\n",
       "174            190859                2387479                77255   \n",
       "79              75062                3471783                95735   \n",
       "23             128539                3611632                69074   \n",
       "140             18080                 854069                11656   \n",
       "134             30123                 536959                21358   \n",
       "37              22053                 552885                15318   \n",
       "113             69049                 538514                 9556   \n",
       "156             15168                 569935                13944   \n",
       "158             29628                 150376                26560   \n",
       "6               10658                 382490                12259   \n",
       "35              11702                 399555                13990   \n",
       "81              22669                 339111                 3574   \n",
       "62              30805                  89242                26849   \n",
       "178             41683                   1831                 5505   \n",
       "13               4593                 230804                 4019   \n",
       "147              4165                 298966                 4919   \n",
       "130              6365                 287658                12073   \n",
       "173              6837                 254188                 5138   \n",
       "85              35577                 211272                 6557   \n",
       "82               7732                 209993                 5036   \n",
       "\n",
       "     New_Fatalities  New_Recovered_Cases  Remaining_Confirmed_Cases  \\\n",
       "174            2609               103921                    3782927   \n",
       "79             2003                74894                     919018   \n",
       "23             1595               140050                     598313   \n",
       "140             232                12375                     245382   \n",
       "134            4143                18627                     168092   \n",
       "37              442                23868                     169326   \n",
       "113            1092                10915                      53350   \n",
       "156             572                24117                     173590   \n",
       "158            1179                 6399                     363375   \n",
       "6               381                73147                     140862   \n",
       "35             1057                41227                      82961   \n",
       "81              235                 6482                      34887   \n",
       "62             1438                 2194                     263245   \n",
       "178            1224                  229                     314099   \n",
       "13               64                17533                     115779   \n",
       "147              58                 7718                      63026   \n",
       "130             178                19772                     108642   \n",
       "173             127                 5231                      80808   \n",
       "85              919                 8014                     108257   \n",
       "82              122                 4299                      56096   \n",
       "\n",
       "    Date_Month Date_Year Date_Date  \n",
       "174         09      2020      0909  \n",
       "79          09      2020      0909  \n",
       "23          09      2020      0909  \n",
       "140         09      2020      0909  \n",
       "134         09      2020      0909  \n",
       "37          09      2020      0909  \n",
       "113         09      2020      0909  \n",
       "156         09      2020      0909  \n",
       "158         09      2020      0909  \n",
       "6           09      2020      0909  \n",
       "35          09      2020      0909  \n",
       "81          09      2020      0909  \n",
       "62          09      2020      0909  \n",
       "178         09      2020      0909  \n",
       "13          09      2020      0909  \n",
       "147         09      2020      0909  \n",
       "130         09      2020      0909  \n",
       "173         09      2020      0909  \n",
       "85          09      2020      0909  \n",
       "82          09      2020      0909  "
      ]
     },
     "execution_count": 23,
     "metadata": {},
     "output_type": "execute_result"
    }
   ],
   "source": [
    "#Create sorted data table for Countries by Total confirmed Cases\n",
    "\n",
    "sorted_data=df.groupby('Country_Region').max().reset_index()\n",
    "\n",
    "sorted_data=sorted_data.sort_values('Total_Confirmed_Cases', ascending=False)\n",
    "\n",
    "sorted_data = sorted_data.head(20)\n",
    "\n",
    "sorted_data"
   ]
  },
  {
   "cell_type": "markdown",
   "metadata": {},
   "source": [
    "### Which countries has highest number of COVID cases in the world?"
   ]
  },
  {
   "cell_type": "code",
   "execution_count": 24,
   "metadata": {
    "scrolled": true
   },
   "outputs": [
    {
     "data": {
      "image/png": "[encoded data removed]",
      "text/plain": [
       "<Figure size 1800x576 with 1 Axes>"
      ]
     },
     "metadata": {
      "needs_background": "light"
     },
     "output_type": "display_data"
    }
   ],
   "source": [
    "# Create a plot\n",
    "\n",
    "plt.figure(figsize=(25,8))\n",
    "\n",
    "# Add title\n",
    "plt.title(\"Total cases by Country\")\n",
    "\n",
    "#grouped_data=df.groupby('Country_Region').sum().reset_index()\n",
    "\n",
    "#grouped_data=grouped_data.sort_values('Total_Confirmed_Cases', ascending=False)\n",
    "#grouped_data\n",
    "#y_pos = np.arange(len(bars))\n",
    "\n",
    "g = sns.barplot(x=\"Total_Confirmed_Cases\", y=\"Country_Region\", data=sorted_data,\n",
    "            color=\"b\",label=\"Total\")\n",
    "           \n",
    "    \n",
    "#label=\"Total\", aspect=.7,hue = \"Country_Region\",orient=\"v\" , #errcolor='.26'\n",
    "#sns.barplot(x = grouped_data['Total_Confirmed_Cases'], y=grouped_data)\n",
    "#df['Total_Confirmed_Cases'].sum()"
   ]
  },
  {
   "cell_type": "markdown",
   "metadata": {},
   "source": [
    "## What percentage is distrubution of COVID cases around the world?"
   ]
  },
  {
   "cell_type": "code",
   "execution_count": 94,
   "metadata": {},
   "outputs": [
    {
     "data": {
      "application/vnd.plotly.v1+json": {
       "config": {
        "plotlyServerURL": "https://plot.ly"
       },
       "data": [
        {
         "branchvalues": "remainder",
         "domain": {
          "x": [
           0,
           1
          ],
          "y": [
           0,
           1
          ]
         },
         "hovertemplate": "<b>%{hovertext}</b><br><br>labels=%{label}<br>Total_Confirmed_Cases=%{value}<br>parent=%{parent}<br>id=%{id}<extra></extra>",
         "hovertext": [
          "United Kingdom",
          "France",
          "Spain",
          "Iraq",
          "Italy",
          "Bangladesh",
          "Turkey",
          "Pakistan",
          "Saudi Arabia",
          "Iran",
          "Argentina",
          "Chile",
          "Peru",
          "Mexico",
          "Colombia",
          "South Africa",
          "Russia",
          "US",
          "India",
          "Brazil",
          "Iraq",
          "Italy",
          "Turkey",
          "Pakistan",
          "Saudi Arabia",
          "Bangladesh",
          "United Kingdom",
          "France",
          "Iran",
          "Chile",
          "Argentina",
          "Spain",
          "South Africa",
          "Mexico",
          "Colombia",
          "Peru",
          "Russia",
          "Brazil",
          "India",
          "US",
          "Argentina",
          "Bangladesh",
          "Brazil",
          "Chile",
          "Colombia",
          "France",
          "India",
          "Iran",
          "Iraq",
          "Italy",
          "Mexico",
          "Pakistan",
          "Peru",
          "Russia",
          "Saudi Arabia",
          "South Africa",
          "Spain",
          "Turkey",
          "US",
          "United Kingdom"
         ],
         "ids": [
          "United Kingdom/357613/1831",
          "France/383292/89242",
          "Spain/543379/150376",
          "Iraq/273821/209993",
          "Italy/281583/211272",
          "Bangladesh/331078/230804",
          "Turkey/284943/254188",
          "Pakistan/300030/287658",
          "Saudi Arabia/323012/298966",
          "Iran/393425/339111",
          "Argentina/512293/382490",
          "Chile/427027/399555",
          "Peru/696190/536959",
          "Mexico/647321/538514",
          "Colombia/686851/552885",
          "South Africa/642431/569935",
          "Russia/1037526/854069",
          "US/6361265/2387479",
          "India/4465863/3471783",
          "Brazil/4197889/3611632",
          "Iraq/273821",
          "Italy/281583",
          "Turkey/284943",
          "Pakistan/300030",
          "Saudi Arabia/323012",
          "Bangladesh/331078",
          "United Kingdom/357613",
          "France/383292",
          "Iran/393425",
          "Chile/427027",
          "Argentina/512293",
          "Spain/543379",
          "South Africa/642431",
          "Mexico/647321",
          "Colombia/686851",
          "Peru/696190",
          "Russia/1037526",
          "Brazil/4197889",
          "India/4465863",
          "US/6361265",
          "Argentina",
          "Bangladesh",
          "Brazil",
          "Chile",
          "Colombia",
          "France",
          "India",
          "Iran",
          "Iraq",
          "Italy",
          "Mexico",
          "Pakistan",
          "Peru",
          "Russia",
          "Saudi Arabia",
          "South Africa",
          "Spain",
          "Turkey",
          "US",
          "United Kingdom"
         ],
         "labels": [
          "1831",
          "89242",
          "150376",
          "209993",
          "211272",
          "230804",
          "254188",
          "287658",
          "298966",
          "339111",
          "382490",
          "399555",
          "536959",
          "538514",
          "552885",
          "569935",
          "854069",
          "2387479",
          "3471783",
          "3611632",
          "273821",
          "281583",
          "284943",
          "300030",
          "323012",
          "331078",
          "357613",
          "383292",
          "393425",
          "427027",
          "512293",
          "543379",
          "642431",
          "647321",
          "686851",
          "696190",
          "1037526",
          "4197889",
          "4465863",
          "6361265",
          "Argentina",
          "Bangladesh",
          "Brazil",
          "Chile",
          "Colombia",
          "France",
          "India",
          "Iran",
          "Iraq",
          "Italy",
          "Mexico",
          "Pakistan",
          "Peru",
          "Russia",
          "Saudi Arabia",
          "South Africa",
          "Spain",
          "Turkey",
          "US",
          "United Kingdom"
         ],
         "maxdepth": -1,
         "name": "",
         "parents": [
          "United Kingdom/357613",
          "France/383292",
          "Spain/543379",
          "Iraq/273821",
          "Italy/281583",
          "Bangladesh/331078",
          "Turkey/284943",
          "Pakistan/300030",
          "Saudi Arabia/323012",
          "Iran/393425",
          "Argentina/512293",
          "Chile/427027",
          "Peru/696190",
          "Mexico/647321",
          "Colombia/686851",
          "South Africa/642431",
          "Russia/1037526",
          "US/6361265",
          "India/4465863",
          "Brazil/4197889",
          "Iraq",
          "Italy",
          "Turkey",
          "Pakistan",
          "Saudi Arabia",
          "Bangladesh",
          "United Kingdom",
          "France",
          "Iran",
          "Chile",
          "Argentina",
          "Spain",
          "South Africa",
          "Mexico",
          "Colombia",
          "Peru",
          "Russia",
          "Brazil",
          "India",
          "US",
          "",
          "",
          "",
          "",
          "",
          "",
          "",
          "",
          "",
          "",
          "",
          "",
          "",
          "",
          "",
          "",
          "",
          "",
          "",
          ""
         ],
         "textinfo": "label+percent root",
         "type": "sunburst",
         "values": [
          357613,
          383292,
          543379,
          273821,
          281583,
          331078,
          284943,
          300030,
          323012,
          393425,
          512293,
          427027,
          696190,
          647321,
          686851,
          642431,
          1037526,
          6361265,
          4465863,
          4197889,
          273821,
          281583,
          284943,
          300030,
          323012,
          331078,
          357613,
          383292,
          393425,
          427027,
          512293,
          543379,
          642431,
          647321,
          686851,
          696190,
          1037526,
          4197889,
          4465863,
          6361265,
          512293,
          331078,
          4197889,
          427027,
          686851,
          383292,
          4465863,
          393425,
          273821,
          281583,
          647321,
          300030,
          696190,
          1037526,
          323012,
          642431,
          543379,
          284943,
          6361265,
          357613
         ]
        }
       ],
       "layout": {
        "legend": {
         "tracegroupgap": 0
        },
        "margin": {
         "b": 0,
         "l": 0,
         "r": 0,
         "t": 0
        },
        "sunburstcolorway": [
         "rgb(102, 197, 204)",
         "rgb(246, 207, 113)",
         "rgb(248, 156, 116)",
         "rgb(220, 176, 242)",
         "rgb(135, 197, 95)",
         "rgb(158, 185, 243)",
         "rgb(254, 136, 177)",
         "rgb(201, 219, 116)",
         "rgb(139, 224, 164)",
         "rgb(180, 151, 231)",
         "rgb(179, 179, 179)"
        ],
        "template": {
         "data": {
          "bar": [
           {
            "error_x": {
             "color": "#2a3f5f"
            },
            "error_y": {
             "color": "#2a3f5f"
            },
            "marker": {
             "line": {
              "color": "#E5ECF6",
              "width": 0.5
             }
            },
            "type": "bar"
           }
          ],
          "barpolar": [
           {
            "marker": {
             "line": {
              "color": "#E5ECF6",
              "width": 0.5
             }
            },
            "type": "barpolar"
           }
          ],
          "carpet": [
           {
            "aaxis": {
             "endlinecolor": "#2a3f5f",
             "gridcolor": "white",
             "linecolor": "white",
             "minorgridcolor": "white",
             "startlinecolor": "#2a3f5f"
            },
            "baxis": {
             "endlinecolor": "#2a3f5f",
             "gridcolor": "white",
             "linecolor": "white",
             "minorgridcolor": "white",
             "startlinecolor": "#2a3f5f"
            },
            "type": "carpet"
           }
          ],
          "choropleth": [
           {
            "colorbar": {
             "outlinewidth": 0,
             "ticks": ""
            },
            "type": "choropleth"
           }
          ],
          "contour": [
           {
            "colorbar": {
             "outlinewidth": 0,
             "ticks": ""
            },
            "colorscale": [
             [
              0,
              "#0d0887"
             ],
             [
              0.1111111111111111,
              "#46039f"
             ],
             [
              0.2222222222222222,
              "#7201a8"
             ],
             [
              0.3333333333333333,
              "#9c179e"
             ],
             [
              0.4444444444444444,
              "#bd3786"
             ],
             [
              0.5555555555555556,
              "#d8576b"
             ],
             [
              0.6666666666666666,
              "#ed7953"
             ],
             [
              0.7777777777777778,
              "#fb9f3a"
             ],
             [
              0.8888888888888888,
              "#fdca26"
             ],
             [
              1,
              "#f0f921"
             ]
            ],
            "type": "contour"
           }
          ],
          "contourcarpet": [
           {
            "colorbar": {
             "outlinewidth": 0,
             "ticks": ""
            },
            "type": "contourcarpet"
           }
          ],
          "heatmap": [
           {
            "colorbar": {
             "outlinewidth": 0,
             "ticks": ""
            },
            "colorscale": [
             [
              0,
              "#0d0887"
             ],
             [
              0.1111111111111111,
              "#46039f"
             ],
             [
              0.2222222222222222,
              "#7201a8"
             ],
             [
              0.3333333333333333,
              "#9c179e"
             ],
             [
              0.4444444444444444,
              "#bd3786"
             ],
             [
              0.5555555555555556,
              "#d8576b"
             ],
             [
              0.6666666666666666,
              "#ed7953"
             ],
             [
              0.7777777777777778,
              "#fb9f3a"
             ],
             [
              0.8888888888888888,
              "#fdca26"
             ],
             [
              1,
              "#f0f921"
             ]
            ],
            "type": "heatmap"
           }
          ],
          "heatmapgl": [
           {
            "colorbar": {
             "outlinewidth": 0,
             "ticks": ""
            },
            "colorscale": [
             [
              0,
              "#0d0887"
             ],
             [
              0.1111111111111111,
              "#46039f"
             ],
             [
              0.2222222222222222,
              "#7201a8"
             ],
             [
              0.3333333333333333,
              "#9c179e"
             ],
             [
              0.4444444444444444,
              "#bd3786"
             ],
             [
              0.5555555555555556,
              "#d8576b"
             ],
             [
              0.6666666666666666,
              "#ed7953"
             ],
             [
              0.7777777777777778,
              "#fb9f3a"
             ],
             [
              0.8888888888888888,
              "#fdca26"
             ],
             [
              1,
              "#f0f921"
             ]
            ],
            "type": "heatmapgl"
           }
          ],
          "histogram": [
           {
            "marker": {
             "colorbar": {
              "outlinewidth": 0,
              "ticks": ""
             }
            },
            "type": "histogram"
           }
          ],
          "histogram2d": [
           {
            "colorbar": {
             "outlinewidth": 0,
             "ticks": ""
            },
            "colorscale": [
             [
              0,
              "#0d0887"
             ],
             [
              0.1111111111111111,
              "#46039f"
             ],
             [
              0.2222222222222222,
              "#7201a8"
             ],
             [
              0.3333333333333333,
              "#9c179e"
             ],
             [
              0.4444444444444444,
              "#bd3786"
             ],
             [
              0.5555555555555556,
              "#d8576b"
             ],
             [
              0.6666666666666666,
              "#ed7953"
             ],
             [
              0.7777777777777778,
              "#fb9f3a"
             ],
             [
              0.8888888888888888,
              "#fdca26"
             ],
             [
              1,
              "#f0f921"
             ]
            ],
            "type": "histogram2d"
           }
          ],
          "histogram2dcontour": [
           {
            "colorbar": {
             "outlinewidth": 0,
             "ticks": ""
            },
            "colorscale": [
             [
              0,
              "#0d0887"
             ],
             [
              0.1111111111111111,
              "#46039f"
             ],
             [
              0.2222222222222222,
              "#7201a8"
             ],
             [
              0.3333333333333333,
              "#9c179e"
             ],
             [
              0.4444444444444444,
              "#bd3786"
             ],
             [
              0.5555555555555556,
              "#d8576b"
             ],
             [
              0.6666666666666666,
              "#ed7953"
             ],
             [
              0.7777777777777778,
              "#fb9f3a"
             ],
             [
              0.8888888888888888,
              "#fdca26"
             ],
             [
              1,
              "#f0f921"
             ]
            ],
            "type": "histogram2dcontour"
           }
          ],
          "mesh3d": [
           {
            "colorbar": {
             "outlinewidth": 0,
             "ticks": ""
            },
            "type": "mesh3d"
           }
          ],
          "parcoords": [
           {
            "line": {
             "colorbar": {
              "outlinewidth": 0,
              "ticks": ""
             }
            },
            "type": "parcoords"
           }
          ],
          "pie": [
           {
            "automargin": true,
            "type": "pie"
           }
          ],
          "scatter": [
           {
            "marker": {
             "colorbar": {
              "outlinewidth": 0,
              "ticks": ""
             }
            },
            "type": "scatter"
           }
          ],
          "scatter3d": [
           {
            "line": {
             "colorbar": {
              "outlinewidth": 0,
              "ticks": ""
             }
            },
            "marker": {
             "colorbar": {
              "outlinewidth": 0,
              "ticks": ""
             }
            },
            "type": "scatter3d"
           }
          ],
          "scattercarpet": [
           {
            "marker": {
             "colorbar": {
              "outlinewidth": 0,
              "ticks": ""
             }
            },
            "type": "scattercarpet"
           }
          ],
          "scattergeo": [
           {
            "marker": {
             "colorbar": {
              "outlinewidth": 0,
              "ticks": ""
             }
            },
            "type": "scattergeo"
           }
          ],
          "scattergl": [
           {
            "marker": {
             "colorbar": {
              "outlinewidth": 0,
              "ticks": ""
             }
            },
            "type": "scattergl"
           }
          ],
          "scattermapbox": [
           {
            "marker": {
             "colorbar": {
              "outlinewidth": 0,
              "ticks": ""
             }
            },
            "type": "scattermapbox"
           }
          ],
          "scatterpolar": [
           {
            "marker": {
             "colorbar": {
              "outlinewidth": 0,
              "ticks": ""
             }
            },
            "type": "scatterpolar"
           }
          ],
          "scatterpolargl": [
           {
            "marker": {
             "colorbar": {
              "outlinewidth": 0,
              "ticks": ""
             }
            },
            "type": "scatterpolargl"
           }
          ],
          "scatterternary": [
           {
            "marker": {
             "colorbar": {
              "outlinewidth": 0,
              "ticks": ""
             }
            },
            "type": "scatterternary"
           }
          ],
          "surface": [
           {
            "colorbar": {
             "outlinewidth": 0,
             "ticks": ""
            },
            "colorscale": [
             [
              0,
              "#0d0887"
             ],
             [
              0.1111111111111111,
              "#46039f"
             ],
             [
              0.2222222222222222,
              "#7201a8"
             ],
             [
              0.3333333333333333,
              "#9c179e"
             ],
             [
              0.4444444444444444,
              "#bd3786"
             ],
             [
              0.5555555555555556,
              "#d8576b"
             ],
             [
              0.6666666666666666,
              "#ed7953"
             ],
             [
              0.7777777777777778,
              "#fb9f3a"
             ],
             [
              0.8888888888888888,
              "#fdca26"
             ],
             [
              1,
              "#f0f921"
             ]
            ],
            "type": "surface"
           }
          ],
          "table": [
           {
            "cells": {
             "fill": {
              "color": "#EBF0F8"
             },
             "line": {
              "color": "white"
             }
            },
            "header": {
             "fill": {
              "color": "#C8D4E3"
             },
             "line": {
              "color": "white"
             }
            },
            "type": "table"
           }
          ]
         },
         "layout": {
          "annotationdefaults": {
           "arrowcolor": "#2a3f5f",
           "arrowhead": 0,
           "arrowwidth": 1
          },
          "coloraxis": {
           "colorbar": {
            "outlinewidth": 0,
            "ticks": ""
           }
          },
          "colorscale": {
           "diverging": [
            [
             0,
             "#8e0152"
            ],
            [
             0.1,
             "#c51b7d"
            ],
            [
             0.2,
             "#de77ae"
            ],
            [
             0.3,
             "#f1b6da"
            ],
            [
             0.4,
             "#fde0ef"
            ],
            [
             0.5,
             "#f7f7f7"
            ],
            [
             0.6,
             "#e6f5d0"
            ],
            [
             0.7,
             "#b8e186"
            ],
            [
             0.8,
             "#7fbc41"
            ],
            [
             0.9,
             "#4d9221"
            ],
            [
             1,
             "#276419"
            ]
           ],
           "sequential": [
            [
             0,
             "#0d0887"
            ],
            [
             0.1111111111111111,
             "#46039f"
            ],
            [
             0.2222222222222222,
             "#7201a8"
            ],
            [
             0.3333333333333333,
             "#9c179e"
            ],
            [
             0.4444444444444444,
             "#bd3786"
            ],
            [
             0.5555555555555556,
             "#d8576b"
            ],
            [
             0.6666666666666666,
             "#ed7953"
            ],
            [
             0.7777777777777778,
             "#fb9f3a"
            ],
            [
             0.8888888888888888,
             "#fdca26"
            ],
            [
             1,
             "#f0f921"
            ]
           ],
           "sequentialminus": [
            [
             0,
             "#0d0887"
            ],
            [
             0.1111111111111111,
             "#46039f"
            ],
            [
             0.2222222222222222,
             "#7201a8"
            ],
            [
             0.3333333333333333,
             "#9c179e"
            ],
            [
             0.4444444444444444,
             "#bd3786"
            ],
            [
             0.5555555555555556,
             "#d8576b"
            ],
            [
             0.6666666666666666,
             "#ed7953"
            ],
            [
             0.7777777777777778,
             "#fb9f3a"
            ],
            [
             0.8888888888888888,
             "#fdca26"
            ],
            [
             1,
             "#f0f921"
            ]
           ]
          },
          "colorway": [
           "#636efa",
           "#EF553B",
           "#00cc96",
           "#ab63fa",
           "#FFA15A",
           "#19d3f3",
           "#FF6692",
           "#B6E880",
           "#FF97FF",
           "#FECB52"
          ],
          "font": {
           "color": "#2a3f5f"
          },
          "geo": {
           "bgcolor": "white",
           "lakecolor": "white",
           "landcolor": "#E5ECF6",
           "showlakes": true,
           "showland": true,
           "subunitcolor": "white"
          },
          "hoverlabel": {
           "align": "left"
          },
          "hovermode": "closest",
          "mapbox": {
           "style": "light"
          },
          "paper_bgcolor": "white",
          "plot_bgcolor": "#E5ECF6",
          "polar": {
           "angularaxis": {
            "gridcolor": "white",
            "linecolor": "white",
            "ticks": ""
           },
           "bgcolor": "#E5ECF6",
           "radialaxis": {
            "gridcolor": "white",
            "linecolor": "white",
            "ticks": ""
           }
          },
          "scene": {
           "xaxis": {
            "backgroundcolor": "#E5ECF6",
            "gridcolor": "white",
            "gridwidth": 2,
            "linecolor": "white",
            "showbackground": true,
            "ticks": "",
            "zerolinecolor": "white"
           },
           "yaxis": {
            "backgroundcolor": "#E5ECF6",
            "gridcolor": "white",
            "gridwidth": 2,
            "linecolor": "white",
            "showbackground": true,
            "ticks": "",
            "zerolinecolor": "white"
           },
           "zaxis": {
            "backgroundcolor": "#E5ECF6",
            "gridcolor": "white",
            "gridwidth": 2,
            "linecolor": "white",
            "showbackground": true,
            "ticks": "",
            "zerolinecolor": "white"
           }
          },
          "shapedefaults": {
           "line": {
            "color": "#2a3f5f"
           }
          },
          "ternary": {
           "aaxis": {
            "gridcolor": "white",
            "linecolor": "white",
            "ticks": ""
           },
           "baxis": {
            "gridcolor": "white",
            "linecolor": "white",
            "ticks": ""
           },
           "bgcolor": "#E5ECF6",
           "caxis": {
            "gridcolor": "white",
            "linecolor": "white",
            "ticks": ""
           }
          },
          "title": {
           "x": 0.05
          },
          "xaxis": {
           "automargin": true,
           "gridcolor": "white",
           "linecolor": "white",
           "ticks": "",
           "title": {
            "standoff": 15
           },
           "zerolinecolor": "white",
           "zerolinewidth": 2
          },
          "yaxis": {
           "automargin": true,
           "gridcolor": "white",
           "linecolor": "white",
           "ticks": "",
           "title": {
            "standoff": 15
           },
           "zerolinecolor": "white",
           "zerolinewidth": 2
          }
         }
        }
       }
      },
      "text/html": [
       "<div>\n",
       "        \n",
       "        \n",
       "            <div id=\"9b622a37-07c7-4588-8368-d40169c68723\" class=\"plotly-graph-div\" style=\"height:525px; width:100%;\"></div>\n",
       "            <script type=\"text/javascript\">\n",
       "                require([\"plotly\"], function(Plotly) {\n",
       "                    window.PLOTLYENV=window.PLOTLYENV || {};\n",
       "                    \n",
       "                if (document.getElementById(\"9b622a37-07c7-4588-8368-d40169c68723\")) {\n",
       "                    Plotly.newPlot(\n",
       "                        '9b622a37-07c7-4588-8368-d40169c68723',\n",
       "                        [{\"branchvalues\": \"remainder\", \"domain\": {\"x\": [0.0, 1.0], \"y\": [0.0, 1.0]}, \"hovertemplate\": \"<b>%{hovertext}</b><br><br>labels=%{label}<br>Total_Confirmed_Cases=%{value}<br>parent=%{parent}<br>id=%{id}<extra></extra>\", \"hovertext\": [\"United Kingdom\", \"France\", \"Spain\", \"Iraq\", \"Italy\", \"Bangladesh\", \"Turkey\", \"Pakistan\", \"Saudi Arabia\", \"Iran\", \"Argentina\", \"Chile\", \"Peru\", \"Mexico\", \"Colombia\", \"South Africa\", \"Russia\", \"US\", \"India\", \"Brazil\", \"Iraq\", \"Italy\", \"Turkey\", \"Pakistan\", \"Saudi Arabia\", \"Bangladesh\", \"United Kingdom\", \"France\", \"Iran\", \"Chile\", \"Argentina\", \"Spain\", \"South Africa\", \"Mexico\", \"Colombia\", \"Peru\", \"Russia\", \"Brazil\", \"India\", \"US\", \"Argentina\", \"Bangladesh\", \"Brazil\", \"Chile\", \"Colombia\", \"France\", \"India\", \"Iran\", \"Iraq\", \"Italy\", \"Mexico\", \"Pakistan\", \"Peru\", \"Russia\", \"Saudi Arabia\", \"South Africa\", \"Spain\", \"Turkey\", \"US\", \"United Kingdom\"], \"ids\": [\"United Kingdom/357613/1831\", \"France/383292/89242\", \"Spain/543379/150376\", \"Iraq/273821/209993\", \"Italy/281583/211272\", \"Bangladesh/331078/230804\", \"Turkey/284943/254188\", \"Pakistan/300030/287658\", \"Saudi Arabia/323012/298966\", \"Iran/393425/339111\", \"Argentina/512293/382490\", \"Chile/427027/399555\", \"Peru/696190/536959\", \"Mexico/647321/538514\", \"Colombia/686851/552885\", \"South Africa/642431/569935\", \"Russia/1037526/854069\", \"US/6361265/2387479\", \"India/4465863/3471783\", \"Brazil/4197889/3611632\", \"Iraq/273821\", \"Italy/281583\", \"Turkey/284943\", \"Pakistan/300030\", \"Saudi Arabia/323012\", \"Bangladesh/331078\", \"United Kingdom/357613\", \"France/383292\", \"Iran/393425\", \"Chile/427027\", \"Argentina/512293\", \"Spain/543379\", \"South Africa/642431\", \"Mexico/647321\", \"Colombia/686851\", \"Peru/696190\", \"Russia/1037526\", \"Brazil/4197889\", \"India/4465863\", \"US/6361265\", \"Argentina\", \"Bangladesh\", \"Brazil\", \"Chile\", \"Colombia\", \"France\", \"India\", \"Iran\", \"Iraq\", \"Italy\", \"Mexico\", \"Pakistan\", \"Peru\", \"Russia\", \"Saudi Arabia\", \"South Africa\", \"Spain\", \"Turkey\", \"US\", \"United Kingdom\"], \"labels\": [\"1831\", \"89242\", \"150376\", \"209993\", \"211272\", \"230804\", \"254188\", \"287658\", \"298966\", \"339111\", \"382490\", \"399555\", \"536959\", \"538514\", \"552885\", \"569935\", \"854069\", \"2387479\", \"3471783\", \"3611632\", \"273821\", \"281583\", \"284943\", \"300030\", \"323012\", \"331078\", \"357613\", \"383292\", \"393425\", \"427027\", \"512293\", \"543379\", \"642431\", \"647321\", \"686851\", \"696190\", \"1037526\", \"4197889\", \"4465863\", \"6361265\", \"Argentina\", \"Bangladesh\", \"Brazil\", \"Chile\", \"Colombia\", \"France\", \"India\", \"Iran\", \"Iraq\", \"Italy\", \"Mexico\", \"Pakistan\", \"Peru\", \"Russia\", \"Saudi Arabia\", \"South Africa\", \"Spain\", \"Turkey\", \"US\", \"United Kingdom\"], \"maxdepth\": -1, \"name\": \"\", \"parents\": [\"United Kingdom/357613\", \"France/383292\", \"Spain/543379\", \"Iraq/273821\", \"Italy/281583\", \"Bangladesh/331078\", \"Turkey/284943\", \"Pakistan/300030\", \"Saudi Arabia/323012\", \"Iran/393425\", \"Argentina/512293\", \"Chile/427027\", \"Peru/696190\", \"Mexico/647321\", \"Colombia/686851\", \"South Africa/642431\", \"Russia/1037526\", \"US/6361265\", \"India/4465863\", \"Brazil/4197889\", \"Iraq\", \"Italy\", \"Turkey\", \"Pakistan\", \"Saudi Arabia\", \"Bangladesh\", \"United Kingdom\", \"France\", \"Iran\", \"Chile\", \"Argentina\", \"Spain\", \"South Africa\", \"Mexico\", \"Colombia\", \"Peru\", \"Russia\", \"Brazil\", \"India\", \"US\", \"\", \"\", \"\", \"\", \"\", \"\", \"\", \"\", \"\", \"\", \"\", \"\", \"\", \"\", \"\", \"\", \"\", \"\", \"\", \"\"], \"textinfo\": \"label+percent root\", \"type\": \"sunburst\", \"values\": [357613, 383292, 543379, 273821, 281583, 331078, 284943, 300030, 323012, 393425, 512293, 427027, 696190, 647321, 686851, 642431, 1037526, 6361265, 4465863, 4197889, 273821, 281583, 284943, 300030, 323012, 331078, 357613, 383292, 393425, 427027, 512293, 543379, 642431, 647321, 686851, 696190, 1037526, 4197889, 4465863, 6361265, 512293, 331078, 4197889, 427027, 686851, 383292, 4465863, 393425, 273821, 281583, 647321, 300030, 696190, 1037526, 323012, 642431, 543379, 284943, 6361265, 357613]}],\n",
       "                        {\"legend\": {\"tracegroupgap\": 0}, \"margin\": {\"b\": 0, \"l\": 0, \"r\": 0, \"t\": 0}, \"sunburstcolorway\": [\"rgb(102, 197, 204)\", \"rgb(246, 207, 113)\", \"rgb(248, 156, 116)\", \"rgb(220, 176, 242)\", \"rgb(135, 197, 95)\", \"rgb(158, 185, 243)\", \"rgb(254, 136, 177)\", \"rgb(201, 219, 116)\", \"rgb(139, 224, 164)\", \"rgb(180, 151, 231)\", \"rgb(179, 179, 179)\"], \"template\": {\"data\": {\"bar\": [{\"error_x\": {\"color\": \"#2a3f5f\"}, \"error_y\": {\"color\": \"#2a3f5f\"}, \"marker\": {\"line\": {\"color\": \"#E5ECF6\", \"width\": 0.5}}, \"type\": \"bar\"}], \"barpolar\": [{\"marker\": {\"line\": {\"color\": \"#E5ECF6\", \"width\": 0.5}}, \"type\": \"barpolar\"}], \"carpet\": [{\"aaxis\": {\"endlinecolor\": \"#2a3f5f\", \"gridcolor\": \"white\", \"linecolor\": \"white\", \"minorgridcolor\": \"white\", \"startlinecolor\": \"#2a3f5f\"}, \"baxis\": {\"endlinecolor\": \"#2a3f5f\", \"gridcolor\": \"white\", \"linecolor\": \"white\", \"minorgridcolor\": \"white\", \"startlinecolor\": \"#2a3f5f\"}, \"type\": \"carpet\"}], \"choropleth\": [{\"colorbar\": {\"outlinewidth\": 0, \"ticks\": \"\"}, \"type\": \"choropleth\"}], \"contour\": [{\"colorbar\": {\"outlinewidth\": 0, \"ticks\": \"\"}, \"colorscale\": [[0.0, \"#0d0887\"], [0.1111111111111111, \"#46039f\"], [0.2222222222222222, \"#7201a8\"], [0.3333333333333333, \"#9c179e\"], [0.4444444444444444, \"#bd3786\"], [0.5555555555555556, \"#d8576b\"], [0.6666666666666666, \"#ed7953\"], [0.7777777777777778, \"#fb9f3a\"], [0.8888888888888888, \"#fdca26\"], [1.0, \"#f0f921\"]], \"type\": \"contour\"}], \"contourcarpet\": [{\"colorbar\": {\"outlinewidth\": 0, \"ticks\": \"\"}, \"type\": \"contourcarpet\"}], \"heatmap\": [{\"colorbar\": {\"outlinewidth\": 0, \"ticks\": \"\"}, \"colorscale\": [[0.0, \"#0d0887\"], [0.1111111111111111, \"#46039f\"], [0.2222222222222222, \"#7201a8\"], [0.3333333333333333, \"#9c179e\"], [0.4444444444444444, \"#bd3786\"], [0.5555555555555556, \"#d8576b\"], [0.6666666666666666, \"#ed7953\"], [0.7777777777777778, \"#fb9f3a\"], [0.8888888888888888, \"#fdca26\"], [1.0, \"#f0f921\"]], \"type\": \"heatmap\"}], \"heatmapgl\": [{\"colorbar\": {\"outlinewidth\": 0, \"ticks\": \"\"}, \"colorscale\": [[0.0, \"#0d0887\"], [0.1111111111111111, \"#46039f\"], [0.2222222222222222, \"#7201a8\"], [0.3333333333333333, \"#9c179e\"], [0.4444444444444444, \"#bd3786\"], [0.5555555555555556, \"#d8576b\"], [0.6666666666666666, \"#ed7953\"], [0.7777777777777778, \"#fb9f3a\"], [0.8888888888888888, \"#fdca26\"], [1.0, \"#f0f921\"]], \"type\": \"heatmapgl\"}], \"histogram\": [{\"marker\": {\"colorbar\": {\"outlinewidth\": 0, \"ticks\": \"\"}}, \"type\": \"histogram\"}], \"histogram2d\": [{\"colorbar\": {\"outlinewidth\": 0, \"ticks\": \"\"}, \"colorscale\": [[0.0, \"#0d0887\"], [0.1111111111111111, \"#46039f\"], [0.2222222222222222, \"#7201a8\"], [0.3333333333333333, \"#9c179e\"], [0.4444444444444444, \"#bd3786\"], [0.5555555555555556, \"#d8576b\"], [0.6666666666666666, \"#ed7953\"], [0.7777777777777778, \"#fb9f3a\"], [0.8888888888888888, \"#fdca26\"], [1.0, \"#f0f921\"]], \"type\": \"histogram2d\"}], \"histogram2dcontour\": [{\"colorbar\": {\"outlinewidth\": 0, \"ticks\": \"\"}, \"colorscale\": [[0.0, \"#0d0887\"], [0.1111111111111111, \"#46039f\"], [0.2222222222222222, \"#7201a8\"], [0.3333333333333333, \"#9c179e\"], [0.4444444444444444, \"#bd3786\"], [0.5555555555555556, \"#d8576b\"], [0.6666666666666666, \"#ed7953\"], [0.7777777777777778, \"#fb9f3a\"], [0.8888888888888888, \"#fdca26\"], [1.0, \"#f0f921\"]], \"type\": \"histogram2dcontour\"}], \"mesh3d\": [{\"colorbar\": {\"outlinewidth\": 0, \"ticks\": \"\"}, \"type\": \"mesh3d\"}], \"parcoords\": [{\"line\": {\"colorbar\": {\"outlinewidth\": 0, \"ticks\": \"\"}}, \"type\": \"parcoords\"}], \"pie\": [{\"automargin\": true, \"type\": \"pie\"}], \"scatter\": [{\"marker\": {\"colorbar\": {\"outlinewidth\": 0, \"ticks\": \"\"}}, \"type\": \"scatter\"}], \"scatter3d\": [{\"line\": {\"colorbar\": {\"outlinewidth\": 0, \"ticks\": \"\"}}, \"marker\": {\"colorbar\": {\"outlinewidth\": 0, \"ticks\": \"\"}}, \"type\": \"scatter3d\"}], \"scattercarpet\": [{\"marker\": {\"colorbar\": {\"outlinewidth\": 0, \"ticks\": \"\"}}, \"type\": \"scattercarpet\"}], \"scattergeo\": [{\"marker\": {\"colorbar\": {\"outlinewidth\": 0, \"ticks\": \"\"}}, \"type\": \"scattergeo\"}], \"scattergl\": [{\"marker\": {\"colorbar\": {\"outlinewidth\": 0, \"ticks\": \"\"}}, \"type\": \"scattergl\"}], \"scattermapbox\": [{\"marker\": {\"colorbar\": {\"outlinewidth\": 0, \"ticks\": \"\"}}, \"type\": \"scattermapbox\"}], \"scatterpolar\": [{\"marker\": {\"colorbar\": {\"outlinewidth\": 0, \"ticks\": \"\"}}, \"type\": \"scatterpolar\"}], \"scatterpolargl\": [{\"marker\": {\"colorbar\": {\"outlinewidth\": 0, \"ticks\": \"\"}}, \"type\": \"scatterpolargl\"}], \"scatterternary\": [{\"marker\": {\"colorbar\": {\"outlinewidth\": 0, \"ticks\": \"\"}}, \"type\": \"scatterternary\"}], \"surface\": [{\"colorbar\": {\"outlinewidth\": 0, \"ticks\": \"\"}, \"colorscale\": [[0.0, \"#0d0887\"], [0.1111111111111111, \"#46039f\"], [0.2222222222222222, \"#7201a8\"], [0.3333333333333333, \"#9c179e\"], [0.4444444444444444, \"#bd3786\"], [0.5555555555555556, \"#d8576b\"], [0.6666666666666666, \"#ed7953\"], [0.7777777777777778, \"#fb9f3a\"], [0.8888888888888888, \"#fdca26\"], [1.0, \"#f0f921\"]], \"type\": \"surface\"}], \"table\": [{\"cells\": {\"fill\": {\"color\": \"#EBF0F8\"}, \"line\": {\"color\": \"white\"}}, \"header\": {\"fill\": {\"color\": \"#C8D4E3\"}, \"line\": {\"color\": \"white\"}}, \"type\": \"table\"}]}, \"layout\": {\"annotationdefaults\": {\"arrowcolor\": \"#2a3f5f\", \"arrowhead\": 0, \"arrowwidth\": 1}, \"coloraxis\": {\"colorbar\": {\"outlinewidth\": 0, \"ticks\": \"\"}}, \"colorscale\": {\"diverging\": [[0, \"#8e0152\"], [0.1, \"#c51b7d\"], [0.2, \"#de77ae\"], [0.3, \"#f1b6da\"], [0.4, \"#fde0ef\"], [0.5, \"#f7f7f7\"], [0.6, \"#e6f5d0\"], [0.7, \"#b8e186\"], [0.8, \"#7fbc41\"], [0.9, \"#4d9221\"], [1, \"#276419\"]], \"sequential\": [[0.0, \"#0d0887\"], [0.1111111111111111, \"#46039f\"], [0.2222222222222222, \"#7201a8\"], [0.3333333333333333, \"#9c179e\"], [0.4444444444444444, \"#bd3786\"], [0.5555555555555556, \"#d8576b\"], [0.6666666666666666, \"#ed7953\"], [0.7777777777777778, \"#fb9f3a\"], [0.8888888888888888, \"#fdca26\"], [1.0, \"#f0f921\"]], \"sequentialminus\": [[0.0, \"#0d0887\"], [0.1111111111111111, \"#46039f\"], [0.2222222222222222, \"#7201a8\"], [0.3333333333333333, \"#9c179e\"], [0.4444444444444444, \"#bd3786\"], [0.5555555555555556, \"#d8576b\"], [0.6666666666666666, \"#ed7953\"], [0.7777777777777778, \"#fb9f3a\"], [0.8888888888888888, \"#fdca26\"], [1.0, \"#f0f921\"]]}, \"colorway\": [\"#636efa\", \"#EF553B\", \"#00cc96\", \"#ab63fa\", \"#FFA15A\", \"#19d3f3\", \"#FF6692\", \"#B6E880\", \"#FF97FF\", \"#FECB52\"], \"font\": {\"color\": \"#2a3f5f\"}, \"geo\": {\"bgcolor\": \"white\", \"lakecolor\": \"white\", \"landcolor\": \"#E5ECF6\", \"showlakes\": true, \"showland\": true, \"subunitcolor\": \"white\"}, \"hoverlabel\": {\"align\": \"left\"}, \"hovermode\": \"closest\", \"mapbox\": {\"style\": \"light\"}, \"paper_bgcolor\": \"white\", \"plot_bgcolor\": \"#E5ECF6\", \"polar\": {\"angularaxis\": {\"gridcolor\": \"white\", \"linecolor\": \"white\", \"ticks\": \"\"}, \"bgcolor\": \"#E5ECF6\", \"radialaxis\": {\"gridcolor\": \"white\", \"linecolor\": \"white\", \"ticks\": \"\"}}, \"scene\": {\"xaxis\": {\"backgroundcolor\": \"#E5ECF6\", \"gridcolor\": \"white\", \"gridwidth\": 2, \"linecolor\": \"white\", \"showbackground\": true, \"ticks\": \"\", \"zerolinecolor\": \"white\"}, \"yaxis\": {\"backgroundcolor\": \"#E5ECF6\", \"gridcolor\": \"white\", \"gridwidth\": 2, \"linecolor\": \"white\", \"showbackground\": true, \"ticks\": \"\", \"zerolinecolor\": \"white\"}, \"zaxis\": {\"backgroundcolor\": \"#E5ECF6\", \"gridcolor\": \"white\", \"gridwidth\": 2, \"linecolor\": \"white\", \"showbackground\": true, \"ticks\": \"\", \"zerolinecolor\": \"white\"}}, \"shapedefaults\": {\"line\": {\"color\": \"#2a3f5f\"}}, \"ternary\": {\"aaxis\": {\"gridcolor\": \"white\", \"linecolor\": \"white\", \"ticks\": \"\"}, \"baxis\": {\"gridcolor\": \"white\", \"linecolor\": \"white\", \"ticks\": \"\"}, \"bgcolor\": \"#E5ECF6\", \"caxis\": {\"gridcolor\": \"white\", \"linecolor\": \"white\", \"ticks\": \"\"}}, \"title\": {\"x\": 0.05}, \"xaxis\": {\"automargin\": true, \"gridcolor\": \"white\", \"linecolor\": \"white\", \"ticks\": \"\", \"title\": {\"standoff\": 15}, \"zerolinecolor\": \"white\", \"zerolinewidth\": 2}, \"yaxis\": {\"automargin\": true, \"gridcolor\": \"white\", \"linecolor\": \"white\", \"ticks\": \"\", \"title\": {\"standoff\": 15}, \"zerolinecolor\": \"white\", \"zerolinewidth\": 2}}}},\n",
       "                        {\"responsive\": true}\n",
       "                    ).then(function(){\n",
       "                            \n",
       "var gd = document.getElementById('9b622a37-07c7-4588-8368-d40169c68723');\n",
       "var x = new MutationObserver(function (mutations, observer) {{\n",
       "        var display = window.getComputedStyle(gd).display;\n",
       "        if (!display || display === 'none') {{\n",
       "            console.log([gd, 'removed!']);\n",
       "            Plotly.purge(gd);\n",
       "            observer.disconnect();\n",
       "        }}\n",
       "}});\n",
       "\n",
       "// Listen for the removal of the full notebook cells\n",
       "var notebookContainer = gd.closest('#notebook-container');\n",
       "if (notebookContainer) {{\n",
       "    x.observe(notebookContainer, {childList: true});\n",
       "}}\n",
       "\n",
       "// Listen for the clearing of the current output cell\n",
       "var outputEl = gd.closest('.output');\n",
       "if (outputEl) {{\n",
       "    x.observe(outputEl, {childList: true});\n",
       "}}\n",
       "\n",
       "                        })\n",
       "                };\n",
       "                });\n",
       "            </script>\n",
       "        </div>"
      ]
     },
     "metadata": {},
     "output_type": "display_data"
    }
   ],
   "source": [
    "sorted_data1=sorted_data.sort_values('Total_Confirmed_Cases', ascending=False)\n",
    "\n",
    "fig = px.sunburst(\n",
    "    data_frame = sorted_data1,\n",
    "    path = ['Country_Region', 'Total_Confirmed_Cases', 'Total_Recovered_Cases'],\n",
    "    values = 'Total_Confirmed_Cases',\n",
    "    hover_name= 'Country_Region',\n",
    "    #color = \"Country_Region\",\n",
    "    color_discrete_sequence=px.colors.qualitative.Pastel,\n",
    "    maxdepth = -1,\n",
    "    branchvalues='remainder'\n",
    ")\n",
    "\n",
    "fig.update_traces(textinfo='label+percent root')\n",
    "fig.update_layout(margin=dict(t=0, l=0, r=0, b=0))\n",
    "\n",
    "\n",
    "fig.show()"
   ]
  },
  {
   "cell_type": "markdown",
   "metadata": {},
   "source": [
    "## How is Italy doing after containing the spread of virus?"
   ]
  },
  {
   "cell_type": "code",
   "execution_count": 103,
   "metadata": {},
   "outputs": [
    {
     "data": {
      "image/png": "[encoded data removed]",
      "text/plain": [
       "<Figure size 432x288 with 1 Axes>"
      ]
     },
     "metadata": {
      "needs_background": "light"
     },
     "output_type": "display_data"
    }
   ],
   "source": [
    "#ax = sns.scatterplot(x=df['date_month'], y=df['Total_Confirmed_Cases'], data=df)\n",
    "\n",
    "temp =df[df['Country_Region']=='Italy']\n",
    "\n",
    "plt.title(\"Active Cases in Italy\")\n",
    "\n",
    "ax = sns.lineplot(x=temp.Date_Month, y=temp.Remaining_Confirmed_Cases, data=temp)\n",
    "\n",
    "ax.set(xlabel='Months', ylabel='Active Cases')\n",
    "\n",
    "plt.show()"
   ]
  },
  {
   "cell_type": "code",
   "execution_count": 104,
   "metadata": {},
   "outputs": [
    {
     "data": {
      "text/html": [
       "<div>\n",
       "<style scoped>\n",
       "    .dataframe tbody tr th:only-of-type {\n",
       "        vertical-align: middle;\n",
       "    }\n",
       "\n",
       "    .dataframe tbody tr th {\n",
       "        vertical-align: top;\n",
       "    }\n",
       "\n",
       "    .dataframe thead th {\n",
       "        text-align: right;\n",
       "    }\n",
       "</style>\n",
       "<table border=\"1\" class=\"dataframe\">\n",
       "  <thead>\n",
       "    <tr style=\"text-align: right;\">\n",
       "      <th></th>\n",
       "      <th>Date</th>\n",
       "      <th>Total_Confirmed_Cases</th>\n",
       "      <th>Total_Fatalities</th>\n",
       "      <th>Total_Recovered_Cases</th>\n",
       "      <th>Remaining_Confirmed_Cases</th>\n",
       "    </tr>\n",
       "  </thead>\n",
       "  <tbody>\n",
       "    <tr>\n",
       "      <td>0</td>\n",
       "      <td>2020-09-09</td>\n",
       "      <td>27863733</td>\n",
       "      <td>903686</td>\n",
       "      <td>18776723</td>\n",
       "      <td>8183324</td>\n",
       "    </tr>\n",
       "  </tbody>\n",
       "</table>\n",
       "</div>"
      ],
      "text/plain": [
       "        Date  Total_Confirmed_Cases  Total_Fatalities  Total_Recovered_Cases  \\\n",
       "0 2020-09-09               27863733            903686               18776723   \n",
       "\n",
       "   Remaining_Confirmed_Cases  \n",
       "0                    8183324  "
      ]
     },
     "execution_count": 104,
     "metadata": {},
     "output_type": "execute_result"
    }
   ],
   "source": [
    "total = df.groupby('Date')['Total_Confirmed_Cases', 'Total_Fatalities', \n",
    "                           'Total_Recovered_Cases', 'Remaining_Confirmed_Cases'].sum().reset_index()\n",
    "\n",
    "total = total[total['Date'] == max(total['Date'])].reset_index(drop=True)\n",
    "\n",
    "total\n",
    "\n",
    "#Acive cases(remaining_Confirm_cases) = Total cases - Total Death - Total Recovery"
   ]
  },
  {
   "cell_type": "markdown",
   "metadata": {},
   "source": [
    "## Show the trend of Total Number of Cases worldwide by each day"
   ]
  },
  {
   "cell_type": "code",
   "execution_count": 116,
   "metadata": {},
   "outputs": [
    {
     "data": {
      "image/png": "[encoded data removed]",
      "text/plain": [
       "<Figure size 2880x720 with 1 Axes>"
      ]
     },
     "metadata": {
      "needs_background": "light"
     },
     "output_type": "display_data"
    }
   ],
   "source": [
    "plt.figure(figsize= (40,10))\n",
    "\n",
    "plt.xticks(rotation = 90 ,fontsize = 10)\n",
    "\n",
    "plt.yticks(fontsize = 10)\n",
    "\n",
    "#plt.xlabel('Day by Day',fontsize = 30)\n",
    "\n",
    "#plt.ylabel('Total_Confirmed_Cases',fontsize = 30)\n",
    "\n",
    "plt.title(\"Worldwide Confirmed Cases Over Time\" , fontsize = 30)\n",
    "\n",
    "total_cases = df.groupby('Date')['Date', 'Total_Confirmed_Cases'].max()#.reset_index()\n",
    "\n",
    "#total_cases['Date'] = pd.to_datetime(total_cases['Date'])\n",
    "\n",
    "\n",
    "ax = sns.pointplot( x = total_cases.Date.dt.date ,y = total_cases.Total_Confirmed_Cases )#, color = 'r')\n",
    "\n",
    "ax.set(xlabel='Day by Day', ylabel='Total_Confirmed_Cases')\n",
    "plt.show()"
   ]
  },
  {
   "cell_type": "markdown",
   "metadata": {},
   "source": [
    "## Which country has most Active COVID cases?"
   ]
  },
  {
   "cell_type": "code",
   "execution_count": 29,
   "metadata": {},
   "outputs": [],
   "source": [
    "\n",
    "sorted_data_active = sorted_data.sort_values('Remaining_Confirmed_Cases', ascending=False)\n",
    "\n",
    "sorted_data_active = sorted_data_active.head(35)\n",
    "\n",
    "#sorted_data_active"
   ]
  },
  {
   "cell_type": "code",
   "execution_count": 30,
   "metadata": {},
   "outputs": [
    {
     "data": {
      "application/vnd.plotly.v1+json": {
       "config": {
        "plotlyServerURL": "https://plot.ly"
       },
       "data": [
        {
         "alignmentgroup": "True",
         "hovertemplate": "Country_Region=%{x}<br>Remaining_Confirmed_Cases=%{text}<extra></extra>",
         "legendgroup": "",
         "marker": {
          "color": "#636efa"
         },
         "name": "",
         "offsetgroup": "",
         "orientation": "v",
         "showlegend": false,
         "text": [
          3782927,
          919018,
          598313,
          363375,
          314099,
          263245,
          245382,
          173590,
          169326,
          168092,
          140862,
          115779,
          108642,
          108257,
          82961,
          80808,
          63026,
          56096,
          53350,
          34887
         ],
         "textposition": "outside",
         "texttemplate": "%{text:.2s}",
         "type": "bar",
         "x": [
          "US",
          "India",
          "Brazil",
          "Spain",
          "United Kingdom",
          "France",
          "Russia",
          "South Africa",
          "Colombia",
          "Peru",
          "Argentina",
          "Bangladesh",
          "Pakistan",
          "Italy",
          "Chile",
          "Turkey",
          "Saudi Arabia",
          "Iraq",
          "Mexico",
          "Iran"
         ],
         "xaxis": "x",
         "y": [
          3782927,
          919018,
          598313,
          363375,
          314099,
          263245,
          245382,
          173590,
          169326,
          168092,
          140862,
          115779,
          108642,
          108257,
          82961,
          80808,
          63026,
          56096,
          53350,
          34887
         ],
         "yaxis": "y"
        }
       ],
       "layout": {
        "barmode": "relative",
        "legend": {
         "tracegroupgap": 0
        },
        "template": {
         "data": {
          "bar": [
           {
            "error_x": {
             "color": "#2a3f5f"
            },
            "error_y": {
             "color": "#2a3f5f"
            },
            "marker": {
             "line": {
              "color": "#E5ECF6",
              "width": 0.5
             }
            },
            "type": "bar"
           }
          ],
          "barpolar": [
           {
            "marker": {
             "line": {
              "color": "#E5ECF6",
              "width": 0.5
             }
            },
            "type": "barpolar"
           }
          ],
          "carpet": [
           {
            "aaxis": {
             "endlinecolor": "#2a3f5f",
             "gridcolor": "white",
             "linecolor": "white",
             "minorgridcolor": "white",
             "startlinecolor": "#2a3f5f"
            },
            "baxis": {
             "endlinecolor": "#2a3f5f",
             "gridcolor": "white",
             "linecolor": "white",
             "minorgridcolor": "white",
             "startlinecolor": "#2a3f5f"
            },
            "type": "carpet"
           }
          ],
          "choropleth": [
           {
            "colorbar": {
             "outlinewidth": 0,
             "ticks": ""
            },
            "type": "choropleth"
           }
          ],
          "contour": [
           {
            "colorbar": {
             "outlinewidth": 0,
             "ticks": ""
            },
            "colorscale": [
             [
              0,
              "#0d0887"
             ],
             [
              0.1111111111111111,
              "#46039f"
             ],
             [
              0.2222222222222222,
              "#7201a8"
             ],
             [
              0.3333333333333333,
              "#9c179e"
             ],
             [
              0.4444444444444444,
              "#bd3786"
             ],
             [
              0.5555555555555556,
              "#d8576b"
             ],
             [
              0.6666666666666666,
              "#ed7953"
             ],
             [
              0.7777777777777778,
              "#fb9f3a"
             ],
             [
              0.8888888888888888,
              "#fdca26"
             ],
             [
              1,
              "#f0f921"
             ]
            ],
            "type": "contour"
           }
          ],
          "contourcarpet": [
           {
            "colorbar": {
             "outlinewidth": 0,
             "ticks": ""
            },
            "type": "contourcarpet"
           }
          ],
          "heatmap": [
           {
            "colorbar": {
             "outlinewidth": 0,
             "ticks": ""
            },
            "colorscale": [
             [
              0,
              "#0d0887"
             ],
             [
              0.1111111111111111,
              "#46039f"
             ],
             [
              0.2222222222222222,
              "#7201a8"
             ],
             [
              0.3333333333333333,
              "#9c179e"
             ],
             [
              0.4444444444444444,
              "#bd3786"
             ],
             [
              0.5555555555555556,
              "#d8576b"
             ],
             [
              0.6666666666666666,
              "#ed7953"
             ],
             [
              0.7777777777777778,
              "#fb9f3a"
             ],
             [
              0.8888888888888888,
              "#fdca26"
             ],
             [
              1,
              "#f0f921"
             ]
            ],
            "type": "heatmap"
           }
          ],
          "heatmapgl": [
           {
            "colorbar": {
             "outlinewidth": 0,
             "ticks": ""
            },
            "colorscale": [
             [
              0,
              "#0d0887"
             ],
             [
              0.1111111111111111,
              "#46039f"
             ],
             [
              0.2222222222222222,
              "#7201a8"
             ],
             [
              0.3333333333333333,
              "#9c179e"
             ],
             [
              0.4444444444444444,
              "#bd3786"
             ],
             [
              0.5555555555555556,
              "#d8576b"
             ],
             [
              0.6666666666666666,
              "#ed7953"
             ],
             [
              0.7777777777777778,
              "#fb9f3a"
             ],
             [
              0.8888888888888888,
              "#fdca26"
             ],
             [
              1,
              "#f0f921"
             ]
            ],
            "type": "heatmapgl"
           }
          ],
          "histogram": [
           {
            "marker": {
             "colorbar": {
              "outlinewidth": 0,
              "ticks": ""
             }
            },
            "type": "histogram"
           }
          ],
          "histogram2d": [
           {
            "colorbar": {
             "outlinewidth": 0,
             "ticks": ""
            },
            "colorscale": [
             [
              0,
              "#0d0887"
             ],
             [
              0.1111111111111111,
              "#46039f"
             ],
             [
              0.2222222222222222,
              "#7201a8"
             ],
             [
              0.3333333333333333,
              "#9c179e"
             ],
             [
              0.4444444444444444,
              "#bd3786"
             ],
             [
              0.5555555555555556,
              "#d8576b"
             ],
             [
              0.6666666666666666,
              "#ed7953"
             ],
             [
              0.7777777777777778,
              "#fb9f3a"
             ],
             [
              0.8888888888888888,
              "#fdca26"
             ],
             [
              1,
              "#f0f921"
             ]
            ],
            "type": "histogram2d"
           }
          ],
          "histogram2dcontour": [
           {
            "colorbar": {
             "outlinewidth": 0,
             "ticks": ""
            },
            "colorscale": [
             [
              0,
              "#0d0887"
             ],
             [
              0.1111111111111111,
              "#46039f"
             ],
             [
              0.2222222222222222,
              "#7201a8"
             ],
             [
              0.3333333333333333,
              "#9c179e"
             ],
             [
              0.4444444444444444,
              "#bd3786"
             ],
             [
              0.5555555555555556,
              "#d8576b"
             ],
             [
              0.6666666666666666,
              "#ed7953"
             ],
             [
              0.7777777777777778,
              "#fb9f3a"
             ],
             [
              0.8888888888888888,
              "#fdca26"
             ],
             [
              1,
              "#f0f921"
             ]
            ],
            "type": "histogram2dcontour"
           }
          ],
          "mesh3d": [
           {
            "colorbar": {
             "outlinewidth": 0,
             "ticks": ""
            },
            "type": "mesh3d"
           }
          ],
          "parcoords": [
           {
            "line": {
             "colorbar": {
              "outlinewidth": 0,
              "ticks": ""
             }
            },
            "type": "parcoords"
           }
          ],
          "pie": [
           {
            "automargin": true,
            "type": "pie"
           }
          ],
          "scatter": [
           {
            "marker": {
             "colorbar": {
              "outlinewidth": 0,
              "ticks": ""
             }
            },
            "type": "scatter"
           }
          ],
          "scatter3d": [
           {
            "line": {
             "colorbar": {
              "outlinewidth": 0,
              "ticks": ""
             }
            },
            "marker": {
             "colorbar": {
              "outlinewidth": 0,
              "ticks": ""
             }
            },
            "type": "scatter3d"
           }
          ],
          "scattercarpet": [
           {
            "marker": {
             "colorbar": {
              "outlinewidth": 0,
              "ticks": ""
             }
            },
            "type": "scattercarpet"
           }
          ],
          "scattergeo": [
           {
            "marker": {
             "colorbar": {
              "outlinewidth": 0,
              "ticks": ""
             }
            },
            "type": "scattergeo"
           }
          ],
          "scattergl": [
           {
            "marker": {
             "colorbar": {
              "outlinewidth": 0,
              "ticks": ""
             }
            },
            "type": "scattergl"
           }
          ],
          "scattermapbox": [
           {
            "marker": {
             "colorbar": {
              "outlinewidth": 0,
              "ticks": ""
             }
            },
            "type": "scattermapbox"
           }
          ],
          "scatterpolar": [
           {
            "marker": {
             "colorbar": {
              "outlinewidth": 0,
              "ticks": ""
             }
            },
            "type": "scatterpolar"
           }
          ],
          "scatterpolargl": [
           {
            "marker": {
             "colorbar": {
              "outlinewidth": 0,
              "ticks": ""
             }
            },
            "type": "scatterpolargl"
           }
          ],
          "scatterternary": [
           {
            "marker": {
             "colorbar": {
              "outlinewidth": 0,
              "ticks": ""
             }
            },
            "type": "scatterternary"
           }
          ],
          "surface": [
           {
            "colorbar": {
             "outlinewidth": 0,
             "ticks": ""
            },
            "colorscale": [
             [
              0,
              "#0d0887"
             ],
             [
              0.1111111111111111,
              "#46039f"
             ],
             [
              0.2222222222222222,
              "#7201a8"
             ],
             [
              0.3333333333333333,
              "#9c179e"
             ],
             [
              0.4444444444444444,
              "#bd3786"
             ],
             [
              0.5555555555555556,
              "#d8576b"
             ],
             [
              0.6666666666666666,
              "#ed7953"
             ],
             [
              0.7777777777777778,
              "#fb9f3a"
             ],
             [
              0.8888888888888888,
              "#fdca26"
             ],
             [
              1,
              "#f0f921"
             ]
            ],
            "type": "surface"
           }
          ],
          "table": [
           {
            "cells": {
             "fill": {
              "color": "#EBF0F8"
             },
             "line": {
              "color": "white"
             }
            },
            "header": {
             "fill": {
              "color": "#C8D4E3"
             },
             "line": {
              "color": "white"
             }
            },
            "type": "table"
           }
          ]
         },
         "layout": {
          "annotationdefaults": {
           "arrowcolor": "#2a3f5f",
           "arrowhead": 0,
           "arrowwidth": 1
          },
          "coloraxis": {
           "colorbar": {
            "outlinewidth": 0,
            "ticks": ""
           }
          },
          "colorscale": {
           "diverging": [
            [
             0,
             "#8e0152"
            ],
            [
             0.1,
             "#c51b7d"
            ],
            [
             0.2,
             "#de77ae"
            ],
            [
             0.3,
             "#f1b6da"
            ],
            [
             0.4,
             "#fde0ef"
            ],
            [
             0.5,
             "#f7f7f7"
            ],
            [
             0.6,
             "#e6f5d0"
            ],
            [
             0.7,
             "#b8e186"
            ],
            [
             0.8,
             "#7fbc41"
            ],
            [
             0.9,
             "#4d9221"
            ],
            [
             1,
             "#276419"
            ]
           ],
           "sequential": [
            [
             0,
             "#0d0887"
            ],
            [
             0.1111111111111111,
             "#46039f"
            ],
            [
             0.2222222222222222,
             "#7201a8"
            ],
            [
             0.3333333333333333,
             "#9c179e"
            ],
            [
             0.4444444444444444,
             "#bd3786"
            ],
            [
             0.5555555555555556,
             "#d8576b"
            ],
            [
             0.6666666666666666,
             "#ed7953"
            ],
            [
             0.7777777777777778,
             "#fb9f3a"
            ],
            [
             0.8888888888888888,
             "#fdca26"
            ],
            [
             1,
             "#f0f921"
            ]
           ],
           "sequentialminus": [
            [
             0,
             "#0d0887"
            ],
            [
             0.1111111111111111,
             "#46039f"
            ],
            [
             0.2222222222222222,
             "#7201a8"
            ],
            [
             0.3333333333333333,
             "#9c179e"
            ],
            [
             0.4444444444444444,
             "#bd3786"
            ],
            [
             0.5555555555555556,
             "#d8576b"
            ],
            [
             0.6666666666666666,
             "#ed7953"
            ],
            [
             0.7777777777777778,
             "#fb9f3a"
            ],
            [
             0.8888888888888888,
             "#fdca26"
            ],
            [
             1,
             "#f0f921"
            ]
           ]
          },
          "colorway": [
           "#636efa",
           "#EF553B",
           "#00cc96",
           "#ab63fa",
           "#FFA15A",
           "#19d3f3",
           "#FF6692",
           "#B6E880",
           "#FF97FF",
           "#FECB52"
          ],
          "font": {
           "color": "#2a3f5f"
          },
          "geo": {
           "bgcolor": "white",
           "lakecolor": "white",
           "landcolor": "#E5ECF6",
           "showlakes": true,
           "showland": true,
           "subunitcolor": "white"
          },
          "hoverlabel": {
           "align": "left"
          },
          "hovermode": "closest",
          "mapbox": {
           "style": "light"
          },
          "paper_bgcolor": "white",
          "plot_bgcolor": "#E5ECF6",
          "polar": {
           "angularaxis": {
            "gridcolor": "white",
            "linecolor": "white",
            "ticks": ""
           },
           "bgcolor": "#E5ECF6",
           "radialaxis": {
            "gridcolor": "white",
            "linecolor": "white",
            "ticks": ""
           }
          },
          "scene": {
           "xaxis": {
            "backgroundcolor": "#E5ECF6",
            "gridcolor": "white",
            "gridwidth": 2,
            "linecolor": "white",
            "showbackground": true,
            "ticks": "",
            "zerolinecolor": "white"
           },
           "yaxis": {
            "backgroundcolor": "#E5ECF6",
            "gridcolor": "white",
            "gridwidth": 2,
            "linecolor": "white",
            "showbackground": true,
            "ticks": "",
            "zerolinecolor": "white"
           },
           "zaxis": {
            "backgroundcolor": "#E5ECF6",
            "gridcolor": "white",
            "gridwidth": 2,
            "linecolor": "white",
            "showbackground": true,
            "ticks": "",
            "zerolinecolor": "white"
           }
          },
          "shapedefaults": {
           "line": {
            "color": "#2a3f5f"
           }
          },
          "ternary": {
           "aaxis": {
            "gridcolor": "white",
            "linecolor": "white",
            "ticks": ""
           },
           "baxis": {
            "gridcolor": "white",
            "linecolor": "white",
            "ticks": ""
           },
           "bgcolor": "#E5ECF6",
           "caxis": {
            "gridcolor": "white",
            "linecolor": "white",
            "ticks": ""
           }
          },
          "title": {
           "x": 0.05
          },
          "xaxis": {
           "automargin": true,
           "gridcolor": "white",
           "linecolor": "white",
           "ticks": "",
           "title": {
            "standoff": 15
           },
           "zerolinecolor": "white",
           "zerolinewidth": 2
          },
          "yaxis": {
           "automargin": true,
           "gridcolor": "white",
           "linecolor": "white",
           "ticks": "",
           "title": {
            "standoff": 15
           },
           "zerolinecolor": "white",
           "zerolinewidth": 2
          }
         }
        },
        "title": {
         "text": "Most Active Cases around the World"
        },
        "uniformtext": {
         "minsize": 8,
         "mode": "hide"
        },
        "xaxis": {
         "anchor": "y",
         "domain": [
          0,
          1
         ],
         "title": {
          "text": "Country_Region"
         }
        },
        "yaxis": {
         "anchor": "x",
         "domain": [
          0,
          1
         ],
         "title": {
          "text": "Remaining_Confirmed_Cases"
         }
        }
       }
      },
      "text/html": [
       "<div>\n",
       "        \n",
       "        \n",
       "            <div id=\"a3394072-fdbf-42f7-8027-082dea3cf9d9\" class=\"plotly-graph-div\" style=\"height:525px; width:100%;\"></div>\n",
       "            <script type=\"text/javascript\">\n",
       "                require([\"plotly\"], function(Plotly) {\n",
       "                    window.PLOTLYENV=window.PLOTLYENV || {};\n",
       "                    \n",
       "                if (document.getElementById(\"a3394072-fdbf-42f7-8027-082dea3cf9d9\")) {\n",
       "                    Plotly.newPlot(\n",
       "                        'a3394072-fdbf-42f7-8027-082dea3cf9d9',\n",
       "                        [{\"alignmentgroup\": \"True\", \"hovertemplate\": \"Country_Region=%{x}<br>Remaining_Confirmed_Cases=%{text}<extra></extra>\", \"legendgroup\": \"\", \"marker\": {\"color\": \"#636efa\"}, \"name\": \"\", \"offsetgroup\": \"\", \"orientation\": \"v\", \"showlegend\": false, \"text\": [3782927.0, 919018.0, 598313.0, 363375.0, 314099.0, 263245.0, 245382.0, 173590.0, 169326.0, 168092.0, 140862.0, 115779.0, 108642.0, 108257.0, 82961.0, 80808.0, 63026.0, 56096.0, 53350.0, 34887.0], \"textposition\": \"outside\", \"texttemplate\": \"%{text:.2s}\", \"type\": \"bar\", \"x\": [\"US\", \"India\", \"Brazil\", \"Spain\", \"United Kingdom\", \"France\", \"Russia\", \"South Africa\", \"Colombia\", \"Peru\", \"Argentina\", \"Bangladesh\", \"Pakistan\", \"Italy\", \"Chile\", \"Turkey\", \"Saudi Arabia\", \"Iraq\", \"Mexico\", \"Iran\"], \"xaxis\": \"x\", \"y\": [3782927, 919018, 598313, 363375, 314099, 263245, 245382, 173590, 169326, 168092, 140862, 115779, 108642, 108257, 82961, 80808, 63026, 56096, 53350, 34887], \"yaxis\": \"y\"}],\n",
       "                        {\"barmode\": \"relative\", \"legend\": {\"tracegroupgap\": 0}, \"template\": {\"data\": {\"bar\": [{\"error_x\": {\"color\": \"#2a3f5f\"}, \"error_y\": {\"color\": \"#2a3f5f\"}, \"marker\": {\"line\": {\"color\": \"#E5ECF6\", \"width\": 0.5}}, \"type\": \"bar\"}], \"barpolar\": [{\"marker\": {\"line\": {\"color\": \"#E5ECF6\", \"width\": 0.5}}, \"type\": \"barpolar\"}], \"carpet\": [{\"aaxis\": {\"endlinecolor\": \"#2a3f5f\", \"gridcolor\": \"white\", \"linecolor\": \"white\", \"minorgridcolor\": \"white\", \"startlinecolor\": \"#2a3f5f\"}, \"baxis\": {\"endlinecolor\": \"#2a3f5f\", \"gridcolor\": \"white\", \"linecolor\": \"white\", \"minorgridcolor\": \"white\", \"startlinecolor\": \"#2a3f5f\"}, \"type\": \"carpet\"}], \"choropleth\": [{\"colorbar\": {\"outlinewidth\": 0, \"ticks\": \"\"}, \"type\": \"choropleth\"}], \"contour\": [{\"colorbar\": {\"outlinewidth\": 0, \"ticks\": \"\"}, \"colorscale\": [[0.0, \"#0d0887\"], [0.1111111111111111, \"#46039f\"], [0.2222222222222222, \"#7201a8\"], [0.3333333333333333, \"#9c179e\"], [0.4444444444444444, \"#bd3786\"], [0.5555555555555556, \"#d8576b\"], [0.6666666666666666, \"#ed7953\"], [0.7777777777777778, \"#fb9f3a\"], [0.8888888888888888, \"#fdca26\"], [1.0, \"#f0f921\"]], \"type\": \"contour\"}], \"contourcarpet\": [{\"colorbar\": {\"outlinewidth\": 0, \"ticks\": \"\"}, \"type\": \"contourcarpet\"}], \"heatmap\": [{\"colorbar\": {\"outlinewidth\": 0, \"ticks\": \"\"}, \"colorscale\": [[0.0, \"#0d0887\"], [0.1111111111111111, \"#46039f\"], [0.2222222222222222, \"#7201a8\"], [0.3333333333333333, \"#9c179e\"], [0.4444444444444444, \"#bd3786\"], [0.5555555555555556, \"#d8576b\"], [0.6666666666666666, \"#ed7953\"], [0.7777777777777778, \"#fb9f3a\"], [0.8888888888888888, \"#fdca26\"], [1.0, \"#f0f921\"]], \"type\": \"heatmap\"}], \"heatmapgl\": [{\"colorbar\": {\"outlinewidth\": 0, \"ticks\": \"\"}, \"colorscale\": [[0.0, \"#0d0887\"], [0.1111111111111111, \"#46039f\"], [0.2222222222222222, \"#7201a8\"], [0.3333333333333333, \"#9c179e\"], [0.4444444444444444, \"#bd3786\"], [0.5555555555555556, \"#d8576b\"], [0.6666666666666666, \"#ed7953\"], [0.7777777777777778, \"#fb9f3a\"], [0.8888888888888888, \"#fdca26\"], [1.0, \"#f0f921\"]], \"type\": \"heatmapgl\"}], \"histogram\": [{\"marker\": {\"colorbar\": {\"outlinewidth\": 0, \"ticks\": \"\"}}, \"type\": \"histogram\"}], \"histogram2d\": [{\"colorbar\": {\"outlinewidth\": 0, \"ticks\": \"\"}, \"colorscale\": [[0.0, \"#0d0887\"], [0.1111111111111111, \"#46039f\"], [0.2222222222222222, \"#7201a8\"], [0.3333333333333333, \"#9c179e\"], [0.4444444444444444, \"#bd3786\"], [0.5555555555555556, \"#d8576b\"], [0.6666666666666666, \"#ed7953\"], [0.7777777777777778, \"#fb9f3a\"], [0.8888888888888888, \"#fdca26\"], [1.0, \"#f0f921\"]], \"type\": \"histogram2d\"}], \"histogram2dcontour\": [{\"colorbar\": {\"outlinewidth\": 0, \"ticks\": \"\"}, \"colorscale\": [[0.0, \"#0d0887\"], [0.1111111111111111, \"#46039f\"], [0.2222222222222222, \"#7201a8\"], [0.3333333333333333, \"#9c179e\"], [0.4444444444444444, \"#bd3786\"], [0.5555555555555556, \"#d8576b\"], [0.6666666666666666, \"#ed7953\"], [0.7777777777777778, \"#fb9f3a\"], [0.8888888888888888, \"#fdca26\"], [1.0, \"#f0f921\"]], \"type\": \"histogram2dcontour\"}], \"mesh3d\": [{\"colorbar\": {\"outlinewidth\": 0, \"ticks\": \"\"}, \"type\": \"mesh3d\"}], \"parcoords\": [{\"line\": {\"colorbar\": {\"outlinewidth\": 0, \"ticks\": \"\"}}, \"type\": \"parcoords\"}], \"pie\": [{\"automargin\": true, \"type\": \"pie\"}], \"scatter\": [{\"marker\": {\"colorbar\": {\"outlinewidth\": 0, \"ticks\": \"\"}}, \"type\": \"scatter\"}], \"scatter3d\": [{\"line\": {\"colorbar\": {\"outlinewidth\": 0, \"ticks\": \"\"}}, \"marker\": {\"colorbar\": {\"outlinewidth\": 0, \"ticks\": \"\"}}, \"type\": \"scatter3d\"}], \"scattercarpet\": [{\"marker\": {\"colorbar\": {\"outlinewidth\": 0, \"ticks\": \"\"}}, \"type\": \"scattercarpet\"}], \"scattergeo\": [{\"marker\": {\"colorbar\": {\"outlinewidth\": 0, \"ticks\": \"\"}}, \"type\": \"scattergeo\"}], \"scattergl\": [{\"marker\": {\"colorbar\": {\"outlinewidth\": 0, \"ticks\": \"\"}}, \"type\": \"scattergl\"}], \"scattermapbox\": [{\"marker\": {\"colorbar\": {\"outlinewidth\": 0, \"ticks\": \"\"}}, \"type\": \"scattermapbox\"}], \"scatterpolar\": [{\"marker\": {\"colorbar\": {\"outlinewidth\": 0, \"ticks\": \"\"}}, \"type\": \"scatterpolar\"}], \"scatterpolargl\": [{\"marker\": {\"colorbar\": {\"outlinewidth\": 0, \"ticks\": \"\"}}, \"type\": \"scatterpolargl\"}], \"scatterternary\": [{\"marker\": {\"colorbar\": {\"outlinewidth\": 0, \"ticks\": \"\"}}, \"type\": \"scatterternary\"}], \"surface\": [{\"colorbar\": {\"outlinewidth\": 0, \"ticks\": \"\"}, \"colorscale\": [[0.0, \"#0d0887\"], [0.1111111111111111, \"#46039f\"], [0.2222222222222222, \"#7201a8\"], [0.3333333333333333, \"#9c179e\"], [0.4444444444444444, \"#bd3786\"], [0.5555555555555556, \"#d8576b\"], [0.6666666666666666, \"#ed7953\"], [0.7777777777777778, \"#fb9f3a\"], [0.8888888888888888, \"#fdca26\"], [1.0, \"#f0f921\"]], \"type\": \"surface\"}], \"table\": [{\"cells\": {\"fill\": {\"color\": \"#EBF0F8\"}, \"line\": {\"color\": \"white\"}}, \"header\": {\"fill\": {\"color\": \"#C8D4E3\"}, \"line\": {\"color\": \"white\"}}, \"type\": \"table\"}]}, \"layout\": {\"annotationdefaults\": {\"arrowcolor\": \"#2a3f5f\", \"arrowhead\": 0, \"arrowwidth\": 1}, \"coloraxis\": {\"colorbar\": {\"outlinewidth\": 0, \"ticks\": \"\"}}, \"colorscale\": {\"diverging\": [[0, \"#8e0152\"], [0.1, \"#c51b7d\"], [0.2, \"#de77ae\"], [0.3, \"#f1b6da\"], [0.4, \"#fde0ef\"], [0.5, \"#f7f7f7\"], [0.6, \"#e6f5d0\"], [0.7, \"#b8e186\"], [0.8, \"#7fbc41\"], [0.9, \"#4d9221\"], [1, \"#276419\"]], \"sequential\": [[0.0, \"#0d0887\"], [0.1111111111111111, \"#46039f\"], [0.2222222222222222, \"#7201a8\"], [0.3333333333333333, \"#9c179e\"], [0.4444444444444444, \"#bd3786\"], [0.5555555555555556, \"#d8576b\"], [0.6666666666666666, \"#ed7953\"], [0.7777777777777778, \"#fb9f3a\"], [0.8888888888888888, \"#fdca26\"], [1.0, \"#f0f921\"]], \"sequentialminus\": [[0.0, \"#0d0887\"], [0.1111111111111111, \"#46039f\"], [0.2222222222222222, \"#7201a8\"], [0.3333333333333333, \"#9c179e\"], [0.4444444444444444, \"#bd3786\"], [0.5555555555555556, \"#d8576b\"], [0.6666666666666666, \"#ed7953\"], [0.7777777777777778, \"#fb9f3a\"], [0.8888888888888888, \"#fdca26\"], [1.0, \"#f0f921\"]]}, \"colorway\": [\"#636efa\", \"#EF553B\", \"#00cc96\", \"#ab63fa\", \"#FFA15A\", \"#19d3f3\", \"#FF6692\", \"#B6E880\", \"#FF97FF\", \"#FECB52\"], \"font\": {\"color\": \"#2a3f5f\"}, \"geo\": {\"bgcolor\": \"white\", \"lakecolor\": \"white\", \"landcolor\": \"#E5ECF6\", \"showlakes\": true, \"showland\": true, \"subunitcolor\": \"white\"}, \"hoverlabel\": {\"align\": \"left\"}, \"hovermode\": \"closest\", \"mapbox\": {\"style\": \"light\"}, \"paper_bgcolor\": \"white\", \"plot_bgcolor\": \"#E5ECF6\", \"polar\": {\"angularaxis\": {\"gridcolor\": \"white\", \"linecolor\": \"white\", \"ticks\": \"\"}, \"bgcolor\": \"#E5ECF6\", \"radialaxis\": {\"gridcolor\": \"white\", \"linecolor\": \"white\", \"ticks\": \"\"}}, \"scene\": {\"xaxis\": {\"backgroundcolor\": \"#E5ECF6\", \"gridcolor\": \"white\", \"gridwidth\": 2, \"linecolor\": \"white\", \"showbackground\": true, \"ticks\": \"\", \"zerolinecolor\": \"white\"}, \"yaxis\": {\"backgroundcolor\": \"#E5ECF6\", \"gridcolor\": \"white\", \"gridwidth\": 2, \"linecolor\": \"white\", \"showbackground\": true, \"ticks\": \"\", \"zerolinecolor\": \"white\"}, \"zaxis\": {\"backgroundcolor\": \"#E5ECF6\", \"gridcolor\": \"white\", \"gridwidth\": 2, \"linecolor\": \"white\", \"showbackground\": true, \"ticks\": \"\", \"zerolinecolor\": \"white\"}}, \"shapedefaults\": {\"line\": {\"color\": \"#2a3f5f\"}}, \"ternary\": {\"aaxis\": {\"gridcolor\": \"white\", \"linecolor\": \"white\", \"ticks\": \"\"}, \"baxis\": {\"gridcolor\": \"white\", \"linecolor\": \"white\", \"ticks\": \"\"}, \"bgcolor\": \"#E5ECF6\", \"caxis\": {\"gridcolor\": \"white\", \"linecolor\": \"white\", \"ticks\": \"\"}}, \"title\": {\"x\": 0.05}, \"xaxis\": {\"automargin\": true, \"gridcolor\": \"white\", \"linecolor\": \"white\", \"ticks\": \"\", \"title\": {\"standoff\": 15}, \"zerolinecolor\": \"white\", \"zerolinewidth\": 2}, \"yaxis\": {\"automargin\": true, \"gridcolor\": \"white\", \"linecolor\": \"white\", \"ticks\": \"\", \"title\": {\"standoff\": 15}, \"zerolinecolor\": \"white\", \"zerolinewidth\": 2}}}, \"title\": {\"text\": \"Most Active Cases around the World\"}, \"uniformtext\": {\"minsize\": 8, \"mode\": \"hide\"}, \"xaxis\": {\"anchor\": \"y\", \"domain\": [0.0, 1.0], \"title\": {\"text\": \"Country_Region\"}}, \"yaxis\": {\"anchor\": \"x\", \"domain\": [0.0, 1.0], \"title\": {\"text\": \"Remaining_Confirmed_Cases\"}}},\n",
       "                        {\"responsive\": true}\n",
       "                    ).then(function(){\n",
       "                            \n",
       "var gd = document.getElementById('a3394072-fdbf-42f7-8027-082dea3cf9d9');\n",
       "var x = new MutationObserver(function (mutations, observer) {{\n",
       "        var display = window.getComputedStyle(gd).display;\n",
       "        if (!display || display === 'none') {{\n",
       "            console.log([gd, 'removed!']);\n",
       "            Plotly.purge(gd);\n",
       "            observer.disconnect();\n",
       "        }}\n",
       "}});\n",
       "\n",
       "// Listen for the removal of the full notebook cells\n",
       "var notebookContainer = gd.closest('#notebook-container');\n",
       "if (notebookContainer) {{\n",
       "    x.observe(notebookContainer, {childList: true});\n",
       "}}\n",
       "\n",
       "// Listen for the clearing of the current output cell\n",
       "var outputEl = gd.closest('.output');\n",
       "if (outputEl) {{\n",
       "    x.observe(outputEl, {childList: true});\n",
       "}}\n",
       "\n",
       "                        })\n",
       "                };\n",
       "                });\n",
       "            </script>\n",
       "        </div>"
      ]
     },
     "metadata": {},
     "output_type": "display_data"
    }
   ],
   "source": [
    "fig = px.bar(sorted_data_active, x='Country_Region', y='Remaining_Confirmed_Cases', \n",
    "             text='Remaining_Confirmed_Cases', title = 'Most Active Cases around the World')\n",
    "\n",
    "fig.update_traces(texttemplate='%{text:.2s}', textposition='outside')\n",
    "\n",
    "fig.update_layout(uniformtext_minsize=8, uniformtext_mode='hide')#, yaxis=dict(title='USD (millions)')\n",
    "\n",
    "fig.show()\n",
    "#py.offline.iplot(fig)"
   ]
  },
  {
   "cell_type": "markdown",
   "metadata": {},
   "source": [
    "## Which Country has most number of deaths from COVID?"
   ]
  },
  {
   "cell_type": "code",
   "execution_count": 31,
   "metadata": {},
   "outputs": [],
   "source": [
    "sorted_data_deaths=sorted_data.sort_values('Total_Fatalities', ascending=False)\n",
    "\n",
    "sorted_data_death = sorted_data_deaths.head(35)\n",
    "\n",
    "#sorted_data_death"
   ]
  },
  {
   "cell_type": "code",
   "execution_count": 32,
   "metadata": {},
   "outputs": [
    {
     "data": {
      "application/vnd.plotly.v1+json": {
       "config": {
        "plotlyServerURL": "https://plot.ly"
       },
       "data": [
        {
         "alignmentgroup": "True",
         "hovertemplate": "Country_Region=%{x}<br>Total_Fatalities=%{text}<extra></extra>",
         "legendgroup": "",
         "marker": {
          "color": "#636efa"
         },
         "name": "",
         "offsetgroup": "",
         "orientation": "v",
         "showlegend": false,
         "text": [
          190859,
          128539,
          75062,
          69049,
          41683,
          35577,
          30805,
          30123,
          29628,
          22669,
          22053,
          18080,
          15168,
          11702,
          10658,
          7732,
          6837,
          6365,
          4593,
          4165
         ],
         "textposition": "outside",
         "texttemplate": "%{text:.2s}",
         "type": "bar",
         "x": [
          "US",
          "Brazil",
          "India",
          "Mexico",
          "United Kingdom",
          "Italy",
          "France",
          "Peru",
          "Spain",
          "Iran",
          "Colombia",
          "Russia",
          "South Africa",
          "Chile",
          "Argentina",
          "Iraq",
          "Turkey",
          "Pakistan",
          "Bangladesh",
          "Saudi Arabia"
         ],
         "xaxis": "x",
         "y": [
          190859,
          128539,
          75062,
          69049,
          41683,
          35577,
          30805,
          30123,
          29628,
          22669,
          22053,
          18080,
          15168,
          11702,
          10658,
          7732,
          6837,
          6365,
          4593,
          4165
         ],
         "yaxis": "y"
        }
       ],
       "layout": {
        "barmode": "relative",
        "legend": {
         "tracegroupgap": 0
        },
        "template": {
         "data": {
          "bar": [
           {
            "error_x": {
             "color": "#2a3f5f"
            },
            "error_y": {
             "color": "#2a3f5f"
            },
            "marker": {
             "line": {
              "color": "#E5ECF6",
              "width": 0.5
             }
            },
            "type": "bar"
           }
          ],
          "barpolar": [
           {
            "marker": {
             "line": {
              "color": "#E5ECF6",
              "width": 0.5
             }
            },
            "type": "barpolar"
           }
          ],
          "carpet": [
           {
            "aaxis": {
             "endlinecolor": "#2a3f5f",
             "gridcolor": "white",
             "linecolor": "white",
             "minorgridcolor": "white",
             "startlinecolor": "#2a3f5f"
            },
            "baxis": {
             "endlinecolor": "#2a3f5f",
             "gridcolor": "white",
             "linecolor": "white",
             "minorgridcolor": "white",
             "startlinecolor": "#2a3f5f"
            },
            "type": "carpet"
           }
          ],
          "choropleth": [
           {
            "colorbar": {
             "outlinewidth": 0,
             "ticks": ""
            },
            "type": "choropleth"
           }
          ],
          "contour": [
           {
            "colorbar": {
             "outlinewidth": 0,
             "ticks": ""
            },
            "colorscale": [
             [
              0,
              "#0d0887"
             ],
             [
              0.1111111111111111,
              "#46039f"
             ],
             [
              0.2222222222222222,
              "#7201a8"
             ],
             [
              0.3333333333333333,
              "#9c179e"
             ],
             [
              0.4444444444444444,
              "#bd3786"
             ],
             [
              0.5555555555555556,
              "#d8576b"
             ],
             [
              0.6666666666666666,
              "#ed7953"
             ],
             [
              0.7777777777777778,
              "#fb9f3a"
             ],
             [
              0.8888888888888888,
              "#fdca26"
             ],
             [
              1,
              "#f0f921"
             ]
            ],
            "type": "contour"
           }
          ],
          "contourcarpet": [
           {
            "colorbar": {
             "outlinewidth": 0,
             "ticks": ""
            },
            "type": "contourcarpet"
           }
          ],
          "heatmap": [
           {
            "colorbar": {
             "outlinewidth": 0,
             "ticks": ""
            },
            "colorscale": [
             [
              0,
              "#0d0887"
             ],
             [
              0.1111111111111111,
              "#46039f"
             ],
             [
              0.2222222222222222,
              "#7201a8"
             ],
             [
              0.3333333333333333,
              "#9c179e"
             ],
             [
              0.4444444444444444,
              "#bd3786"
             ],
             [
              0.5555555555555556,
              "#d8576b"
             ],
             [
              0.6666666666666666,
              "#ed7953"
             ],
             [
              0.7777777777777778,
              "#fb9f3a"
             ],
             [
              0.8888888888888888,
              "#fdca26"
             ],
             [
              1,
              "#f0f921"
             ]
            ],
            "type": "heatmap"
           }
          ],
          "heatmapgl": [
           {
            "colorbar": {
             "outlinewidth": 0,
             "ticks": ""
            },
            "colorscale": [
             [
              0,
              "#0d0887"
             ],
             [
              0.1111111111111111,
              "#46039f"
             ],
             [
              0.2222222222222222,
              "#7201a8"
             ],
             [
              0.3333333333333333,
              "#9c179e"
             ],
             [
              0.4444444444444444,
              "#bd3786"
             ],
             [
              0.5555555555555556,
              "#d8576b"
             ],
             [
              0.6666666666666666,
              "#ed7953"
             ],
             [
              0.7777777777777778,
              "#fb9f3a"
             ],
             [
              0.8888888888888888,
              "#fdca26"
             ],
             [
              1,
              "#f0f921"
             ]
            ],
            "type": "heatmapgl"
           }
          ],
          "histogram": [
           {
            "marker": {
             "colorbar": {
              "outlinewidth": 0,
              "ticks": ""
             }
            },
            "type": "histogram"
           }
          ],
          "histogram2d": [
           {
            "colorbar": {
             "outlinewidth": 0,
             "ticks": ""
            },
            "colorscale": [
             [
              0,
              "#0d0887"
             ],
             [
              0.1111111111111111,
              "#46039f"
             ],
             [
              0.2222222222222222,
              "#7201a8"
             ],
             [
              0.3333333333333333,
              "#9c179e"
             ],
             [
              0.4444444444444444,
              "#bd3786"
             ],
             [
              0.5555555555555556,
              "#d8576b"
             ],
             [
              0.6666666666666666,
              "#ed7953"
             ],
             [
              0.7777777777777778,
              "#fb9f3a"
             ],
             [
              0.8888888888888888,
              "#fdca26"
             ],
             [
              1,
              "#f0f921"
             ]
            ],
            "type": "histogram2d"
           }
          ],
          "histogram2dcontour": [
           {
            "colorbar": {
             "outlinewidth": 0,
             "ticks": ""
            },
            "colorscale": [
             [
              0,
              "#0d0887"
             ],
             [
              0.1111111111111111,
              "#46039f"
             ],
             [
              0.2222222222222222,
              "#7201a8"
             ],
             [
              0.3333333333333333,
              "#9c179e"
             ],
             [
              0.4444444444444444,
              "#bd3786"
             ],
             [
              0.5555555555555556,
              "#d8576b"
             ],
             [
              0.6666666666666666,
              "#ed7953"
             ],
             [
              0.7777777777777778,
              "#fb9f3a"
             ],
             [
              0.8888888888888888,
              "#fdca26"
             ],
             [
              1,
              "#f0f921"
             ]
            ],
            "type": "histogram2dcontour"
           }
          ],
          "mesh3d": [
           {
            "colorbar": {
             "outlinewidth": 0,
             "ticks": ""
            },
            "type": "mesh3d"
           }
          ],
          "parcoords": [
           {
            "line": {
             "colorbar": {
              "outlinewidth": 0,
              "ticks": ""
             }
            },
            "type": "parcoords"
           }
          ],
          "pie": [
           {
            "automargin": true,
            "type": "pie"
           }
          ],
          "scatter": [
           {
            "marker": {
             "colorbar": {
              "outlinewidth": 0,
              "ticks": ""
             }
            },
            "type": "scatter"
           }
          ],
          "scatter3d": [
           {
            "line": {
             "colorbar": {
              "outlinewidth": 0,
              "ticks": ""
             }
            },
            "marker": {
             "colorbar": {
              "outlinewidth": 0,
              "ticks": ""
             }
            },
            "type": "scatter3d"
           }
          ],
          "scattercarpet": [
           {
            "marker": {
             "colorbar": {
              "outlinewidth": 0,
              "ticks": ""
             }
            },
            "type": "scattercarpet"
           }
          ],
          "scattergeo": [
           {
            "marker": {
             "colorbar": {
              "outlinewidth": 0,
              "ticks": ""
             }
            },
            "type": "scattergeo"
           }
          ],
          "scattergl": [
           {
            "marker": {
             "colorbar": {
              "outlinewidth": 0,
              "ticks": ""
             }
            },
            "type": "scattergl"
           }
          ],
          "scattermapbox": [
           {
            "marker": {
             "colorbar": {
              "outlinewidth": 0,
              "ticks": ""
             }
            },
            "type": "scattermapbox"
           }
          ],
          "scatterpolar": [
           {
            "marker": {
             "colorbar": {
              "outlinewidth": 0,
              "ticks": ""
             }
            },
            "type": "scatterpolar"
           }
          ],
          "scatterpolargl": [
           {
            "marker": {
             "colorbar": {
              "outlinewidth": 0,
              "ticks": ""
             }
            },
            "type": "scatterpolargl"
           }
          ],
          "scatterternary": [
           {
            "marker": {
             "colorbar": {
              "outlinewidth": 0,
              "ticks": ""
             }
            },
            "type": "scatterternary"
           }
          ],
          "surface": [
           {
            "colorbar": {
             "outlinewidth": 0,
             "ticks": ""
            },
            "colorscale": [
             [
              0,
              "#0d0887"
             ],
             [
              0.1111111111111111,
              "#46039f"
             ],
             [
              0.2222222222222222,
              "#7201a8"
             ],
             [
              0.3333333333333333,
              "#9c179e"
             ],
             [
              0.4444444444444444,
              "#bd3786"
             ],
             [
              0.5555555555555556,
              "#d8576b"
             ],
             [
              0.6666666666666666,
              "#ed7953"
             ],
             [
              0.7777777777777778,
              "#fb9f3a"
             ],
             [
              0.8888888888888888,
              "#fdca26"
             ],
             [
              1,
              "#f0f921"
             ]
            ],
            "type": "surface"
           }
          ],
          "table": [
           {
            "cells": {
             "fill": {
              "color": "#EBF0F8"
             },
             "line": {
              "color": "white"
             }
            },
            "header": {
             "fill": {
              "color": "#C8D4E3"
             },
             "line": {
              "color": "white"
             }
            },
            "type": "table"
           }
          ]
         },
         "layout": {
          "annotationdefaults": {
           "arrowcolor": "#2a3f5f",
           "arrowhead": 0,
           "arrowwidth": 1
          },
          "coloraxis": {
           "colorbar": {
            "outlinewidth": 0,
            "ticks": ""
           }
          },
          "colorscale": {
           "diverging": [
            [
             0,
             "#8e0152"
            ],
            [
             0.1,
             "#c51b7d"
            ],
            [
             0.2,
             "#de77ae"
            ],
            [
             0.3,
             "#f1b6da"
            ],
            [
             0.4,
             "#fde0ef"
            ],
            [
             0.5,
             "#f7f7f7"
            ],
            [
             0.6,
             "#e6f5d0"
            ],
            [
             0.7,
             "#b8e186"
            ],
            [
             0.8,
             "#7fbc41"
            ],
            [
             0.9,
             "#4d9221"
            ],
            [
             1,
             "#276419"
            ]
           ],
           "sequential": [
            [
             0,
             "#0d0887"
            ],
            [
             0.1111111111111111,
             "#46039f"
            ],
            [
             0.2222222222222222,
             "#7201a8"
            ],
            [
             0.3333333333333333,
             "#9c179e"
            ],
            [
             0.4444444444444444,
             "#bd3786"
            ],
            [
             0.5555555555555556,
             "#d8576b"
            ],
            [
             0.6666666666666666,
             "#ed7953"
            ],
            [
             0.7777777777777778,
             "#fb9f3a"
            ],
            [
             0.8888888888888888,
             "#fdca26"
            ],
            [
             1,
             "#f0f921"
            ]
           ],
           "sequentialminus": [
            [
             0,
             "#0d0887"
            ],
            [
             0.1111111111111111,
             "#46039f"
            ],
            [
             0.2222222222222222,
             "#7201a8"
            ],
            [
             0.3333333333333333,
             "#9c179e"
            ],
            [
             0.4444444444444444,
             "#bd3786"
            ],
            [
             0.5555555555555556,
             "#d8576b"
            ],
            [
             0.6666666666666666,
             "#ed7953"
            ],
            [
             0.7777777777777778,
             "#fb9f3a"
            ],
            [
             0.8888888888888888,
             "#fdca26"
            ],
            [
             1,
             "#f0f921"
            ]
           ]
          },
          "colorway": [
           "#636efa",
           "#EF553B",
           "#00cc96",
           "#ab63fa",
           "#FFA15A",
           "#19d3f3",
           "#FF6692",
           "#B6E880",
           "#FF97FF",
           "#FECB52"
          ],
          "font": {
           "color": "#2a3f5f"
          },
          "geo": {
           "bgcolor": "white",
           "lakecolor": "white",
           "landcolor": "#E5ECF6",
           "showlakes": true,
           "showland": true,
           "subunitcolor": "white"
          },
          "hoverlabel": {
           "align": "left"
          },
          "hovermode": "closest",
          "mapbox": {
           "style": "light"
          },
          "paper_bgcolor": "white",
          "plot_bgcolor": "#E5ECF6",
          "polar": {
           "angularaxis": {
            "gridcolor": "white",
            "linecolor": "white",
            "ticks": ""
           },
           "bgcolor": "#E5ECF6",
           "radialaxis": {
            "gridcolor": "white",
            "linecolor": "white",
            "ticks": ""
           }
          },
          "scene": {
           "xaxis": {
            "backgroundcolor": "#E5ECF6",
            "gridcolor": "white",
            "gridwidth": 2,
            "linecolor": "white",
            "showbackground": true,
            "ticks": "",
            "zerolinecolor": "white"
           },
           "yaxis": {
            "backgroundcolor": "#E5ECF6",
            "gridcolor": "white",
            "gridwidth": 2,
            "linecolor": "white",
            "showbackground": true,
            "ticks": "",
            "zerolinecolor": "white"
           },
           "zaxis": {
            "backgroundcolor": "#E5ECF6",
            "gridcolor": "white",
            "gridwidth": 2,
            "linecolor": "white",
            "showbackground": true,
            "ticks": "",
            "zerolinecolor": "white"
           }
          },
          "shapedefaults": {
           "line": {
            "color": "#2a3f5f"
           }
          },
          "ternary": {
           "aaxis": {
            "gridcolor": "white",
            "linecolor": "white",
            "ticks": ""
           },
           "baxis": {
            "gridcolor": "white",
            "linecolor": "white",
            "ticks": ""
           },
           "bgcolor": "#E5ECF6",
           "caxis": {
            "gridcolor": "white",
            "linecolor": "white",
            "ticks": ""
           }
          },
          "title": {
           "x": 0.05
          },
          "xaxis": {
           "automargin": true,
           "gridcolor": "white",
           "linecolor": "white",
           "ticks": "",
           "title": {
            "standoff": 15
           },
           "zerolinecolor": "white",
           "zerolinewidth": 2
          },
          "yaxis": {
           "automargin": true,
           "gridcolor": "white",
           "linecolor": "white",
           "ticks": "",
           "title": {
            "standoff": 15
           },
           "zerolinecolor": "white",
           "zerolinewidth": 2
          }
         }
        },
        "title": {
         "text": "Most Death Cases around the World"
        },
        "uniformtext": {
         "minsize": 8,
         "mode": "hide"
        },
        "xaxis": {
         "anchor": "y",
         "domain": [
          0,
          1
         ],
         "title": {
          "text": "Country_Region"
         }
        },
        "yaxis": {
         "anchor": "x",
         "domain": [
          0,
          1
         ],
         "title": {
          "text": "Total_Fatalities"
         }
        }
       }
      },
      "text/html": [
       "<div>\n",
       "        \n",
       "        \n",
       "            <div id=\"39db2c40-ed03-4309-b5cc-3a108c993df3\" class=\"plotly-graph-div\" style=\"height:525px; width:100%;\"></div>\n",
       "            <script type=\"text/javascript\">\n",
       "                require([\"plotly\"], function(Plotly) {\n",
       "                    window.PLOTLYENV=window.PLOTLYENV || {};\n",
       "                    \n",
       "                if (document.getElementById(\"39db2c40-ed03-4309-b5cc-3a108c993df3\")) {\n",
       "                    Plotly.newPlot(\n",
       "                        '39db2c40-ed03-4309-b5cc-3a108c993df3',\n",
       "                        [{\"alignmentgroup\": \"True\", \"hovertemplate\": \"Country_Region=%{x}<br>Total_Fatalities=%{text}<extra></extra>\", \"legendgroup\": \"\", \"marker\": {\"color\": \"#636efa\"}, \"name\": \"\", \"offsetgroup\": \"\", \"orientation\": \"v\", \"showlegend\": false, \"text\": [190859.0, 128539.0, 75062.0, 69049.0, 41683.0, 35577.0, 30805.0, 30123.0, 29628.0, 22669.0, 22053.0, 18080.0, 15168.0, 11702.0, 10658.0, 7732.0, 6837.0, 6365.0, 4593.0, 4165.0], \"textposition\": \"outside\", \"texttemplate\": \"%{text:.2s}\", \"type\": \"bar\", \"x\": [\"US\", \"Brazil\", \"India\", \"Mexico\", \"United Kingdom\", \"Italy\", \"France\", \"Peru\", \"Spain\", \"Iran\", \"Colombia\", \"Russia\", \"South Africa\", \"Chile\", \"Argentina\", \"Iraq\", \"Turkey\", \"Pakistan\", \"Bangladesh\", \"Saudi Arabia\"], \"xaxis\": \"x\", \"y\": [190859, 128539, 75062, 69049, 41683, 35577, 30805, 30123, 29628, 22669, 22053, 18080, 15168, 11702, 10658, 7732, 6837, 6365, 4593, 4165], \"yaxis\": \"y\"}],\n",
       "                        {\"barmode\": \"relative\", \"legend\": {\"tracegroupgap\": 0}, \"template\": {\"data\": {\"bar\": [{\"error_x\": {\"color\": \"#2a3f5f\"}, \"error_y\": {\"color\": \"#2a3f5f\"}, \"marker\": {\"line\": {\"color\": \"#E5ECF6\", \"width\": 0.5}}, \"type\": \"bar\"}], \"barpolar\": [{\"marker\": {\"line\": {\"color\": \"#E5ECF6\", \"width\": 0.5}}, \"type\": \"barpolar\"}], \"carpet\": [{\"aaxis\": {\"endlinecolor\": \"#2a3f5f\", \"gridcolor\": \"white\", \"linecolor\": \"white\", \"minorgridcolor\": \"white\", \"startlinecolor\": \"#2a3f5f\"}, \"baxis\": {\"endlinecolor\": \"#2a3f5f\", \"gridcolor\": \"white\", \"linecolor\": \"white\", \"minorgridcolor\": \"white\", \"startlinecolor\": \"#2a3f5f\"}, \"type\": \"carpet\"}], \"choropleth\": [{\"colorbar\": {\"outlinewidth\": 0, \"ticks\": \"\"}, \"type\": \"choropleth\"}], \"contour\": [{\"colorbar\": {\"outlinewidth\": 0, \"ticks\": \"\"}, \"colorscale\": [[0.0, \"#0d0887\"], [0.1111111111111111, \"#46039f\"], [0.2222222222222222, \"#7201a8\"], [0.3333333333333333, \"#9c179e\"], [0.4444444444444444, \"#bd3786\"], [0.5555555555555556, \"#d8576b\"], [0.6666666666666666, \"#ed7953\"], [0.7777777777777778, \"#fb9f3a\"], [0.8888888888888888, \"#fdca26\"], [1.0, \"#f0f921\"]], \"type\": \"contour\"}], \"contourcarpet\": [{\"colorbar\": {\"outlinewidth\": 0, \"ticks\": \"\"}, \"type\": \"contourcarpet\"}], \"heatmap\": [{\"colorbar\": {\"outlinewidth\": 0, \"ticks\": \"\"}, \"colorscale\": [[0.0, \"#0d0887\"], [0.1111111111111111, \"#46039f\"], [0.2222222222222222, \"#7201a8\"], [0.3333333333333333, \"#9c179e\"], [0.4444444444444444, \"#bd3786\"], [0.5555555555555556, \"#d8576b\"], [0.6666666666666666, \"#ed7953\"], [0.7777777777777778, \"#fb9f3a\"], [0.8888888888888888, \"#fdca26\"], [1.0, \"#f0f921\"]], \"type\": \"heatmap\"}], \"heatmapgl\": [{\"colorbar\": {\"outlinewidth\": 0, \"ticks\": \"\"}, \"colorscale\": [[0.0, \"#0d0887\"], [0.1111111111111111, \"#46039f\"], [0.2222222222222222, \"#7201a8\"], [0.3333333333333333, \"#9c179e\"], [0.4444444444444444, \"#bd3786\"], [0.5555555555555556, \"#d8576b\"], [0.6666666666666666, \"#ed7953\"], [0.7777777777777778, \"#fb9f3a\"], [0.8888888888888888, \"#fdca26\"], [1.0, \"#f0f921\"]], \"type\": \"heatmapgl\"}], \"histogram\": [{\"marker\": {\"colorbar\": {\"outlinewidth\": 0, \"ticks\": \"\"}}, \"type\": \"histogram\"}], \"histogram2d\": [{\"colorbar\": {\"outlinewidth\": 0, \"ticks\": \"\"}, \"colorscale\": [[0.0, \"#0d0887\"], [0.1111111111111111, \"#46039f\"], [0.2222222222222222, \"#7201a8\"], [0.3333333333333333, \"#9c179e\"], [0.4444444444444444, \"#bd3786\"], [0.5555555555555556, \"#d8576b\"], [0.6666666666666666, \"#ed7953\"], [0.7777777777777778, \"#fb9f3a\"], [0.8888888888888888, \"#fdca26\"], [1.0, \"#f0f921\"]], \"type\": \"histogram2d\"}], \"histogram2dcontour\": [{\"colorbar\": {\"outlinewidth\": 0, \"ticks\": \"\"}, \"colorscale\": [[0.0, \"#0d0887\"], [0.1111111111111111, \"#46039f\"], [0.2222222222222222, \"#7201a8\"], [0.3333333333333333, \"#9c179e\"], [0.4444444444444444, \"#bd3786\"], [0.5555555555555556, \"#d8576b\"], [0.6666666666666666, \"#ed7953\"], [0.7777777777777778, \"#fb9f3a\"], [0.8888888888888888, \"#fdca26\"], [1.0, \"#f0f921\"]], \"type\": \"histogram2dcontour\"}], \"mesh3d\": [{\"colorbar\": {\"outlinewidth\": 0, \"ticks\": \"\"}, \"type\": \"mesh3d\"}], \"parcoords\": [{\"line\": {\"colorbar\": {\"outlinewidth\": 0, \"ticks\": \"\"}}, \"type\": \"parcoords\"}], \"pie\": [{\"automargin\": true, \"type\": \"pie\"}], \"scatter\": [{\"marker\": {\"colorbar\": {\"outlinewidth\": 0, \"ticks\": \"\"}}, \"type\": \"scatter\"}], \"scatter3d\": [{\"line\": {\"colorbar\": {\"outlinewidth\": 0, \"ticks\": \"\"}}, \"marker\": {\"colorbar\": {\"outlinewidth\": 0, \"ticks\": \"\"}}, \"type\": \"scatter3d\"}], \"scattercarpet\": [{\"marker\": {\"colorbar\": {\"outlinewidth\": 0, \"ticks\": \"\"}}, \"type\": \"scattercarpet\"}], \"scattergeo\": [{\"marker\": {\"colorbar\": {\"outlinewidth\": 0, \"ticks\": \"\"}}, \"type\": \"scattergeo\"}], \"scattergl\": [{\"marker\": {\"colorbar\": {\"outlinewidth\": 0, \"ticks\": \"\"}}, \"type\": \"scattergl\"}], \"scattermapbox\": [{\"marker\": {\"colorbar\": {\"outlinewidth\": 0, \"ticks\": \"\"}}, \"type\": \"scattermapbox\"}], \"scatterpolar\": [{\"marker\": {\"colorbar\": {\"outlinewidth\": 0, \"ticks\": \"\"}}, \"type\": \"scatterpolar\"}], \"scatterpolargl\": [{\"marker\": {\"colorbar\": {\"outlinewidth\": 0, \"ticks\": \"\"}}, \"type\": \"scatterpolargl\"}], \"scatterternary\": [{\"marker\": {\"colorbar\": {\"outlinewidth\": 0, \"ticks\": \"\"}}, \"type\": \"scatterternary\"}], \"surface\": [{\"colorbar\": {\"outlinewidth\": 0, \"ticks\": \"\"}, \"colorscale\": [[0.0, \"#0d0887\"], [0.1111111111111111, \"#46039f\"], [0.2222222222222222, \"#7201a8\"], [0.3333333333333333, \"#9c179e\"], [0.4444444444444444, \"#bd3786\"], [0.5555555555555556, \"#d8576b\"], [0.6666666666666666, \"#ed7953\"], [0.7777777777777778, \"#fb9f3a\"], [0.8888888888888888, \"#fdca26\"], [1.0, \"#f0f921\"]], \"type\": \"surface\"}], \"table\": [{\"cells\": {\"fill\": {\"color\": \"#EBF0F8\"}, \"line\": {\"color\": \"white\"}}, \"header\": {\"fill\": {\"color\": \"#C8D4E3\"}, \"line\": {\"color\": \"white\"}}, \"type\": \"table\"}]}, \"layout\": {\"annotationdefaults\": {\"arrowcolor\": \"#2a3f5f\", \"arrowhead\": 0, \"arrowwidth\": 1}, \"coloraxis\": {\"colorbar\": {\"outlinewidth\": 0, \"ticks\": \"\"}}, \"colorscale\": {\"diverging\": [[0, \"#8e0152\"], [0.1, \"#c51b7d\"], [0.2, \"#de77ae\"], [0.3, \"#f1b6da\"], [0.4, \"#fde0ef\"], [0.5, \"#f7f7f7\"], [0.6, \"#e6f5d0\"], [0.7, \"#b8e186\"], [0.8, \"#7fbc41\"], [0.9, \"#4d9221\"], [1, \"#276419\"]], \"sequential\": [[0.0, \"#0d0887\"], [0.1111111111111111, \"#46039f\"], [0.2222222222222222, \"#7201a8\"], [0.3333333333333333, \"#9c179e\"], [0.4444444444444444, \"#bd3786\"], [0.5555555555555556, \"#d8576b\"], [0.6666666666666666, \"#ed7953\"], [0.7777777777777778, \"#fb9f3a\"], [0.8888888888888888, \"#fdca26\"], [1.0, \"#f0f921\"]], \"sequentialminus\": [[0.0, \"#0d0887\"], [0.1111111111111111, \"#46039f\"], [0.2222222222222222, \"#7201a8\"], [0.3333333333333333, \"#9c179e\"], [0.4444444444444444, \"#bd3786\"], [0.5555555555555556, \"#d8576b\"], [0.6666666666666666, \"#ed7953\"], [0.7777777777777778, \"#fb9f3a\"], [0.8888888888888888, \"#fdca26\"], [1.0, \"#f0f921\"]]}, \"colorway\": [\"#636efa\", \"#EF553B\", \"#00cc96\", \"#ab63fa\", \"#FFA15A\", \"#19d3f3\", \"#FF6692\", \"#B6E880\", \"#FF97FF\", \"#FECB52\"], \"font\": {\"color\": \"#2a3f5f\"}, \"geo\": {\"bgcolor\": \"white\", \"lakecolor\": \"white\", \"landcolor\": \"#E5ECF6\", \"showlakes\": true, \"showland\": true, \"subunitcolor\": \"white\"}, \"hoverlabel\": {\"align\": \"left\"}, \"hovermode\": \"closest\", \"mapbox\": {\"style\": \"light\"}, \"paper_bgcolor\": \"white\", \"plot_bgcolor\": \"#E5ECF6\", \"polar\": {\"angularaxis\": {\"gridcolor\": \"white\", \"linecolor\": \"white\", \"ticks\": \"\"}, \"bgcolor\": \"#E5ECF6\", \"radialaxis\": {\"gridcolor\": \"white\", \"linecolor\": \"white\", \"ticks\": \"\"}}, \"scene\": {\"xaxis\": {\"backgroundcolor\": \"#E5ECF6\", \"gridcolor\": \"white\", \"gridwidth\": 2, \"linecolor\": \"white\", \"showbackground\": true, \"ticks\": \"\", \"zerolinecolor\": \"white\"}, \"yaxis\": {\"backgroundcolor\": \"#E5ECF6\", \"gridcolor\": \"white\", \"gridwidth\": 2, \"linecolor\": \"white\", \"showbackground\": true, \"ticks\": \"\", \"zerolinecolor\": \"white\"}, \"zaxis\": {\"backgroundcolor\": \"#E5ECF6\", \"gridcolor\": \"white\", \"gridwidth\": 2, \"linecolor\": \"white\", \"showbackground\": true, \"ticks\": \"\", \"zerolinecolor\": \"white\"}}, \"shapedefaults\": {\"line\": {\"color\": \"#2a3f5f\"}}, \"ternary\": {\"aaxis\": {\"gridcolor\": \"white\", \"linecolor\": \"white\", \"ticks\": \"\"}, \"baxis\": {\"gridcolor\": \"white\", \"linecolor\": \"white\", \"ticks\": \"\"}, \"bgcolor\": \"#E5ECF6\", \"caxis\": {\"gridcolor\": \"white\", \"linecolor\": \"white\", \"ticks\": \"\"}}, \"title\": {\"x\": 0.05}, \"xaxis\": {\"automargin\": true, \"gridcolor\": \"white\", \"linecolor\": \"white\", \"ticks\": \"\", \"title\": {\"standoff\": 15}, \"zerolinecolor\": \"white\", \"zerolinewidth\": 2}, \"yaxis\": {\"automargin\": true, \"gridcolor\": \"white\", \"linecolor\": \"white\", \"ticks\": \"\", \"title\": {\"standoff\": 15}, \"zerolinecolor\": \"white\", \"zerolinewidth\": 2}}}, \"title\": {\"text\": \"Most Death Cases around the World\"}, \"uniformtext\": {\"minsize\": 8, \"mode\": \"hide\"}, \"xaxis\": {\"anchor\": \"y\", \"domain\": [0.0, 1.0], \"title\": {\"text\": \"Country_Region\"}}, \"yaxis\": {\"anchor\": \"x\", \"domain\": [0.0, 1.0], \"title\": {\"text\": \"Total_Fatalities\"}}},\n",
       "                        {\"responsive\": true}\n",
       "                    ).then(function(){\n",
       "                            \n",
       "var gd = document.getElementById('39db2c40-ed03-4309-b5cc-3a108c993df3');\n",
       "var x = new MutationObserver(function (mutations, observer) {{\n",
       "        var display = window.getComputedStyle(gd).display;\n",
       "        if (!display || display === 'none') {{\n",
       "            console.log([gd, 'removed!']);\n",
       "            Plotly.purge(gd);\n",
       "            observer.disconnect();\n",
       "        }}\n",
       "}});\n",
       "\n",
       "// Listen for the removal of the full notebook cells\n",
       "var notebookContainer = gd.closest('#notebook-container');\n",
       "if (notebookContainer) {{\n",
       "    x.observe(notebookContainer, {childList: true});\n",
       "}}\n",
       "\n",
       "// Listen for the clearing of the current output cell\n",
       "var outputEl = gd.closest('.output');\n",
       "if (outputEl) {{\n",
       "    x.observe(outputEl, {childList: true});\n",
       "}}\n",
       "\n",
       "                        })\n",
       "                };\n",
       "                });\n",
       "            </script>\n",
       "        </div>"
      ]
     },
     "metadata": {},
     "output_type": "display_data"
    }
   ],
   "source": [
    "fig = px.bar(sorted_data_death, x='Country_Region', y='Total_Fatalities', \n",
    "             text='Total_Fatalities', title = 'Most Death Cases around the World')\n",
    "\n",
    "fig.update_traces(texttemplate='%{text:.2s}', textposition='outside')\n",
    "\n",
    "fig.update_layout(uniformtext_minsize=8, uniformtext_mode='hide')\n",
    "\n",
    "fig.show()"
   ]
  },
  {
   "cell_type": "markdown",
   "metadata": {},
   "source": [
    "## Compare Confirmed Cases vs Total Recovered vs Total Deaths for Top 30 countries"
   ]
  },
  {
   "cell_type": "code",
   "execution_count": 33,
   "metadata": {},
   "outputs": [],
   "source": [
    "total_new_cases = df.groupby('Country_Region')['Country_Region', \n",
    "                                               'Total_Recovered_Cases', 'Total_Confirmed_Cases','Total_Fatalities'].max()#.reset_index()\n",
    "total_new_cases=total_new_cases.sort_values('Total_Confirmed_Cases', ascending = False)\n",
    "total_new_cases=total_new_cases.head(35)\n",
    "#total_new_cases"
   ]
  },
  {
   "cell_type": "code",
   "execution_count": 42,
   "metadata": {},
   "outputs": [
    {
     "data": {
      "application/vnd.plotly.v1+json": {
       "config": {
        "plotlyServerURL": "https://plot.ly"
       },
       "data": [
        {
         "marker": {
          "color": "rgb(55, 83, 109)"
         },
         "name": "Confirmed",
         "type": "bar",
         "x": [
          "US",
          "India",
          "Brazil",
          "Russia",
          "Peru",
          "Colombia",
          "Mexico",
          "South Africa",
          "Spain",
          "Argentina",
          "Chile",
          "Iran",
          "France",
          "United Kingdom",
          "Bangladesh",
          "Saudi Arabia",
          "Pakistan",
          "Turkey",
          "Italy",
          "Iraq",
          "Germany",
          "Philippines",
          "Indonesia",
          "Ukraine",
          "Israel",
          "Canada",
          "Bolivia",
          "Qatar",
          "Ecuador",
          "Kazakhstan",
          "Dominican Republic",
          "Egypt",
          "Panama",
          "Romania",
          "Kuwait"
         ],
         "y": [
          6361265,
          4465863,
          4197889,
          1037526,
          696190,
          686851,
          647321,
          642431,
          543379,
          512293,
          427027,
          393425,
          383292,
          357613,
          331078,
          323012,
          300030,
          284943,
          281583,
          273821,
          256433,
          245143,
          203342,
          146511,
          141097,
          136135,
          123345,
          120846,
          118045,
          106584,
          100937,
          100403,
          99042,
          98304,
          92082
         ]
        },
        {
         "marker": {
          "color": "rgb(26, 118, 255)"
         },
         "name": "Recovered",
         "type": "bar",
         "x": [
          "US",
          "India",
          "Brazil",
          "Russia",
          "Peru",
          "Colombia",
          "Mexico",
          "South Africa",
          "Spain",
          "Argentina",
          "Chile",
          "Iran",
          "France",
          "United Kingdom",
          "Bangladesh",
          "Saudi Arabia",
          "Pakistan",
          "Turkey",
          "Italy",
          "Iraq",
          "Germany",
          "Philippines",
          "Indonesia",
          "Ukraine",
          "Israel",
          "Canada",
          "Bolivia",
          "Qatar",
          "Ecuador",
          "Kazakhstan",
          "Dominican Republic",
          "Egypt",
          "Panama",
          "Romania",
          "Kuwait"
         ],
         "y": [
          2387479,
          3471783,
          3611632,
          854069,
          536959,
          552885,
          538514,
          569935,
          150376,
          382490,
          399555,
          339111,
          89242,
          1831,
          230804,
          298966,
          287658,
          254188,
          211272,
          209993,
          228784,
          185543,
          145200,
          67092,
          108354,
          119789,
          77216,
          117746,
          102304,
          100248,
          74305,
          80689,
          71419,
          41002,
          82222
         ]
        },
        {
         "marker": {
          "color": "rgb(200, 20, 25)"
         },
         "name": "Deaths",
         "type": "bar",
         "x": [
          "US",
          "India",
          "Brazil",
          "Russia",
          "Peru",
          "Colombia",
          "Mexico",
          "South Africa",
          "Spain",
          "Argentina",
          "Chile",
          "Iran",
          "France",
          "United Kingdom",
          "Bangladesh",
          "Saudi Arabia",
          "Pakistan",
          "Turkey",
          "Italy",
          "Iraq",
          "Germany",
          "Philippines",
          "Indonesia",
          "Ukraine",
          "Israel",
          "Canada",
          "Bolivia",
          "Qatar",
          "Ecuador",
          "Kazakhstan",
          "Dominican Republic",
          "Egypt",
          "Panama",
          "Romania",
          "Kuwait"
         ],
         "y": [
          190859,
          75062,
          128539,
          18080,
          30123,
          22053,
          69049,
          15168,
          29628,
          10658,
          11702,
          22669,
          30805,
          41683,
          4593,
          4165,
          6365,
          6837,
          35577,
          7732,
          9342,
          3986,
          8336,
          3034,
          1054,
          9204,
          7146,
          205,
          10701,
          1634,
          1914,
          5577,
          2116,
          4018,
          552
         ]
        }
       ],
       "layout": {
        "bargap": 0.15,
        "bargroupgap": 0.1,
        "barmode": "group",
        "legend": {
         "bgcolor": "rgba(255, 255, 255, 0)",
         "bordercolor": "rgba(255, 255, 255, 0)",
         "x": 1,
         "y": 1
        },
        "template": {
         "data": {
          "bar": [
           {
            "error_x": {
             "color": "#2a3f5f"
            },
            "error_y": {
             "color": "#2a3f5f"
            },
            "marker": {
             "line": {
              "color": "#E5ECF6",
              "width": 0.5
             }
            },
            "type": "bar"
           }
          ],
          "barpolar": [
           {
            "marker": {
             "line": {
              "color": "#E5ECF6",
              "width": 0.5
             }
            },
            "type": "barpolar"
           }
          ],
          "carpet": [
           {
            "aaxis": {
             "endlinecolor": "#2a3f5f",
             "gridcolor": "white",
             "linecolor": "white",
             "minorgridcolor": "white",
             "startlinecolor": "#2a3f5f"
            },
            "baxis": {
             "endlinecolor": "#2a3f5f",
             "gridcolor": "white",
             "linecolor": "white",
             "minorgridcolor": "white",
             "startlinecolor": "#2a3f5f"
            },
            "type": "carpet"
           }
          ],
          "choropleth": [
           {
            "colorbar": {
             "outlinewidth": 0,
             "ticks": ""
            },
            "type": "choropleth"
           }
          ],
          "contour": [
           {
            "colorbar": {
             "outlinewidth": 0,
             "ticks": ""
            },
            "colorscale": [
             [
              0,
              "#0d0887"
             ],
             [
              0.1111111111111111,
              "#46039f"
             ],
             [
              0.2222222222222222,
              "#7201a8"
             ],
             [
              0.3333333333333333,
              "#9c179e"
             ],
             [
              0.4444444444444444,
              "#bd3786"
             ],
             [
              0.5555555555555556,
              "#d8576b"
             ],
             [
              0.6666666666666666,
              "#ed7953"
             ],
             [
              0.7777777777777778,
              "#fb9f3a"
             ],
             [
              0.8888888888888888,
              "#fdca26"
             ],
             [
              1,
              "#f0f921"
             ]
            ],
            "type": "contour"
           }
          ],
          "contourcarpet": [
           {
            "colorbar": {
             "outlinewidth": 0,
             "ticks": ""
            },
            "type": "contourcarpet"
           }
          ],
          "heatmap": [
           {
            "colorbar": {
             "outlinewidth": 0,
             "ticks": ""
            },
            "colorscale": [
             [
              0,
              "#0d0887"
             ],
             [
              0.1111111111111111,
              "#46039f"
             ],
             [
              0.2222222222222222,
              "#7201a8"
             ],
             [
              0.3333333333333333,
              "#9c179e"
             ],
             [
              0.4444444444444444,
              "#bd3786"
             ],
             [
              0.5555555555555556,
              "#d8576b"
             ],
             [
              0.6666666666666666,
              "#ed7953"
             ],
             [
              0.7777777777777778,
              "#fb9f3a"
             ],
             [
              0.8888888888888888,
              "#fdca26"
             ],
             [
              1,
              "#f0f921"
             ]
            ],
            "type": "heatmap"
           }
          ],
          "heatmapgl": [
           {
            "colorbar": {
             "outlinewidth": 0,
             "ticks": ""
            },
            "colorscale": [
             [
              0,
              "#0d0887"
             ],
             [
              0.1111111111111111,
              "#46039f"
             ],
             [
              0.2222222222222222,
              "#7201a8"
             ],
             [
              0.3333333333333333,
              "#9c179e"
             ],
             [
              0.4444444444444444,
              "#bd3786"
             ],
             [
              0.5555555555555556,
              "#d8576b"
             ],
             [
              0.6666666666666666,
              "#ed7953"
             ],
             [
              0.7777777777777778,
              "#fb9f3a"
             ],
             [
              0.8888888888888888,
              "#fdca26"
             ],
             [
              1,
              "#f0f921"
             ]
            ],
            "type": "heatmapgl"
           }
          ],
          "histogram": [
           {
            "marker": {
             "colorbar": {
              "outlinewidth": 0,
              "ticks": ""
             }
            },
            "type": "histogram"
           }
          ],
          "histogram2d": [
           {
            "colorbar": {
             "outlinewidth": 0,
             "ticks": ""
            },
            "colorscale": [
             [
              0,
              "#0d0887"
             ],
             [
              0.1111111111111111,
              "#46039f"
             ],
             [
              0.2222222222222222,
              "#7201a8"
             ],
             [
              0.3333333333333333,
              "#9c179e"
             ],
             [
              0.4444444444444444,
              "#bd3786"
             ],
             [
              0.5555555555555556,
              "#d8576b"
             ],
             [
              0.6666666666666666,
              "#ed7953"
             ],
             [
              0.7777777777777778,
              "#fb9f3a"
             ],
             [
              0.8888888888888888,
              "#fdca26"
             ],
             [
              1,
              "#f0f921"
             ]
            ],
            "type": "histogram2d"
           }
          ],
          "histogram2dcontour": [
           {
            "colorbar": {
             "outlinewidth": 0,
             "ticks": ""
            },
            "colorscale": [
             [
              0,
              "#0d0887"
             ],
             [
              0.1111111111111111,
              "#46039f"
             ],
             [
              0.2222222222222222,
              "#7201a8"
             ],
             [
              0.3333333333333333,
              "#9c179e"
             ],
             [
              0.4444444444444444,
              "#bd3786"
             ],
             [
              0.5555555555555556,
              "#d8576b"
             ],
             [
              0.6666666666666666,
              "#ed7953"
             ],
             [
              0.7777777777777778,
              "#fb9f3a"
             ],
             [
              0.8888888888888888,
              "#fdca26"
             ],
             [
              1,
              "#f0f921"
             ]
            ],
            "type": "histogram2dcontour"
           }
          ],
          "mesh3d": [
           {
            "colorbar": {
             "outlinewidth": 0,
             "ticks": ""
            },
            "type": "mesh3d"
           }
          ],
          "parcoords": [
           {
            "line": {
             "colorbar": {
              "outlinewidth": 0,
              "ticks": ""
             }
            },
            "type": "parcoords"
           }
          ],
          "pie": [
           {
            "automargin": true,
            "type": "pie"
           }
          ],
          "scatter": [
           {
            "marker": {
             "colorbar": {
              "outlinewidth": 0,
              "ticks": ""
             }
            },
            "type": "scatter"
           }
          ],
          "scatter3d": [
           {
            "line": {
             "colorbar": {
              "outlinewidth": 0,
              "ticks": ""
             }
            },
            "marker": {
             "colorbar": {
              "outlinewidth": 0,
              "ticks": ""
             }
            },
            "type": "scatter3d"
           }
          ],
          "scattercarpet": [
           {
            "marker": {
             "colorbar": {
              "outlinewidth": 0,
              "ticks": ""
             }
            },
            "type": "scattercarpet"
           }
          ],
          "scattergeo": [
           {
            "marker": {
             "colorbar": {
              "outlinewidth": 0,
              "ticks": ""
             }
            },
            "type": "scattergeo"
           }
          ],
          "scattergl": [
           {
            "marker": {
             "colorbar": {
              "outlinewidth": 0,
              "ticks": ""
             }
            },
            "type": "scattergl"
           }
          ],
          "scattermapbox": [
           {
            "marker": {
             "colorbar": {
              "outlinewidth": 0,
              "ticks": ""
             }
            },
            "type": "scattermapbox"
           }
          ],
          "scatterpolar": [
           {
            "marker": {
             "colorbar": {
              "outlinewidth": 0,
              "ticks": ""
             }
            },
            "type": "scatterpolar"
           }
          ],
          "scatterpolargl": [
           {
            "marker": {
             "colorbar": {
              "outlinewidth": 0,
              "ticks": ""
             }
            },
            "type": "scatterpolargl"
           }
          ],
          "scatterternary": [
           {
            "marker": {
             "colorbar": {
              "outlinewidth": 0,
              "ticks": ""
             }
            },
            "type": "scatterternary"
           }
          ],
          "surface": [
           {
            "colorbar": {
             "outlinewidth": 0,
             "ticks": ""
            },
            "colorscale": [
             [
              0,
              "#0d0887"
             ],
             [
              0.1111111111111111,
              "#46039f"
             ],
             [
              0.2222222222222222,
              "#7201a8"
             ],
             [
              0.3333333333333333,
              "#9c179e"
             ],
             [
              0.4444444444444444,
              "#bd3786"
             ],
             [
              0.5555555555555556,
              "#d8576b"
             ],
             [
              0.6666666666666666,
              "#ed7953"
             ],
             [
              0.7777777777777778,
              "#fb9f3a"
             ],
             [
              0.8888888888888888,
              "#fdca26"
             ],
             [
              1,
              "#f0f921"
             ]
            ],
            "type": "surface"
           }
          ],
          "table": [
           {
            "cells": {
             "fill": {
              "color": "#EBF0F8"
             },
             "line": {
              "color": "white"
             }
            },
            "header": {
             "fill": {
              "color": "#C8D4E3"
             },
             "line": {
              "color": "white"
             }
            },
            "type": "table"
           }
          ]
         },
         "layout": {
          "annotationdefaults": {
           "arrowcolor": "#2a3f5f",
           "arrowhead": 0,
           "arrowwidth": 1
          },
          "coloraxis": {
           "colorbar": {
            "outlinewidth": 0,
            "ticks": ""
           }
          },
          "colorscale": {
           "diverging": [
            [
             0,
             "#8e0152"
            ],
            [
             0.1,
             "#c51b7d"
            ],
            [
             0.2,
             "#de77ae"
            ],
            [
             0.3,
             "#f1b6da"
            ],
            [
             0.4,
             "#fde0ef"
            ],
            [
             0.5,
             "#f7f7f7"
            ],
            [
             0.6,
             "#e6f5d0"
            ],
            [
             0.7,
             "#b8e186"
            ],
            [
             0.8,
             "#7fbc41"
            ],
            [
             0.9,
             "#4d9221"
            ],
            [
             1,
             "#276419"
            ]
           ],
           "sequential": [
            [
             0,
             "#0d0887"
            ],
            [
             0.1111111111111111,
             "#46039f"
            ],
            [
             0.2222222222222222,
             "#7201a8"
            ],
            [
             0.3333333333333333,
             "#9c179e"
            ],
            [
             0.4444444444444444,
             "#bd3786"
            ],
            [
             0.5555555555555556,
             "#d8576b"
            ],
            [
             0.6666666666666666,
             "#ed7953"
            ],
            [
             0.7777777777777778,
             "#fb9f3a"
            ],
            [
             0.8888888888888888,
             "#fdca26"
            ],
            [
             1,
             "#f0f921"
            ]
           ],
           "sequentialminus": [
            [
             0,
             "#0d0887"
            ],
            [
             0.1111111111111111,
             "#46039f"
            ],
            [
             0.2222222222222222,
             "#7201a8"
            ],
            [
             0.3333333333333333,
             "#9c179e"
            ],
            [
             0.4444444444444444,
             "#bd3786"
            ],
            [
             0.5555555555555556,
             "#d8576b"
            ],
            [
             0.6666666666666666,
             "#ed7953"
            ],
            [
             0.7777777777777778,
             "#fb9f3a"
            ],
            [
             0.8888888888888888,
             "#fdca26"
            ],
            [
             1,
             "#f0f921"
            ]
           ]
          },
          "colorway": [
           "#636efa",
           "#EF553B",
           "#00cc96",
           "#ab63fa",
           "#FFA15A",
           "#19d3f3",
           "#FF6692",
           "#B6E880",
           "#FF97FF",
           "#FECB52"
          ],
          "font": {
           "color": "#2a3f5f"
          },
          "geo": {
           "bgcolor": "white",
           "lakecolor": "white",
           "landcolor": "#E5ECF6",
           "showlakes": true,
           "showland": true,
           "subunitcolor": "white"
          },
          "hoverlabel": {
           "align": "left"
          },
          "hovermode": "closest",
          "mapbox": {
           "style": "light"
          },
          "paper_bgcolor": "white",
          "plot_bgcolor": "#E5ECF6",
          "polar": {
           "angularaxis": {
            "gridcolor": "white",
            "linecolor": "white",
            "ticks": ""
           },
           "bgcolor": "#E5ECF6",
           "radialaxis": {
            "gridcolor": "white",
            "linecolor": "white",
            "ticks": ""
           }
          },
          "scene": {
           "xaxis": {
            "backgroundcolor": "#E5ECF6",
            "gridcolor": "white",
            "gridwidth": 2,
            "linecolor": "white",
            "showbackground": true,
            "ticks": "",
            "zerolinecolor": "white"
           },
           "yaxis": {
            "backgroundcolor": "#E5ECF6",
            "gridcolor": "white",
            "gridwidth": 2,
            "linecolor": "white",
            "showbackground": true,
            "ticks": "",
            "zerolinecolor": "white"
           },
           "zaxis": {
            "backgroundcolor": "#E5ECF6",
            "gridcolor": "white",
            "gridwidth": 2,
            "linecolor": "white",
            "showbackground": true,
            "ticks": "",
            "zerolinecolor": "white"
           }
          },
          "shapedefaults": {
           "line": {
            "color": "#2a3f5f"
           }
          },
          "ternary": {
           "aaxis": {
            "gridcolor": "white",
            "linecolor": "white",
            "ticks": ""
           },
           "baxis": {
            "gridcolor": "white",
            "linecolor": "white",
            "ticks": ""
           },
           "bgcolor": "#E5ECF6",
           "caxis": {
            "gridcolor": "white",
            "linecolor": "white",
            "ticks": ""
           }
          },
          "title": {
           "x": 0.05
          },
          "xaxis": {
           "automargin": true,
           "gridcolor": "white",
           "linecolor": "white",
           "ticks": "",
           "title": {
            "standoff": 15
           },
           "zerolinecolor": "white",
           "zerolinewidth": 2
          },
          "yaxis": {
           "automargin": true,
           "gridcolor": "white",
           "linecolor": "white",
           "ticks": "",
           "title": {
            "standoff": 15
           },
           "zerolinecolor": "white",
           "zerolinewidth": 2
          }
         }
        },
        "title": {
         "text": "Total Cases vs. Total Recovered"
        },
        "xaxis": {
         "tickfont": {
          "size": 10
         }
        },
        "yaxis": {
         "tickfont": {
          "size": 14
         },
         "title": {
          "font": {
           "size": 16
          },
          "text": "COVID-19 Cases"
         }
        }
       }
      },
      "text/html": [
       "<div>\n",
       "        \n",
       "        \n",
       "            <div id=\"430f63a4-4058-42f8-854b-d7322d3d5949\" class=\"plotly-graph-div\" style=\"height:525px; width:100%;\"></div>\n",
       "            <script type=\"text/javascript\">\n",
       "                require([\"plotly\"], function(Plotly) {\n",
       "                    window.PLOTLYENV=window.PLOTLYENV || {};\n",
       "                    \n",
       "                if (document.getElementById(\"430f63a4-4058-42f8-854b-d7322d3d5949\")) {\n",
       "                    Plotly.newPlot(\n",
       "                        '430f63a4-4058-42f8-854b-d7322d3d5949',\n",
       "                        [{\"marker\": {\"color\": \"rgb(55, 83, 109)\"}, \"name\": \"Confirmed\", \"type\": \"bar\", \"x\": [\"US\", \"India\", \"Brazil\", \"Russia\", \"Peru\", \"Colombia\", \"Mexico\", \"South Africa\", \"Spain\", \"Argentina\", \"Chile\", \"Iran\", \"France\", \"United Kingdom\", \"Bangladesh\", \"Saudi Arabia\", \"Pakistan\", \"Turkey\", \"Italy\", \"Iraq\", \"Germany\", \"Philippines\", \"Indonesia\", \"Ukraine\", \"Israel\", \"Canada\", \"Bolivia\", \"Qatar\", \"Ecuador\", \"Kazakhstan\", \"Dominican Republic\", \"Egypt\", \"Panama\", \"Romania\", \"Kuwait\"], \"y\": [6361265, 4465863, 4197889, 1037526, 696190, 686851, 647321, 642431, 543379, 512293, 427027, 393425, 383292, 357613, 331078, 323012, 300030, 284943, 281583, 273821, 256433, 245143, 203342, 146511, 141097, 136135, 123345, 120846, 118045, 106584, 100937, 100403, 99042, 98304, 92082]}, {\"marker\": {\"color\": \"rgb(26, 118, 255)\"}, \"name\": \"Recovered\", \"type\": \"bar\", \"x\": [\"US\", \"India\", \"Brazil\", \"Russia\", \"Peru\", \"Colombia\", \"Mexico\", \"South Africa\", \"Spain\", \"Argentina\", \"Chile\", \"Iran\", \"France\", \"United Kingdom\", \"Bangladesh\", \"Saudi Arabia\", \"Pakistan\", \"Turkey\", \"Italy\", \"Iraq\", \"Germany\", \"Philippines\", \"Indonesia\", \"Ukraine\", \"Israel\", \"Canada\", \"Bolivia\", \"Qatar\", \"Ecuador\", \"Kazakhstan\", \"Dominican Republic\", \"Egypt\", \"Panama\", \"Romania\", \"Kuwait\"], \"y\": [2387479, 3471783, 3611632, 854069, 536959, 552885, 538514, 569935, 150376, 382490, 399555, 339111, 89242, 1831, 230804, 298966, 287658, 254188, 211272, 209993, 228784, 185543, 145200, 67092, 108354, 119789, 77216, 117746, 102304, 100248, 74305, 80689, 71419, 41002, 82222]}, {\"marker\": {\"color\": \"rgb(200, 20, 25)\"}, \"name\": \"Deaths\", \"type\": \"bar\", \"x\": [\"US\", \"India\", \"Brazil\", \"Russia\", \"Peru\", \"Colombia\", \"Mexico\", \"South Africa\", \"Spain\", \"Argentina\", \"Chile\", \"Iran\", \"France\", \"United Kingdom\", \"Bangladesh\", \"Saudi Arabia\", \"Pakistan\", \"Turkey\", \"Italy\", \"Iraq\", \"Germany\", \"Philippines\", \"Indonesia\", \"Ukraine\", \"Israel\", \"Canada\", \"Bolivia\", \"Qatar\", \"Ecuador\", \"Kazakhstan\", \"Dominican Republic\", \"Egypt\", \"Panama\", \"Romania\", \"Kuwait\"], \"y\": [190859, 75062, 128539, 18080, 30123, 22053, 69049, 15168, 29628, 10658, 11702, 22669, 30805, 41683, 4593, 4165, 6365, 6837, 35577, 7732, 9342, 3986, 8336, 3034, 1054, 9204, 7146, 205, 10701, 1634, 1914, 5577, 2116, 4018, 552]}],\n",
       "                        {\"bargap\": 0.15, \"bargroupgap\": 0.1, \"barmode\": \"group\", \"legend\": {\"bgcolor\": \"rgba(255, 255, 255, 0)\", \"bordercolor\": \"rgba(255, 255, 255, 0)\", \"x\": 1, \"y\": 1.0}, \"template\": {\"data\": {\"bar\": [{\"error_x\": {\"color\": \"#2a3f5f\"}, \"error_y\": {\"color\": \"#2a3f5f\"}, \"marker\": {\"line\": {\"color\": \"#E5ECF6\", \"width\": 0.5}}, \"type\": \"bar\"}], \"barpolar\": [{\"marker\": {\"line\": {\"color\": \"#E5ECF6\", \"width\": 0.5}}, \"type\": \"barpolar\"}], \"carpet\": [{\"aaxis\": {\"endlinecolor\": \"#2a3f5f\", \"gridcolor\": \"white\", \"linecolor\": \"white\", \"minorgridcolor\": \"white\", \"startlinecolor\": \"#2a3f5f\"}, \"baxis\": {\"endlinecolor\": \"#2a3f5f\", \"gridcolor\": \"white\", \"linecolor\": \"white\", \"minorgridcolor\": \"white\", \"startlinecolor\": \"#2a3f5f\"}, \"type\": \"carpet\"}], \"choropleth\": [{\"colorbar\": {\"outlinewidth\": 0, \"ticks\": \"\"}, \"type\": \"choropleth\"}], \"contour\": [{\"colorbar\": {\"outlinewidth\": 0, \"ticks\": \"\"}, \"colorscale\": [[0.0, \"#0d0887\"], [0.1111111111111111, \"#46039f\"], [0.2222222222222222, \"#7201a8\"], [0.3333333333333333, \"#9c179e\"], [0.4444444444444444, \"#bd3786\"], [0.5555555555555556, \"#d8576b\"], [0.6666666666666666, \"#ed7953\"], [0.7777777777777778, \"#fb9f3a\"], [0.8888888888888888, \"#fdca26\"], [1.0, \"#f0f921\"]], \"type\": \"contour\"}], \"contourcarpet\": [{\"colorbar\": {\"outlinewidth\": 0, \"ticks\": \"\"}, \"type\": \"contourcarpet\"}], \"heatmap\": [{\"colorbar\": {\"outlinewidth\": 0, \"ticks\": \"\"}, \"colorscale\": [[0.0, \"#0d0887\"], [0.1111111111111111, \"#46039f\"], [0.2222222222222222, \"#7201a8\"], [0.3333333333333333, \"#9c179e\"], [0.4444444444444444, \"#bd3786\"], [0.5555555555555556, \"#d8576b\"], [0.6666666666666666, \"#ed7953\"], [0.7777777777777778, \"#fb9f3a\"], [0.8888888888888888, \"#fdca26\"], [1.0, \"#f0f921\"]], \"type\": \"heatmap\"}], \"heatmapgl\": [{\"colorbar\": {\"outlinewidth\": 0, \"ticks\": \"\"}, \"colorscale\": [[0.0, \"#0d0887\"], [0.1111111111111111, \"#46039f\"], [0.2222222222222222, \"#7201a8\"], [0.3333333333333333, \"#9c179e\"], [0.4444444444444444, \"#bd3786\"], [0.5555555555555556, \"#d8576b\"], [0.6666666666666666, \"#ed7953\"], [0.7777777777777778, \"#fb9f3a\"], [0.8888888888888888, \"#fdca26\"], [1.0, \"#f0f921\"]], \"type\": \"heatmapgl\"}], \"histogram\": [{\"marker\": {\"colorbar\": {\"outlinewidth\": 0, \"ticks\": \"\"}}, \"type\": \"histogram\"}], \"histogram2d\": [{\"colorbar\": {\"outlinewidth\": 0, \"ticks\": \"\"}, \"colorscale\": [[0.0, \"#0d0887\"], [0.1111111111111111, \"#46039f\"], [0.2222222222222222, \"#7201a8\"], [0.3333333333333333, \"#9c179e\"], [0.4444444444444444, \"#bd3786\"], [0.5555555555555556, \"#d8576b\"], [0.6666666666666666, \"#ed7953\"], [0.7777777777777778, \"#fb9f3a\"], [0.8888888888888888, \"#fdca26\"], [1.0, \"#f0f921\"]], \"type\": \"histogram2d\"}], \"histogram2dcontour\": [{\"colorbar\": {\"outlinewidth\": 0, \"ticks\": \"\"}, \"colorscale\": [[0.0, \"#0d0887\"], [0.1111111111111111, \"#46039f\"], [0.2222222222222222, \"#7201a8\"], [0.3333333333333333, \"#9c179e\"], [0.4444444444444444, \"#bd3786\"], [0.5555555555555556, \"#d8576b\"], [0.6666666666666666, \"#ed7953\"], [0.7777777777777778, \"#fb9f3a\"], [0.8888888888888888, \"#fdca26\"], [1.0, \"#f0f921\"]], \"type\": \"histogram2dcontour\"}], \"mesh3d\": [{\"colorbar\": {\"outlinewidth\": 0, \"ticks\": \"\"}, \"type\": \"mesh3d\"}], \"parcoords\": [{\"line\": {\"colorbar\": {\"outlinewidth\": 0, \"ticks\": \"\"}}, \"type\": \"parcoords\"}], \"pie\": [{\"automargin\": true, \"type\": \"pie\"}], \"scatter\": [{\"marker\": {\"colorbar\": {\"outlinewidth\": 0, \"ticks\": \"\"}}, \"type\": \"scatter\"}], \"scatter3d\": [{\"line\": {\"colorbar\": {\"outlinewidth\": 0, \"ticks\": \"\"}}, \"marker\": {\"colorbar\": {\"outlinewidth\": 0, \"ticks\": \"\"}}, \"type\": \"scatter3d\"}], \"scattercarpet\": [{\"marker\": {\"colorbar\": {\"outlinewidth\": 0, \"ticks\": \"\"}}, \"type\": \"scattercarpet\"}], \"scattergeo\": [{\"marker\": {\"colorbar\": {\"outlinewidth\": 0, \"ticks\": \"\"}}, \"type\": \"scattergeo\"}], \"scattergl\": [{\"marker\": {\"colorbar\": {\"outlinewidth\": 0, \"ticks\": \"\"}}, \"type\": \"scattergl\"}], \"scattermapbox\": [{\"marker\": {\"colorbar\": {\"outlinewidth\": 0, \"ticks\": \"\"}}, \"type\": \"scattermapbox\"}], \"scatterpolar\": [{\"marker\": {\"colorbar\": {\"outlinewidth\": 0, \"ticks\": \"\"}}, \"type\": \"scatterpolar\"}], \"scatterpolargl\": [{\"marker\": {\"colorbar\": {\"outlinewidth\": 0, \"ticks\": \"\"}}, \"type\": \"scatterpolargl\"}], \"scatterternary\": [{\"marker\": {\"colorbar\": {\"outlinewidth\": 0, \"ticks\": \"\"}}, \"type\": \"scatterternary\"}], \"surface\": [{\"colorbar\": {\"outlinewidth\": 0, \"ticks\": \"\"}, \"colorscale\": [[0.0, \"#0d0887\"], [0.1111111111111111, \"#46039f\"], [0.2222222222222222, \"#7201a8\"], [0.3333333333333333, \"#9c179e\"], [0.4444444444444444, \"#bd3786\"], [0.5555555555555556, \"#d8576b\"], [0.6666666666666666, \"#ed7953\"], [0.7777777777777778, \"#fb9f3a\"], [0.8888888888888888, \"#fdca26\"], [1.0, \"#f0f921\"]], \"type\": \"surface\"}], \"table\": [{\"cells\": {\"fill\": {\"color\": \"#EBF0F8\"}, \"line\": {\"color\": \"white\"}}, \"header\": {\"fill\": {\"color\": \"#C8D4E3\"}, \"line\": {\"color\": \"white\"}}, \"type\": \"table\"}]}, \"layout\": {\"annotationdefaults\": {\"arrowcolor\": \"#2a3f5f\", \"arrowhead\": 0, \"arrowwidth\": 1}, \"coloraxis\": {\"colorbar\": {\"outlinewidth\": 0, \"ticks\": \"\"}}, \"colorscale\": {\"diverging\": [[0, \"#8e0152\"], [0.1, \"#c51b7d\"], [0.2, \"#de77ae\"], [0.3, \"#f1b6da\"], [0.4, \"#fde0ef\"], [0.5, \"#f7f7f7\"], [0.6, \"#e6f5d0\"], [0.7, \"#b8e186\"], [0.8, \"#7fbc41\"], [0.9, \"#4d9221\"], [1, \"#276419\"]], \"sequential\": [[0.0, \"#0d0887\"], [0.1111111111111111, \"#46039f\"], [0.2222222222222222, \"#7201a8\"], [0.3333333333333333, \"#9c179e\"], [0.4444444444444444, \"#bd3786\"], [0.5555555555555556, \"#d8576b\"], [0.6666666666666666, \"#ed7953\"], [0.7777777777777778, \"#fb9f3a\"], [0.8888888888888888, \"#fdca26\"], [1.0, \"#f0f921\"]], \"sequentialminus\": [[0.0, \"#0d0887\"], [0.1111111111111111, \"#46039f\"], [0.2222222222222222, \"#7201a8\"], [0.3333333333333333, \"#9c179e\"], [0.4444444444444444, \"#bd3786\"], [0.5555555555555556, \"#d8576b\"], [0.6666666666666666, \"#ed7953\"], [0.7777777777777778, \"#fb9f3a\"], [0.8888888888888888, \"#fdca26\"], [1.0, \"#f0f921\"]]}, \"colorway\": [\"#636efa\", \"#EF553B\", \"#00cc96\", \"#ab63fa\", \"#FFA15A\", \"#19d3f3\", \"#FF6692\", \"#B6E880\", \"#FF97FF\", \"#FECB52\"], \"font\": {\"color\": \"#2a3f5f\"}, \"geo\": {\"bgcolor\": \"white\", \"lakecolor\": \"white\", \"landcolor\": \"#E5ECF6\", \"showlakes\": true, \"showland\": true, \"subunitcolor\": \"white\"}, \"hoverlabel\": {\"align\": \"left\"}, \"hovermode\": \"closest\", \"mapbox\": {\"style\": \"light\"}, \"paper_bgcolor\": \"white\", \"plot_bgcolor\": \"#E5ECF6\", \"polar\": {\"angularaxis\": {\"gridcolor\": \"white\", \"linecolor\": \"white\", \"ticks\": \"\"}, \"bgcolor\": \"#E5ECF6\", \"radialaxis\": {\"gridcolor\": \"white\", \"linecolor\": \"white\", \"ticks\": \"\"}}, \"scene\": {\"xaxis\": {\"backgroundcolor\": \"#E5ECF6\", \"gridcolor\": \"white\", \"gridwidth\": 2, \"linecolor\": \"white\", \"showbackground\": true, \"ticks\": \"\", \"zerolinecolor\": \"white\"}, \"yaxis\": {\"backgroundcolor\": \"#E5ECF6\", \"gridcolor\": \"white\", \"gridwidth\": 2, \"linecolor\": \"white\", \"showbackground\": true, \"ticks\": \"\", \"zerolinecolor\": \"white\"}, \"zaxis\": {\"backgroundcolor\": \"#E5ECF6\", \"gridcolor\": \"white\", \"gridwidth\": 2, \"linecolor\": \"white\", \"showbackground\": true, \"ticks\": \"\", \"zerolinecolor\": \"white\"}}, \"shapedefaults\": {\"line\": {\"color\": \"#2a3f5f\"}}, \"ternary\": {\"aaxis\": {\"gridcolor\": \"white\", \"linecolor\": \"white\", \"ticks\": \"\"}, \"baxis\": {\"gridcolor\": \"white\", \"linecolor\": \"white\", \"ticks\": \"\"}, \"bgcolor\": \"#E5ECF6\", \"caxis\": {\"gridcolor\": \"white\", \"linecolor\": \"white\", \"ticks\": \"\"}}, \"title\": {\"x\": 0.05}, \"xaxis\": {\"automargin\": true, \"gridcolor\": \"white\", \"linecolor\": \"white\", \"ticks\": \"\", \"title\": {\"standoff\": 15}, \"zerolinecolor\": \"white\", \"zerolinewidth\": 2}, \"yaxis\": {\"automargin\": true, \"gridcolor\": \"white\", \"linecolor\": \"white\", \"ticks\": \"\", \"title\": {\"standoff\": 15}, \"zerolinecolor\": \"white\", \"zerolinewidth\": 2}}}, \"title\": {\"text\": \"Total Cases vs. Total Recovered\"}, \"xaxis\": {\"tickfont\": {\"size\": 10}}, \"yaxis\": {\"tickfont\": {\"size\": 14}, \"title\": {\"font\": {\"size\": 16}, \"text\": \"COVID-19 Cases\"}}},\n",
       "                        {\"responsive\": true}\n",
       "                    ).then(function(){\n",
       "                            \n",
       "var gd = document.getElementById('430f63a4-4058-42f8-854b-d7322d3d5949');\n",
       "var x = new MutationObserver(function (mutations, observer) {{\n",
       "        var display = window.getComputedStyle(gd).display;\n",
       "        if (!display || display === 'none') {{\n",
       "            console.log([gd, 'removed!']);\n",
       "            Plotly.purge(gd);\n",
       "            observer.disconnect();\n",
       "        }}\n",
       "}});\n",
       "\n",
       "// Listen for the removal of the full notebook cells\n",
       "var notebookContainer = gd.closest('#notebook-container');\n",
       "if (notebookContainer) {{\n",
       "    x.observe(notebookContainer, {childList: true});\n",
       "}}\n",
       "\n",
       "// Listen for the clearing of the current output cell\n",
       "var outputEl = gd.closest('.output');\n",
       "if (outputEl) {{\n",
       "    x.observe(outputEl, {childList: true});\n",
       "}}\n",
       "\n",
       "                        })\n",
       "                };\n",
       "                });\n",
       "            </script>\n",
       "        </div>"
      ]
     },
     "metadata": {},
     "output_type": "display_data"
    }
   ],
   "source": [
    "fig = go.Figure()\n",
    "\n",
    "fig.add_trace(go.Bar(x=total_new_cases.Country_Region,\n",
    "                y=total_new_cases.Total_Confirmed_Cases,\n",
    "                name='Confirmed',\n",
    "                marker_color='rgb(55, 83, 109)',\n",
    "                #hovertemplate = 'Confirmed:%{y:.2f}',\n",
    "                ))\n",
    "fig.add_trace(go.Bar(x=total_new_cases.Country_Region,\n",
    "                y=total_new_cases.Total_Recovered_Cases,\n",
    "                name='Recovered',\n",
    "                marker_color='rgb(26, 118, 255)'\n",
    "                ))\n",
    "\n",
    "fig.add_trace(go.Bar(x=total_new_cases.Country_Region,\n",
    "                y=total_new_cases.Total_Fatalities,\n",
    "                name='Deaths',\n",
    "                marker_color='rgb(200, 20, 25)'\n",
    "                     \n",
    "                ))\n",
    "\n",
    "fig.update_layout(\n",
    "    title='Total Cases vs. Total Recovered',\n",
    "    xaxis_tickfont_size=10,\n",
    "    yaxis=dict(\n",
    "        title='COVID-19 Cases',\n",
    "        titlefont_size=16,\n",
    "        tickfont_size=14,\n",
    "    ),\n",
    "    legend=dict(\n",
    "        x=1,\n",
    "        y=1.0,\n",
    "        bgcolor='rgba(255, 255, 255, 0)',\n",
    "        bordercolor='rgba(255, 255, 255, 0)'\n",
    "    ),\n",
    "    barmode='group',\n",
    "    bargap=0.15, # gap between bars of adjacent location coordinates.\n",
    "    bargroupgap=0.1 # gap between bars of the same location coordinate.\n",
    ")\n",
    "\n",
    "fig.show()"
   ]
  },
  {
   "cell_type": "markdown",
   "metadata": {},
   "source": [
    "## Compare Rate of Recovery vs Rate of Death for each Country"
   ]
  },
  {
   "cell_type": "code",
   "execution_count": 114,
   "metadata": {},
   "outputs": [],
   "source": [
    "temp = df.groupby('Country_Region')['Country_Region', 'Total_Fatalities', 'Total_Recovered_Cases', \n",
    "                                    'Total_Confirmed_Cases'].max()\n",
    "\n",
    "temp['Rate_of_Deaths'] = round(temp['Total_Fatalities']/temp['Total_Confirmed_Cases'], 3)*100\n",
    "temp['Rate_of_Recovery'] = round(temp['Total_Recovered_Cases']/temp['Total_Confirmed_Cases'], 3)*100\n",
    "\n",
    "temp = temp.sort_values('Total_Confirmed_Cases', ascending=False)\n",
    "\n",
    "temp = temp.head(35)\n",
    "\n",
    "#temp"
   ]
  },
  {
   "cell_type": "code",
   "execution_count": 115,
   "metadata": {},
   "outputs": [
    {
     "data": {
      "application/vnd.plotly.v1+json": {
       "config": {
        "plotlyServerURL": "https://plot.ly"
       },
       "data": [
        {
         "marker": {
          "color": "rgb(0, 20, 20)"
         },
         "mode": "lines",
         "name": "Recovery Rate",
         "type": "scatter",
         "x": [
          "US",
          "India",
          "Brazil",
          "Russia",
          "Peru",
          "Colombia",
          "Mexico",
          "South Africa",
          "Spain",
          "Argentina",
          "Chile",
          "Iran",
          "France",
          "United Kingdom",
          "Bangladesh",
          "Saudi Arabia",
          "Pakistan",
          "Turkey",
          "Italy",
          "Iraq",
          "Germany",
          "Philippines",
          "Indonesia",
          "Ukraine",
          "Israel",
          "Canada",
          "Bolivia",
          "Qatar",
          "Ecuador",
          "Kazakhstan",
          "Dominican Republic",
          "Egypt",
          "Panama",
          "Romania",
          "Kuwait"
         ],
         "y": [
          37.5,
          77.7,
          86,
          82.3,
          77.10000000000001,
          80.5,
          83.2,
          88.7,
          27.700000000000003,
          74.7,
          93.60000000000001,
          86.2,
          23.3,
          0.5,
          69.69999999999999,
          92.60000000000001,
          95.89999999999999,
          89.2,
          75,
          76.7,
          89.2,
          75.7,
          71.39999999999999,
          45.800000000000004,
          76.8,
          88,
          62.6,
          97.39999999999999,
          86.7,
          94.1,
          73.6,
          80.4,
          72.1,
          41.699999999999996,
          89.3
         ]
        },
        {
         "marker": {
          "color": "rgb(255, 0, 0)"
         },
         "mode": "lines",
         "name": "Death Rate",
         "type": "scatter",
         "x": [
          "US",
          "India",
          "Brazil",
          "Russia",
          "Peru",
          "Colombia",
          "Mexico",
          "South Africa",
          "Spain",
          "Argentina",
          "Chile",
          "Iran",
          "France",
          "United Kingdom",
          "Bangladesh",
          "Saudi Arabia",
          "Pakistan",
          "Turkey",
          "Italy",
          "Iraq",
          "Germany",
          "Philippines",
          "Indonesia",
          "Ukraine",
          "Israel",
          "Canada",
          "Bolivia",
          "Qatar",
          "Ecuador",
          "Kazakhstan",
          "Dominican Republic",
          "Egypt",
          "Panama",
          "Romania",
          "Kuwait"
         ],
         "y": [
          3,
          1.7000000000000002,
          3.1,
          1.7000000000000002,
          4.3,
          3.2,
          10.7,
          2.4,
          5.5,
          2.1,
          2.7,
          5.800000000000001,
          8,
          11.700000000000001,
          1.4000000000000001,
          1.3,
          2.1,
          2.4,
          12.6,
          2.8000000000000003,
          3.5999999999999996,
          1.6,
          4.1000000000000005,
          2.1,
          0.7000000000000001,
          6.800000000000001,
          5.800000000000001,
          0.2,
          9.1,
          1.5,
          1.9,
          5.6000000000000005,
          2.1,
          4.1000000000000005,
          0.6
         ]
        }
       ],
       "layout": {
        "template": {
         "data": {
          "bar": [
           {
            "error_x": {
             "color": "#2a3f5f"
            },
            "error_y": {
             "color": "#2a3f5f"
            },
            "marker": {
             "line": {
              "color": "#E5ECF6",
              "width": 0.5
             }
            },
            "type": "bar"
           }
          ],
          "barpolar": [
           {
            "marker": {
             "line": {
              "color": "#E5ECF6",
              "width": 0.5
             }
            },
            "type": "barpolar"
           }
          ],
          "carpet": [
           {
            "aaxis": {
             "endlinecolor": "#2a3f5f",
             "gridcolor": "white",
             "linecolor": "white",
             "minorgridcolor": "white",
             "startlinecolor": "#2a3f5f"
            },
            "baxis": {
             "endlinecolor": "#2a3f5f",
             "gridcolor": "white",
             "linecolor": "white",
             "minorgridcolor": "white",
             "startlinecolor": "#2a3f5f"
            },
            "type": "carpet"
           }
          ],
          "choropleth": [
           {
            "colorbar": {
             "outlinewidth": 0,
             "ticks": ""
            },
            "type": "choropleth"
           }
          ],
          "contour": [
           {
            "colorbar": {
             "outlinewidth": 0,
             "ticks": ""
            },
            "colorscale": [
             [
              0,
              "#0d0887"
             ],
             [
              0.1111111111111111,
              "#46039f"
             ],
             [
              0.2222222222222222,
              "#7201a8"
             ],
             [
              0.3333333333333333,
              "#9c179e"
             ],
             [
              0.4444444444444444,
              "#bd3786"
             ],
             [
              0.5555555555555556,
              "#d8576b"
             ],
             [
              0.6666666666666666,
              "#ed7953"
             ],
             [
              0.7777777777777778,
              "#fb9f3a"
             ],
             [
              0.8888888888888888,
              "#fdca26"
             ],
             [
              1,
              "#f0f921"
             ]
            ],
            "type": "contour"
           }
          ],
          "contourcarpet": [
           {
            "colorbar": {
             "outlinewidth": 0,
             "ticks": ""
            },
            "type": "contourcarpet"
           }
          ],
          "heatmap": [
           {
            "colorbar": {
             "outlinewidth": 0,
             "ticks": ""
            },
            "colorscale": [
             [
              0,
              "#0d0887"
             ],
             [
              0.1111111111111111,
              "#46039f"
             ],
             [
              0.2222222222222222,
              "#7201a8"
             ],
             [
              0.3333333333333333,
              "#9c179e"
             ],
             [
              0.4444444444444444,
              "#bd3786"
             ],
             [
              0.5555555555555556,
              "#d8576b"
             ],
             [
              0.6666666666666666,
              "#ed7953"
             ],
             [
              0.7777777777777778,
              "#fb9f3a"
             ],
             [
              0.8888888888888888,
              "#fdca26"
             ],
             [
              1,
              "#f0f921"
             ]
            ],
            "type": "heatmap"
           }
          ],
          "heatmapgl": [
           {
            "colorbar": {
             "outlinewidth": 0,
             "ticks": ""
            },
            "colorscale": [
             [
              0,
              "#0d0887"
             ],
             [
              0.1111111111111111,
              "#46039f"
             ],
             [
              0.2222222222222222,
              "#7201a8"
             ],
             [
              0.3333333333333333,
              "#9c179e"
             ],
             [
              0.4444444444444444,
              "#bd3786"
             ],
             [
              0.5555555555555556,
              "#d8576b"
             ],
             [
              0.6666666666666666,
              "#ed7953"
             ],
             [
              0.7777777777777778,
              "#fb9f3a"
             ],
             [
              0.8888888888888888,
              "#fdca26"
             ],
             [
              1,
              "#f0f921"
             ]
            ],
            "type": "heatmapgl"
           }
          ],
          "histogram": [
           {
            "marker": {
             "colorbar": {
              "outlinewidth": 0,
              "ticks": ""
             }
            },
            "type": "histogram"
           }
          ],
          "histogram2d": [
           {
            "colorbar": {
             "outlinewidth": 0,
             "ticks": ""
            },
            "colorscale": [
             [
              0,
              "#0d0887"
             ],
             [
              0.1111111111111111,
              "#46039f"
             ],
             [
              0.2222222222222222,
              "#7201a8"
             ],
             [
              0.3333333333333333,
              "#9c179e"
             ],
             [
              0.4444444444444444,
              "#bd3786"
             ],
             [
              0.5555555555555556,
              "#d8576b"
             ],
             [
              0.6666666666666666,
              "#ed7953"
             ],
             [
              0.7777777777777778,
              "#fb9f3a"
             ],
             [
              0.8888888888888888,
              "#fdca26"
             ],
             [
              1,
              "#f0f921"
             ]
            ],
            "type": "histogram2d"
           }
          ],
          "histogram2dcontour": [
           {
            "colorbar": {
             "outlinewidth": 0,
             "ticks": ""
            },
            "colorscale": [
             [
              0,
              "#0d0887"
             ],
             [
              0.1111111111111111,
              "#46039f"
             ],
             [
              0.2222222222222222,
              "#7201a8"
             ],
             [
              0.3333333333333333,
              "#9c179e"
             ],
             [
              0.4444444444444444,
              "#bd3786"
             ],
             [
              0.5555555555555556,
              "#d8576b"
             ],
             [
              0.6666666666666666,
              "#ed7953"
             ],
             [
              0.7777777777777778,
              "#fb9f3a"
             ],
             [
              0.8888888888888888,
              "#fdca26"
             ],
             [
              1,
              "#f0f921"
             ]
            ],
            "type": "histogram2dcontour"
           }
          ],
          "mesh3d": [
           {
            "colorbar": {
             "outlinewidth": 0,
             "ticks": ""
            },
            "type": "mesh3d"
           }
          ],
          "parcoords": [
           {
            "line": {
             "colorbar": {
              "outlinewidth": 0,
              "ticks": ""
             }
            },
            "type": "parcoords"
           }
          ],
          "pie": [
           {
            "automargin": true,
            "type": "pie"
           }
          ],
          "scatter": [
           {
            "marker": {
             "colorbar": {
              "outlinewidth": 0,
              "ticks": ""
             }
            },
            "type": "scatter"
           }
          ],
          "scatter3d": [
           {
            "line": {
             "colorbar": {
              "outlinewidth": 0,
              "ticks": ""
             }
            },
            "marker": {
             "colorbar": {
              "outlinewidth": 0,
              "ticks": ""
             }
            },
            "type": "scatter3d"
           }
          ],
          "scattercarpet": [
           {
            "marker": {
             "colorbar": {
              "outlinewidth": 0,
              "ticks": ""
             }
            },
            "type": "scattercarpet"
           }
          ],
          "scattergeo": [
           {
            "marker": {
             "colorbar": {
              "outlinewidth": 0,
              "ticks": ""
             }
            },
            "type": "scattergeo"
           }
          ],
          "scattergl": [
           {
            "marker": {
             "colorbar": {
              "outlinewidth": 0,
              "ticks": ""
             }
            },
            "type": "scattergl"
           }
          ],
          "scattermapbox": [
           {
            "marker": {
             "colorbar": {
              "outlinewidth": 0,
              "ticks": ""
             }
            },
            "type": "scattermapbox"
           }
          ],
          "scatterpolar": [
           {
            "marker": {
             "colorbar": {
              "outlinewidth": 0,
              "ticks": ""
             }
            },
            "type": "scatterpolar"
           }
          ],
          "scatterpolargl": [
           {
            "marker": {
             "colorbar": {
              "outlinewidth": 0,
              "ticks": ""
             }
            },
            "type": "scatterpolargl"
           }
          ],
          "scatterternary": [
           {
            "marker": {
             "colorbar": {
              "outlinewidth": 0,
              "ticks": ""
             }
            },
            "type": "scatterternary"
           }
          ],
          "surface": [
           {
            "colorbar": {
             "outlinewidth": 0,
             "ticks": ""
            },
            "colorscale": [
             [
              0,
              "#0d0887"
             ],
             [
              0.1111111111111111,
              "#46039f"
             ],
             [
              0.2222222222222222,
              "#7201a8"
             ],
             [
              0.3333333333333333,
              "#9c179e"
             ],
             [
              0.4444444444444444,
              "#bd3786"
             ],
             [
              0.5555555555555556,
              "#d8576b"
             ],
             [
              0.6666666666666666,
              "#ed7953"
             ],
             [
              0.7777777777777778,
              "#fb9f3a"
             ],
             [
              0.8888888888888888,
              "#fdca26"
             ],
             [
              1,
              "#f0f921"
             ]
            ],
            "type": "surface"
           }
          ],
          "table": [
           {
            "cells": {
             "fill": {
              "color": "#EBF0F8"
             },
             "line": {
              "color": "white"
             }
            },
            "header": {
             "fill": {
              "color": "#C8D4E3"
             },
             "line": {
              "color": "white"
             }
            },
            "type": "table"
           }
          ]
         },
         "layout": {
          "annotationdefaults": {
           "arrowcolor": "#2a3f5f",
           "arrowhead": 0,
           "arrowwidth": 1
          },
          "coloraxis": {
           "colorbar": {
            "outlinewidth": 0,
            "ticks": ""
           }
          },
          "colorscale": {
           "diverging": [
            [
             0,
             "#8e0152"
            ],
            [
             0.1,
             "#c51b7d"
            ],
            [
             0.2,
             "#de77ae"
            ],
            [
             0.3,
             "#f1b6da"
            ],
            [
             0.4,
             "#fde0ef"
            ],
            [
             0.5,
             "#f7f7f7"
            ],
            [
             0.6,
             "#e6f5d0"
            ],
            [
             0.7,
             "#b8e186"
            ],
            [
             0.8,
             "#7fbc41"
            ],
            [
             0.9,
             "#4d9221"
            ],
            [
             1,
             "#276419"
            ]
           ],
           "sequential": [
            [
             0,
             "#0d0887"
            ],
            [
             0.1111111111111111,
             "#46039f"
            ],
            [
             0.2222222222222222,
             "#7201a8"
            ],
            [
             0.3333333333333333,
             "#9c179e"
            ],
            [
             0.4444444444444444,
             "#bd3786"
            ],
            [
             0.5555555555555556,
             "#d8576b"
            ],
            [
             0.6666666666666666,
             "#ed7953"
            ],
            [
             0.7777777777777778,
             "#fb9f3a"
            ],
            [
             0.8888888888888888,
             "#fdca26"
            ],
            [
             1,
             "#f0f921"
            ]
           ],
           "sequentialminus": [
            [
             0,
             "#0d0887"
            ],
            [
             0.1111111111111111,
             "#46039f"
            ],
            [
             0.2222222222222222,
             "#7201a8"
            ],
            [
             0.3333333333333333,
             "#9c179e"
            ],
            [
             0.4444444444444444,
             "#bd3786"
            ],
            [
             0.5555555555555556,
             "#d8576b"
            ],
            [
             0.6666666666666666,
             "#ed7953"
            ],
            [
             0.7777777777777778,
             "#fb9f3a"
            ],
            [
             0.8888888888888888,
             "#fdca26"
            ],
            [
             1,
             "#f0f921"
            ]
           ]
          },
          "colorway": [
           "#636efa",
           "#EF553B",
           "#00cc96",
           "#ab63fa",
           "#FFA15A",
           "#19d3f3",
           "#FF6692",
           "#B6E880",
           "#FF97FF",
           "#FECB52"
          ],
          "font": {
           "color": "#2a3f5f"
          },
          "geo": {
           "bgcolor": "white",
           "lakecolor": "white",
           "landcolor": "#E5ECF6",
           "showlakes": true,
           "showland": true,
           "subunitcolor": "white"
          },
          "hoverlabel": {
           "align": "left"
          },
          "hovermode": "closest",
          "mapbox": {
           "style": "light"
          },
          "paper_bgcolor": "white",
          "plot_bgcolor": "#E5ECF6",
          "polar": {
           "angularaxis": {
            "gridcolor": "white",
            "linecolor": "white",
            "ticks": ""
           },
           "bgcolor": "#E5ECF6",
           "radialaxis": {
            "gridcolor": "white",
            "linecolor": "white",
            "ticks": ""
           }
          },
          "scene": {
           "xaxis": {
            "backgroundcolor": "#E5ECF6",
            "gridcolor": "white",
            "gridwidth": 2,
            "linecolor": "white",
            "showbackground": true,
            "ticks": "",
            "zerolinecolor": "white"
           },
           "yaxis": {
            "backgroundcolor": "#E5ECF6",
            "gridcolor": "white",
            "gridwidth": 2,
            "linecolor": "white",
            "showbackground": true,
            "ticks": "",
            "zerolinecolor": "white"
           },
           "zaxis": {
            "backgroundcolor": "#E5ECF6",
            "gridcolor": "white",
            "gridwidth": 2,
            "linecolor": "white",
            "showbackground": true,
            "ticks": "",
            "zerolinecolor": "white"
           }
          },
          "shapedefaults": {
           "line": {
            "color": "#2a3f5f"
           }
          },
          "ternary": {
           "aaxis": {
            "gridcolor": "white",
            "linecolor": "white",
            "ticks": ""
           },
           "baxis": {
            "gridcolor": "white",
            "linecolor": "white",
            "ticks": ""
           },
           "bgcolor": "#E5ECF6",
           "caxis": {
            "gridcolor": "white",
            "linecolor": "white",
            "ticks": ""
           }
          },
          "title": {
           "x": 0.05
          },
          "xaxis": {
           "automargin": true,
           "gridcolor": "white",
           "linecolor": "white",
           "ticks": "",
           "title": {
            "standoff": 15
           },
           "zerolinecolor": "white",
           "zerolinewidth": 2
          },
          "yaxis": {
           "automargin": true,
           "gridcolor": "white",
           "linecolor": "white",
           "ticks": "",
           "title": {
            "standoff": 15
           },
           "zerolinecolor": "white",
           "zerolinewidth": 2
          }
         }
        },
        "title": {
         "text": "Deaths vs Recovery based for the Countries having highest number of Cases"
        },
        "xaxis": {
         "tickfont": {
          "size": 10
         }
        },
        "yaxis": {
         "showline": true,
         "tickfont": {
          "size": 14
         },
         "title": {
          "font": {
           "size": 16
          },
          "text": "Percentage"
         },
         "zeroline": true
        }
       }
      },
      "text/html": [
       "<div>\n",
       "        \n",
       "        \n",
       "            <div id=\"0899501a-80ad-4d98-9f64-62e7e25eb5de\" class=\"plotly-graph-div\" style=\"height:525px; width:100%;\"></div>\n",
       "            <script type=\"text/javascript\">\n",
       "                require([\"plotly\"], function(Plotly) {\n",
       "                    window.PLOTLYENV=window.PLOTLYENV || {};\n",
       "                    \n",
       "                if (document.getElementById(\"0899501a-80ad-4d98-9f64-62e7e25eb5de\")) {\n",
       "                    Plotly.newPlot(\n",
       "                        '0899501a-80ad-4d98-9f64-62e7e25eb5de',\n",
       "                        [{\"marker\": {\"color\": \"rgb(0, 20, 20)\"}, \"mode\": \"lines\", \"name\": \"Recovery Rate\", \"type\": \"scatter\", \"x\": [\"US\", \"India\", \"Brazil\", \"Russia\", \"Peru\", \"Colombia\", \"Mexico\", \"South Africa\", \"Spain\", \"Argentina\", \"Chile\", \"Iran\", \"France\", \"United Kingdom\", \"Bangladesh\", \"Saudi Arabia\", \"Pakistan\", \"Turkey\", \"Italy\", \"Iraq\", \"Germany\", \"Philippines\", \"Indonesia\", \"Ukraine\", \"Israel\", \"Canada\", \"Bolivia\", \"Qatar\", \"Ecuador\", \"Kazakhstan\", \"Dominican Republic\", \"Egypt\", \"Panama\", \"Romania\", \"Kuwait\"], \"y\": [37.5, 77.7, 86.0, 82.3, 77.10000000000001, 80.5, 83.2, 88.7, 27.700000000000003, 74.7, 93.60000000000001, 86.2, 23.3, 0.5, 69.69999999999999, 92.60000000000001, 95.89999999999999, 89.2, 75.0, 76.7, 89.2, 75.7, 71.39999999999999, 45.800000000000004, 76.8, 88.0, 62.6, 97.39999999999999, 86.7, 94.1, 73.6, 80.4, 72.1, 41.699999999999996, 89.3]}, {\"marker\": {\"color\": \"rgb(255, 0, 0)\"}, \"mode\": \"lines\", \"name\": \"Death Rate\", \"type\": \"scatter\", \"x\": [\"US\", \"India\", \"Brazil\", \"Russia\", \"Peru\", \"Colombia\", \"Mexico\", \"South Africa\", \"Spain\", \"Argentina\", \"Chile\", \"Iran\", \"France\", \"United Kingdom\", \"Bangladesh\", \"Saudi Arabia\", \"Pakistan\", \"Turkey\", \"Italy\", \"Iraq\", \"Germany\", \"Philippines\", \"Indonesia\", \"Ukraine\", \"Israel\", \"Canada\", \"Bolivia\", \"Qatar\", \"Ecuador\", \"Kazakhstan\", \"Dominican Republic\", \"Egypt\", \"Panama\", \"Romania\", \"Kuwait\"], \"y\": [3.0, 1.7000000000000002, 3.1, 1.7000000000000002, 4.3, 3.2, 10.7, 2.4, 5.5, 2.1, 2.7, 5.800000000000001, 8.0, 11.700000000000001, 1.4000000000000001, 1.3, 2.1, 2.4, 12.6, 2.8000000000000003, 3.5999999999999996, 1.6, 4.1000000000000005, 2.1, 0.7000000000000001, 6.800000000000001, 5.800000000000001, 0.2, 9.1, 1.5, 1.9, 5.6000000000000005, 2.1, 4.1000000000000005, 0.6]}],\n",
       "                        {\"template\": {\"data\": {\"bar\": [{\"error_x\": {\"color\": \"#2a3f5f\"}, \"error_y\": {\"color\": \"#2a3f5f\"}, \"marker\": {\"line\": {\"color\": \"#E5ECF6\", \"width\": 0.5}}, \"type\": \"bar\"}], \"barpolar\": [{\"marker\": {\"line\": {\"color\": \"#E5ECF6\", \"width\": 0.5}}, \"type\": \"barpolar\"}], \"carpet\": [{\"aaxis\": {\"endlinecolor\": \"#2a3f5f\", \"gridcolor\": \"white\", \"linecolor\": \"white\", \"minorgridcolor\": \"white\", \"startlinecolor\": \"#2a3f5f\"}, \"baxis\": {\"endlinecolor\": \"#2a3f5f\", \"gridcolor\": \"white\", \"linecolor\": \"white\", \"minorgridcolor\": \"white\", \"startlinecolor\": \"#2a3f5f\"}, \"type\": \"carpet\"}], \"choropleth\": [{\"colorbar\": {\"outlinewidth\": 0, \"ticks\": \"\"}, \"type\": \"choropleth\"}], \"contour\": [{\"colorbar\": {\"outlinewidth\": 0, \"ticks\": \"\"}, \"colorscale\": [[0.0, \"#0d0887\"], [0.1111111111111111, \"#46039f\"], [0.2222222222222222, \"#7201a8\"], [0.3333333333333333, \"#9c179e\"], [0.4444444444444444, \"#bd3786\"], [0.5555555555555556, \"#d8576b\"], [0.6666666666666666, \"#ed7953\"], [0.7777777777777778, \"#fb9f3a\"], [0.8888888888888888, \"#fdca26\"], [1.0, \"#f0f921\"]], \"type\": \"contour\"}], \"contourcarpet\": [{\"colorbar\": {\"outlinewidth\": 0, \"ticks\": \"\"}, \"type\": \"contourcarpet\"}], \"heatmap\": [{\"colorbar\": {\"outlinewidth\": 0, \"ticks\": \"\"}, \"colorscale\": [[0.0, \"#0d0887\"], [0.1111111111111111, \"#46039f\"], [0.2222222222222222, \"#7201a8\"], [0.3333333333333333, \"#9c179e\"], [0.4444444444444444, \"#bd3786\"], [0.5555555555555556, \"#d8576b\"], [0.6666666666666666, \"#ed7953\"], [0.7777777777777778, \"#fb9f3a\"], [0.8888888888888888, \"#fdca26\"], [1.0, \"#f0f921\"]], \"type\": \"heatmap\"}], \"heatmapgl\": [{\"colorbar\": {\"outlinewidth\": 0, \"ticks\": \"\"}, \"colorscale\": [[0.0, \"#0d0887\"], [0.1111111111111111, \"#46039f\"], [0.2222222222222222, \"#7201a8\"], [0.3333333333333333, \"#9c179e\"], [0.4444444444444444, \"#bd3786\"], [0.5555555555555556, \"#d8576b\"], [0.6666666666666666, \"#ed7953\"], [0.7777777777777778, \"#fb9f3a\"], [0.8888888888888888, \"#fdca26\"], [1.0, \"#f0f921\"]], \"type\": \"heatmapgl\"}], \"histogram\": [{\"marker\": {\"colorbar\": {\"outlinewidth\": 0, \"ticks\": \"\"}}, \"type\": \"histogram\"}], \"histogram2d\": [{\"colorbar\": {\"outlinewidth\": 0, \"ticks\": \"\"}, \"colorscale\": [[0.0, \"#0d0887\"], [0.1111111111111111, \"#46039f\"], [0.2222222222222222, \"#7201a8\"], [0.3333333333333333, \"#9c179e\"], [0.4444444444444444, \"#bd3786\"], [0.5555555555555556, \"#d8576b\"], [0.6666666666666666, \"#ed7953\"], [0.7777777777777778, \"#fb9f3a\"], [0.8888888888888888, \"#fdca26\"], [1.0, \"#f0f921\"]], \"type\": \"histogram2d\"}], \"histogram2dcontour\": [{\"colorbar\": {\"outlinewidth\": 0, \"ticks\": \"\"}, \"colorscale\": [[0.0, \"#0d0887\"], [0.1111111111111111, \"#46039f\"], [0.2222222222222222, \"#7201a8\"], [0.3333333333333333, \"#9c179e\"], [0.4444444444444444, \"#bd3786\"], [0.5555555555555556, \"#d8576b\"], [0.6666666666666666, \"#ed7953\"], [0.7777777777777778, \"#fb9f3a\"], [0.8888888888888888, \"#fdca26\"], [1.0, \"#f0f921\"]], \"type\": \"histogram2dcontour\"}], \"mesh3d\": [{\"colorbar\": {\"outlinewidth\": 0, \"ticks\": \"\"}, \"type\": \"mesh3d\"}], \"parcoords\": [{\"line\": {\"colorbar\": {\"outlinewidth\": 0, \"ticks\": \"\"}}, \"type\": \"parcoords\"}], \"pie\": [{\"automargin\": true, \"type\": \"pie\"}], \"scatter\": [{\"marker\": {\"colorbar\": {\"outlinewidth\": 0, \"ticks\": \"\"}}, \"type\": \"scatter\"}], \"scatter3d\": [{\"line\": {\"colorbar\": {\"outlinewidth\": 0, \"ticks\": \"\"}}, \"marker\": {\"colorbar\": {\"outlinewidth\": 0, \"ticks\": \"\"}}, \"type\": \"scatter3d\"}], \"scattercarpet\": [{\"marker\": {\"colorbar\": {\"outlinewidth\": 0, \"ticks\": \"\"}}, \"type\": \"scattercarpet\"}], \"scattergeo\": [{\"marker\": {\"colorbar\": {\"outlinewidth\": 0, \"ticks\": \"\"}}, \"type\": \"scattergeo\"}], \"scattergl\": [{\"marker\": {\"colorbar\": {\"outlinewidth\": 0, \"ticks\": \"\"}}, \"type\": \"scattergl\"}], \"scattermapbox\": [{\"marker\": {\"colorbar\": {\"outlinewidth\": 0, \"ticks\": \"\"}}, \"type\": \"scattermapbox\"}], \"scatterpolar\": [{\"marker\": {\"colorbar\": {\"outlinewidth\": 0, \"ticks\": \"\"}}, \"type\": \"scatterpolar\"}], \"scatterpolargl\": [{\"marker\": {\"colorbar\": {\"outlinewidth\": 0, \"ticks\": \"\"}}, \"type\": \"scatterpolargl\"}], \"scatterternary\": [{\"marker\": {\"colorbar\": {\"outlinewidth\": 0, \"ticks\": \"\"}}, \"type\": \"scatterternary\"}], \"surface\": [{\"colorbar\": {\"outlinewidth\": 0, \"ticks\": \"\"}, \"colorscale\": [[0.0, \"#0d0887\"], [0.1111111111111111, \"#46039f\"], [0.2222222222222222, \"#7201a8\"], [0.3333333333333333, \"#9c179e\"], [0.4444444444444444, \"#bd3786\"], [0.5555555555555556, \"#d8576b\"], [0.6666666666666666, \"#ed7953\"], [0.7777777777777778, \"#fb9f3a\"], [0.8888888888888888, \"#fdca26\"], [1.0, \"#f0f921\"]], \"type\": \"surface\"}], \"table\": [{\"cells\": {\"fill\": {\"color\": \"#EBF0F8\"}, \"line\": {\"color\": \"white\"}}, \"header\": {\"fill\": {\"color\": \"#C8D4E3\"}, \"line\": {\"color\": \"white\"}}, \"type\": \"table\"}]}, \"layout\": {\"annotationdefaults\": {\"arrowcolor\": \"#2a3f5f\", \"arrowhead\": 0, \"arrowwidth\": 1}, \"coloraxis\": {\"colorbar\": {\"outlinewidth\": 0, \"ticks\": \"\"}}, \"colorscale\": {\"diverging\": [[0, \"#8e0152\"], [0.1, \"#c51b7d\"], [0.2, \"#de77ae\"], [0.3, \"#f1b6da\"], [0.4, \"#fde0ef\"], [0.5, \"#f7f7f7\"], [0.6, \"#e6f5d0\"], [0.7, \"#b8e186\"], [0.8, \"#7fbc41\"], [0.9, \"#4d9221\"], [1, \"#276419\"]], \"sequential\": [[0.0, \"#0d0887\"], [0.1111111111111111, \"#46039f\"], [0.2222222222222222, \"#7201a8\"], [0.3333333333333333, \"#9c179e\"], [0.4444444444444444, \"#bd3786\"], [0.5555555555555556, \"#d8576b\"], [0.6666666666666666, \"#ed7953\"], [0.7777777777777778, \"#fb9f3a\"], [0.8888888888888888, \"#fdca26\"], [1.0, \"#f0f921\"]], \"sequentialminus\": [[0.0, \"#0d0887\"], [0.1111111111111111, \"#46039f\"], [0.2222222222222222, \"#7201a8\"], [0.3333333333333333, \"#9c179e\"], [0.4444444444444444, \"#bd3786\"], [0.5555555555555556, \"#d8576b\"], [0.6666666666666666, \"#ed7953\"], [0.7777777777777778, \"#fb9f3a\"], [0.8888888888888888, \"#fdca26\"], [1.0, \"#f0f921\"]]}, \"colorway\": [\"#636efa\", \"#EF553B\", \"#00cc96\", \"#ab63fa\", \"#FFA15A\", \"#19d3f3\", \"#FF6692\", \"#B6E880\", \"#FF97FF\", \"#FECB52\"], \"font\": {\"color\": \"#2a3f5f\"}, \"geo\": {\"bgcolor\": \"white\", \"lakecolor\": \"white\", \"landcolor\": \"#E5ECF6\", \"showlakes\": true, \"showland\": true, \"subunitcolor\": \"white\"}, \"hoverlabel\": {\"align\": \"left\"}, \"hovermode\": \"closest\", \"mapbox\": {\"style\": \"light\"}, \"paper_bgcolor\": \"white\", \"plot_bgcolor\": \"#E5ECF6\", \"polar\": {\"angularaxis\": {\"gridcolor\": \"white\", \"linecolor\": \"white\", \"ticks\": \"\"}, \"bgcolor\": \"#E5ECF6\", \"radialaxis\": {\"gridcolor\": \"white\", \"linecolor\": \"white\", \"ticks\": \"\"}}, \"scene\": {\"xaxis\": {\"backgroundcolor\": \"#E5ECF6\", \"gridcolor\": \"white\", \"gridwidth\": 2, \"linecolor\": \"white\", \"showbackground\": true, \"ticks\": \"\", \"zerolinecolor\": \"white\"}, \"yaxis\": {\"backgroundcolor\": \"#E5ECF6\", \"gridcolor\": \"white\", \"gridwidth\": 2, \"linecolor\": \"white\", \"showbackground\": true, \"ticks\": \"\", \"zerolinecolor\": \"white\"}, \"zaxis\": {\"backgroundcolor\": \"#E5ECF6\", \"gridcolor\": \"white\", \"gridwidth\": 2, \"linecolor\": \"white\", \"showbackground\": true, \"ticks\": \"\", \"zerolinecolor\": \"white\"}}, \"shapedefaults\": {\"line\": {\"color\": \"#2a3f5f\"}}, \"ternary\": {\"aaxis\": {\"gridcolor\": \"white\", \"linecolor\": \"white\", \"ticks\": \"\"}, \"baxis\": {\"gridcolor\": \"white\", \"linecolor\": \"white\", \"ticks\": \"\"}, \"bgcolor\": \"#E5ECF6\", \"caxis\": {\"gridcolor\": \"white\", \"linecolor\": \"white\", \"ticks\": \"\"}}, \"title\": {\"x\": 0.05}, \"xaxis\": {\"automargin\": true, \"gridcolor\": \"white\", \"linecolor\": \"white\", \"ticks\": \"\", \"title\": {\"standoff\": 15}, \"zerolinecolor\": \"white\", \"zerolinewidth\": 2}, \"yaxis\": {\"automargin\": true, \"gridcolor\": \"white\", \"linecolor\": \"white\", \"ticks\": \"\", \"title\": {\"standoff\": 15}, \"zerolinecolor\": \"white\", \"zerolinewidth\": 2}}}, \"title\": {\"text\": \"Deaths vs Recovery based for the Countries having highest number of Cases\"}, \"xaxis\": {\"tickfont\": {\"size\": 10}}, \"yaxis\": {\"showline\": true, \"tickfont\": {\"size\": 14}, \"title\": {\"font\": {\"size\": 16}, \"text\": \"Percentage\"}, \"zeroline\": true}},\n",
       "                        {\"responsive\": true}\n",
       "                    ).then(function(){\n",
       "                            \n",
       "var gd = document.getElementById('0899501a-80ad-4d98-9f64-62e7e25eb5de');\n",
       "var x = new MutationObserver(function (mutations, observer) {{\n",
       "        var display = window.getComputedStyle(gd).display;\n",
       "        if (!display || display === 'none') {{\n",
       "            console.log([gd, 'removed!']);\n",
       "            Plotly.purge(gd);\n",
       "            observer.disconnect();\n",
       "        }}\n",
       "}});\n",
       "\n",
       "// Listen for the removal of the full notebook cells\n",
       "var notebookContainer = gd.closest('#notebook-container');\n",
       "if (notebookContainer) {{\n",
       "    x.observe(notebookContainer, {childList: true});\n",
       "}}\n",
       "\n",
       "// Listen for the clearing of the current output cell\n",
       "var outputEl = gd.closest('.output');\n",
       "if (outputEl) {{\n",
       "    x.observe(outputEl, {childList: true});\n",
       "}}\n",
       "\n",
       "                        })\n",
       "                };\n",
       "                });\n",
       "            </script>\n",
       "        </div>"
      ]
     },
     "metadata": {},
     "output_type": "display_data"
    }
   ],
   "source": [
    "fig = go.Figure()\n",
    "\n",
    "fig.add_trace(go.Scatter(x=temp.Country_Region,\n",
    "                         y=temp.Rate_of_Recovery,\n",
    "                         mode='lines',\n",
    "                         name='Recovery Rate',\n",
    "                         marker_color='rgb(0, 20, 20)'))\n",
    "\n",
    "fig.add_trace(go.Scatter(x=total_new_cases.Country_Region,\n",
    "                     y=temp.Rate_of_Deaths,\n",
    "                     mode='lines',\n",
    "                     name='Death Rate',\n",
    "                     marker_color='rgb(255, 0, 0)' ))\n",
    "\n",
    "#data = [trace1, trace2]\n",
    "fig.update_layout(\n",
    "    title='Deaths vs Recovery based for the Countries having highest number of Cases',\n",
    "    xaxis_tickfont_size=10,\n",
    "    yaxis=dict(\n",
    "        title='Percentage',\n",
    "        zeroline = True,\n",
    "        showline = True,\n",
    "        titlefont_size=16,\n",
    "        tickfont_size=14))\n",
    "              \n",
    "#fig = dict(data = data, layout = layo`aaut)\n",
    "\n",
    "#fig.show()"
   ]
  },
  {
   "cell_type": "code",
   "execution_count": null,
   "metadata": {},
   "outputs": [],
   "source": []
  },
  {
   "cell_type": "code",
   "execution_count": null,
   "metadata": {},
   "outputs": [],
   "source": []
  },
  {
   "cell_type": "code",
   "execution_count": null,
   "metadata": {},
   "outputs": [],
   "source": []
  },
  {
   "cell_type": "code",
   "execution_count": null,
   "metadata": {},
   "outputs": [],
   "source": []
  },
  {
   "cell_type": "code",
   "execution_count": null,
   "metadata": {},
   "outputs": [],
   "source": []
  }
 ],
 "metadata": {
  "kernelspec": {
   "display_name": "Python 3",
   "language": "python",
   "name": "python3"
  },
  "language_info": {
   "codemirror_mode": {
    "name": "ipython",
    "version": 3
   },
   "file_extension": ".py",
   "mimetype": "text/x-python",
   "name": "python",
   "nbconvert_exporter": "python",
   "pygments_lexer": "ipython3",
   "version": "3.7.4"
  }
 },
 "nbformat": 4,
 "nbformat_minor": 2
}
